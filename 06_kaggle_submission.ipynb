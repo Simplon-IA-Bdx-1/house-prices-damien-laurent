{
 "cells": [
  {
   "cell_type": "code",
   "execution_count": 52,
   "metadata": {},
   "outputs": [],
   "source": [
    "import kaggle"
   ]
  },
  {
   "cell_type": "markdown",
   "metadata": {},
   "source": [
    "# Envoi du fichier final et récupération du résultat"
   ]
  },
  {
   "cell_type": "code",
   "execution_count": 53,
   "metadata": {},
   "outputs": [],
   "source": [
    "competition = 'house-prices-advanced-regression-techniques'"
   ]
  },
  {
   "cell_type": "code",
   "execution_count": 54,
   "metadata": {},
   "outputs": [],
   "source": [
    "submission_file = \"test_predict.csv\""
   ]
  },
  {
   "cell_type": "code",
   "execution_count": 55,
   "metadata": {},
   "outputs": [
    {
     "name": "stderr",
     "output_type": "stream",
     "text": [
      "100%|██████████████████████████████████████████████████████████████████████████████████████████████████████████████████████████████████████████████████████████████████████| 33.1k/33.1k [00:02<00:00, 12.2kB/s]\n"
     ]
    },
    {
     "data": {
      "text/plain": [
       "Successfully submitted to House Prices: Advanced Regression Techniques"
      ]
     },
     "execution_count": 55,
     "metadata": {},
     "output_type": "execute_result"
    }
   ],
   "source": [
    "kaggle.api.competition_submit(submission_file, \"01-R-randomforest-with-mssub-qual\", competition)"
   ]
  },
  {
   "cell_type": "code",
   "execution_count": 58,
   "metadata": {},
   "outputs": [
    {
     "data": {
      "text/plain": [
       "[{'date': '2019-12-01T17:01:38.14Z',\n",
       "  'description': '01-R-randomforest-with-mssub-qual',\n",
       "  'errorDescription': None,\n",
       "  'fileName': 'test_predict.csv',\n",
       "  'privateScore': None,\n",
       "  'publicScore': '0.15256',\n",
       "  'ref': 13572231,\n",
       "  'status': 'complete',\n",
       "  'submittedBy': 'laurent33',\n",
       "  'submittedByRef': 'laurent33',\n",
       "  'teamName': 'laurent33',\n",
       "  'totalBytes': 33912,\n",
       "  'type': 'standard',\n",
       "  'url': 'https://www.kaggle.com/submissions/13572231/13572231.raw'},\n",
       " {'date': '2019-12-01T16:47:36Z',\n",
       "  'description': '01-R-randomforest-with-corr>0.7kept',\n",
       "  'errorDescription': None,\n",
       "  'fileName': 'test_predict.csv',\n",
       "  'privateScore': None,\n",
       "  'publicScore': '0.15181',\n",
       "  'ref': 13572096,\n",
       "  'status': 'complete',\n",
       "  'submittedBy': 'laurent33',\n",
       "  'submittedByRef': 'laurent33',\n",
       "  'teamName': 'laurent33',\n",
       "  'totalBytes': 33943,\n",
       "  'type': 'standard',\n",
       "  'url': 'https://www.kaggle.com/submissions/13572096/13572096.raw'},\n",
       " {'date': '2019-12-01T16:38:48.077Z',\n",
       "  'description': '01-R-randomforest-with-corr<0.5',\n",
       "  'errorDescription': None,\n",
       "  'fileName': 'test_predict.csv',\n",
       "  'privateScore': None,\n",
       "  'publicScore': '0.18222',\n",
       "  'ref': 13571995,\n",
       "  'status': 'complete',\n",
       "  'submittedBy': 'laurent33',\n",
       "  'submittedByRef': 'laurent33',\n",
       "  'teamName': 'laurent33',\n",
       "  'totalBytes': 34004,\n",
       "  'type': 'standard',\n",
       "  'url': 'https://www.kaggle.com/submissions/13571995/13571995.raw'},\n",
       " {'date': '2019-12-01T16:10:49.343Z',\n",
       "  'description': '01-R-randomforest-with-median',\n",
       "  'errorDescription': None,\n",
       "  'fileName': 'test_predict.csv',\n",
       "  'privateScore': None,\n",
       "  'publicScore': '0.16808',\n",
       "  'ref': 13571754,\n",
       "  'status': 'complete',\n",
       "  'submittedBy': 'laurent33',\n",
       "  'submittedByRef': 'laurent33',\n",
       "  'teamName': 'laurent33',\n",
       "  'totalBytes': 34196,\n",
       "  'type': 'standard',\n",
       "  'url': 'https://www.kaggle.com/submissions/13571754/13571754.raw'},\n",
       " {'date': '2019-12-01T15:42:03.373Z',\n",
       "  'description': '01-R-randomforest',\n",
       "  'errorDescription': None,\n",
       "  'fileName': 'test_predict.csv',\n",
       "  'privateScore': None,\n",
       "  'publicScore': '0.16778',\n",
       "  'ref': 13571477,\n",
       "  'status': 'complete',\n",
       "  'submittedBy': 'laurent33',\n",
       "  'submittedByRef': 'laurent33',\n",
       "  'teamName': 'laurent33',\n",
       "  'totalBytes': 34166,\n",
       "  'type': 'standard',\n",
       "  'url': 'https://www.kaggle.com/submissions/13571477/13571477.raw'},\n",
       " {'date': '2019-12-01T15:20:36.873Z',\n",
       "  'description': '01-R-randomforest',\n",
       "  'errorDescription': None,\n",
       "  'fileName': 'test_predict.csv',\n",
       "  'privateScore': None,\n",
       "  'publicScore': '0.17745',\n",
       "  'ref': 13571240,\n",
       "  'status': 'complete',\n",
       "  'submittedBy': 'laurent33',\n",
       "  'submittedByRef': 'laurent33',\n",
       "  'teamName': 'laurent33',\n",
       "  'totalBytes': 33941,\n",
       "  'type': 'standard',\n",
       "  'url': 'https://www.kaggle.com/submissions/13571240/13571240.raw'},\n",
       " {'date': '2019-12-01T15:08:11.64Z',\n",
       "  'description': '01-R-randomforest',\n",
       "  'errorDescription': 'Evaluation Exception: Submission must have 1459 rows',\n",
       "  'fileName': 'test_predict.csv',\n",
       "  'privateScore': None,\n",
       "  'publicScore': None,\n",
       "  'ref': 13571123,\n",
       "  'status': 'error',\n",
       "  'submittedBy': 'laurent33',\n",
       "  'submittedByRef': 'laurent33',\n",
       "  'teamName': 'laurent33',\n",
       "  'totalBytes': 33202,\n",
       "  'type': 'standard',\n",
       "  'url': 'https://www.kaggle.com/submissions/13571123/13571123.raw'},\n",
       " {'date': '2019-11-27T22:15:26.043Z',\n",
       "  'description': '01-R-randomforest',\n",
       "  'errorDescription': \"ERROR: Could not parse 'NA' into expected type of Double (Line 86, Column 8)\\nERROR: Could not parse 'NA' into expected type of Double (Line 558, Column 8)\\nERROR: Could not parse 'NA' into expected type of Double (Line 823, Column 8)\\nERROR: Could not parse 'NA' into expected type of Double (Line 891, Column 8)\\n\",\n",
       "  'fileName': 'test_predict.csv',\n",
       "  'privateScore': None,\n",
       "  'publicScore': None,\n",
       "  'ref': 13522607,\n",
       "  'status': 'error',\n",
       "  'submittedBy': 'laurent33',\n",
       "  'submittedByRef': 'laurent33',\n",
       "  'teamName': 'laurent33',\n",
       "  'totalBytes': 26797,\n",
       "  'type': 'standard',\n",
       "  'url': 'https://www.kaggle.com/submissions/13522607/13522607.raw'},\n",
       " {'date': '2019-11-27T21:51:14.123Z',\n",
       "  'description': '01-R-randomforest',\n",
       "  'errorDescription': \"ERROR: Column '' was not expected (Line 1, Column 1)\\nERROR: Required column 'Id' could not be found\\n\",\n",
       "  'fileName': 'test_predict.csv',\n",
       "  'privateScore': None,\n",
       "  'publicScore': None,\n",
       "  'ref': 13522371,\n",
       "  'status': 'error',\n",
       "  'submittedBy': 'laurent33',\n",
       "  'submittedByRef': 'laurent33',\n",
       "  'teamName': 'laurent33',\n",
       "  'totalBytes': 26795,\n",
       "  'type': 'standard',\n",
       "  'url': 'https://www.kaggle.com/submissions/13522371/13522371.raw'}]"
      ]
     },
     "execution_count": 58,
     "metadata": {},
     "output_type": "execute_result"
    }
   ],
   "source": [
    "kaggle.api.competitions_submissions_list(competition)"
   ]
  },
  {
   "cell_type": "markdown",
   "metadata": {},
   "source": [
    "# Historiques scores house-prices (top score = 0.07)"
   ]
  },
  {
   "cell_type": "markdown",
   "metadata": {},
   "source": [
    "- score de 0.177 :\n",
    "    - préparation des données sur 100% du Train puis split\n",
    "    - traitement des données manquantes sur Train = suppression des lignes\n",
    "    - modèle entraîné sur 80% Trainfull (score obtenu de 0.138 sur set de validation 20% Train)\n",
    "    - traitement des données manquantes sur Test = mise à 0 si quantitative, 'None' si qualitative\n",
    "        - Pb1 : préparation fait sur 100% du trainfull au lieu de se restreindre au train <br>\n",
    "        - Pb2 : traitements différents sur données d'entraînement et données de test (l'on ne peut pas supprimer d'input sur ce dernier car il faut faire une prédiction)\n",
    "        - Pb3 : variables considées à tort comme quantitatives (MSSubClass)"
   ]
  },
  {
   "cell_type": "markdown",
   "metadata": {},
   "source": [
    "- score de 0.168 => **amélioré**\n",
    "    - préparation des données sur 100% du Train puis split\n",
    "    - traitement des données manquantes sur Train = **mise à 0 si quantitative, 'None' si qualitative**\n",
    "    - modèle entraîné sur 80% Trainfull (score obtenu de **0.152** sur set de validation 20% Train)\n",
    "    \n",
    "        - Pb1 : préparation fait sur 100% du trainfull au lieu de se restreindre au train <br>\n",
    "        - Pb3 : variables considées à tort comme quantitatives (MSSubClass)"
   ]
  },
  {
   "cell_type": "markdown",
   "metadata": {},
   "source": [
    "- score de 0.168 => *pas de changement*\n",
    "    - préparation des données sur 100% du Train puis split\n",
    "    - traitement des données manquantes sur Train = mise à la **médiane** si quantitative, 'None' si qualitative\n",
    "    - modèle entraîné sur 80% Trainfull (score obtenu de **0.155** sur set de validation 20% Train)\n",
    "        - Pb1 : préparation fait sur 100% du trainfull au lieu de se restreindre au train <br>\n",
    "        - Pb3 : variables considées à tort comme quantitatives (MSSubClass)"
   ]
  },
  {
   "cell_type": "markdown",
   "metadata": {},
   "source": [
    "- score de 0.182 => *moins bon*\n",
    "    - préparation des données sur 100% du Train puis split\n",
    "    - traitement des données manquantes sur Train = mise à la médiane si quantitative, 'None' si qualitative\n",
    "    - suppression de 7 features corrélées > **0.5** (au lieu 0.7 précédemment)\n",
    "    - modèle entraîné sur 80% Trainfull (score obtenu de **0.18** sur set de validation 20% Train)\n",
    "        - Pb1 : préparation fait sur 100% du trainfull au lieu de se restreindre au train <br>\n",
    "        - Pb3 : variables considées à tort comme quantitatives (MSSubClass)"
   ]
  },
  {
   "cell_type": "markdown",
   "metadata": {},
   "source": [
    "- score de 0.152 => **amélioré**\n",
    "    - préparation des données sur 100% du Train puis split\n",
    "    - traitement des données manquantes sur Train = mise à la médiane si quantitative, 'None' si qualitative\n",
    "    - les 5 features corrélées > 0.7 **non supprimées**\n",
    "    - modèle entraîné sur 80% Trainfull (score obtenu de **0.14** sur set de validation 20% Train)\n",
    "        - Pb1 : préparation fait sur 100% du trainfull au lieu de se restreindre au train <br>\n",
    "        - Pb3 : variables considées à tort comme quantitatives (MSSubClass)"
   ]
  },
  {
   "cell_type": "markdown",
   "metadata": {},
   "source": [
    "- score de 0.153 => pas d'amélioration\n",
    "    - préparation des données sur 100% du Train puis split\n",
    "    - traitement des données manquantes sur Train = mise à la médiane si quantitative, 'None' si qualitative\n",
    "    - les 5 features corrélées > 0.7 non supprimées\n",
    "    - MSSubClass convertie en variable **qualitative**\n",
    "    - modèle entraîné sur 80% Trainfull (score obtenu de **0.15** sur set de validation 20% Train)\n",
    "        - Pb1 : préparation fait sur 100% du trainfull au lieu de se restreindre au train <br>"
   ]
  },
  {
   "cell_type": "code",
   "execution_count": null,
   "metadata": {},
   "outputs": [],
   "source": []
  }
 ],
 "metadata": {
  "kernelspec": {
   "display_name": "Python 3",
   "language": "python",
   "name": "python3"
  },
  "language_info": {
   "codemirror_mode": {
    "name": "ipython",
    "version": 3
   },
   "file_extension": ".py",
   "mimetype": "text/x-python",
   "name": "python",
   "nbconvert_exporter": "python",
   "pygments_lexer": "ipython3",
   "version": "3.7.3"
  },
  "toc": {
   "base_numbering": 1,
   "nav_menu": {},
   "number_sections": true,
   "sideBar": true,
   "skip_h1_title": false,
   "title_cell": "Table of Contents",
   "title_sidebar": "Contents",
   "toc_cell": false,
   "toc_position": {},
   "toc_section_display": true,
   "toc_window_display": false
  }
 },
 "nbformat": 4,
 "nbformat_minor": 2
}
