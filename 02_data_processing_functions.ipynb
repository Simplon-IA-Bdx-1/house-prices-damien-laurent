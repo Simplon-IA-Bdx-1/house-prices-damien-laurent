{
 "cells": [
  {
   "cell_type": "code",
   "execution_count": 2,
   "metadata": {
    "scrolled": false
   },
   "outputs": [
    {
     "name": "stderr",
     "output_type": "stream",
     "text": [
      "corrplot 0.84 loaded\n",
      "Loading required package: xts\n",
      "Loading required package: zoo\n",
      "\n",
      "Attaching package: ‘zoo’\n",
      "\n",
      "The following objects are masked from ‘package:base’:\n",
      "\n",
      "    as.Date, as.Date.numeric\n",
      "\n",
      "Registered S3 method overwritten by 'xts':\n",
      "  method     from\n",
      "  as.zoo.xts zoo \n",
      "\n",
      "Attaching package: ‘PerformanceAnalytics’\n",
      "\n",
      "The following object is masked from ‘package:graphics’:\n",
      "\n",
      "    legend\n",
      "\n",
      "Registered S3 methods overwritten by 'ggplot2':\n",
      "  method         from \n",
      "  [.quosures     rlang\n",
      "  c.quosures     rlang\n",
      "  print.quosures rlang\n",
      "Welcome! Want to learn more? See two factoextra-related books at https://goo.gl/ve3WBa\n",
      "\n",
      "Attaching package: ‘dplyr’\n",
      "\n",
      "The following objects are masked from ‘package:xts’:\n",
      "\n",
      "    first, last\n",
      "\n",
      "The following objects are masked from ‘package:stats’:\n",
      "\n",
      "    filter, lag\n",
      "\n",
      "The following objects are masked from ‘package:base’:\n",
      "\n",
      "    intersect, setdiff, setequal, union\n",
      "\n",
      "Loading required package: carData\n",
      "\n",
      "Attaching package: ‘car’\n",
      "\n",
      "The following object is masked from ‘package:dplyr’:\n",
      "\n",
      "    recode\n",
      "\n",
      "randomForest 4.6-14\n",
      "Type rfNews() to see new features/changes/bug fixes.\n",
      "\n",
      "Attaching package: ‘randomForest’\n",
      "\n",
      "The following object is masked from ‘package:dplyr’:\n",
      "\n",
      "    combine\n",
      "\n",
      "The following object is masked from ‘package:ggplot2’:\n",
      "\n",
      "    margin\n",
      "\n"
     ]
    }
   ],
   "source": [
    "library(corrplot)\n",
    "library(PerformanceAnalytics)\n",
    "library(ggplot2)\n",
    "library(FactoMineR)\n",
    "library(factoextra)\n",
    "library(dplyr)\n",
    "library(lattice)\n",
    "library(cluster)\n",
    "library(visreg)\n",
    "library(car)\n",
    "library(tidyr)\n",
    "library(caret)\n",
    "library(forcats) # fct_recode function\n",
    "library(repr)    # for figure size\n",
    "library(randomForest)"
   ]
  },
  {
   "cell_type": "code",
   "execution_count": 3,
   "metadata": {},
   "outputs": [],
   "source": [
    "is.Date <- function(x) inherits(x, 'Date')"
   ]
  },
  {
   "cell_type": "code",
   "execution_count": 4,
   "metadata": {
    "scrolled": true
   },
   "outputs": [],
   "source": [
    "# library(summarytools)"
   ]
  },
  {
   "cell_type": "markdown",
   "metadata": {},
   "source": [
    "# Traitement des features"
   ]
  },
  {
   "cell_type": "markdown",
   "metadata": {},
   "source": [
    "## Variables pas vraiment numériques -> conversion en date\n",
    "\n",
    "- YearBuilt\n",
    "- YearRemodAdd\n",
    "- GarageYrBlt\n",
    "- MoSold\n",
    "- YrSold"
   ]
  },
  {
   "cell_type": "code",
   "execution_count": 5,
   "metadata": {},
   "outputs": [
    {
     "ename": "ERROR",
     "evalue": "Error in parse(text = x, srcfile = src): <text>:1:10: unexpected symbol\n1: function date_conversion\n             ^\n",
     "output_type": "error",
     "traceback": [
      "Error in parse(text = x, srcfile = src): <text>:1:10: unexpected symbol\n1: function date_conversion\n             ^\nTraceback:\n"
     ]
    }
   ],
   "source": [
    "function date_conversion(dataframe){\n",
    "    dataframe$YearBuilt <- as.Date(\n",
    "        ISOdate(dataframe[, 'YearBuilt'], 01, 01), format = \"%Y\")\n",
    "    dataframe$YearRemodAdd <- as.Date(\n",
    "        ISOdate(dataframe[, 'YearRemodAdd'], 01, 01), format = \"%Y\")\n",
    "    dataframe$GarageYrBlt <- as.Date(\n",
    "        ISOdate(dataframe[, 'GarageYrBlt'], 01, 01), format = \"%Y\")\n",
    "    dataframe$YrSold <- as.Date(\n",
    "        ISOdate(dataframe[, 'YrSold'], dataframe[, 'MoSold'], 01), format = \"%Y\")\n",
    "\n",
    "    dataframe = select(dataframe, -MoSold)\n",
    "}"
   ]
  },
  {
   "cell_type": "markdown",
   "metadata": {},
   "source": [
    "## Variable non quantitative -> conversion en qualitative"
   ]
  },
  {
   "cell_type": "code",
   "execution_count": null,
   "metadata": {},
   "outputs": [],
   "source": [
    "trainfull$MSSubClass <- factor(trainfull$MSSubClass)"
   ]
  },
  {
   "cell_type": "markdown",
   "metadata": {},
   "source": [
    "## Variables ordinales transformables :\n",
    "\n",
    "|    Feature       |       Levels      | Score Possibilty  |\n",
    "|:-----------------|:-----------------:|:-----------------:|\n",
    "|LotShape                    |irregular -> regular        |1 to 4|\n",
    "|LandContour                 |depression -> flat           |1 to 4|\n",
    "|Utilities                   |electricity only -> all      |1 to 4|\n",
    "|LandSlope                   |sever -> gentle              |1 to 3|\n",
    "|ExterQual                   |poor -> excellent            |1 to 5|\n",
    "|ExterCond                   |poor -> excellent            |1 to 5|\n",
    "|BsmtQual                    |poor -> excellent            |1 to 5|\n",
    "|BsmtCond                    |poor -> excellent            |1 to 5|\n",
    "|BsmtExposure                |no -> good                   |1 to 4|\n",
    "|BsmtFinType1                |unfinished -> good           |1 to 6|\n",
    "|BsmtFinType2                |unfinished -> good           |1 to 6|    \n",
    "|HeatingQC                   |poor -> excellent            |1 to 5|\n",
    "|CentralAir                  |no / yes                     |0 / 1 |\n",
    "|Electrical                  |poor -> standard             |1 to 5|\n",
    "|KitchenQual                 |poor -> excellent            |1 to 5|\n",
    "|Functional                  |salvage -> typical           |1 to 8|\n",
    "|FireplaceQu                 |poor -> excellent            |1 to 5|\n",
    "|GarageFinish                |unfinished -> finshed        |1 to 3|\n",
    "|GarageQual                  |poor -> excellent            |1 to 5|\n",
    "|GarageCond                  |poor -> excellent            |1 to 5|\n",
    "|PavedDrive                  |dirt -> paved                |1 to 3|\n",
    "|PoolQC                      |fair -> excellent            |1 to 4|\n",
    "|Fence                       |none -> good                 |1 to 5|"
   ]
  },
  {
   "cell_type": "code",
   "execution_count": null,
   "metadata": {},
   "outputs": [],
   "source": [
    "function quantitative_conversion(dataframe){\n",
    "    dataframe$LotShape <- dataframe$LotShape %>%\n",
    "        fct_recode('1' = 'IR3', '2' = 'IR2', '3' = 'IR1', '4' = 'Reg')\n",
    "    dataframe$LotShape <- as.numeric(as.character(dataframe$LotShape))\n",
    "    \n",
    "    dataframe$LandContour <- dataframe$LandContour %>%\n",
    "        fct_recode('1' = 'Low', '2' = 'HLS', '3' = 'Bnk', '4' = 'Lvl')\n",
    "    dataframe$LandContour <- as.numeric(as.character(dataframe$LandContour))\n",
    "    \n",
    "    dataframe$Utilities <- dataframe$Utilities %>%\n",
    "        fct_recode('1' = 'ELO', '2' = 'NoSeWa', '3' = 'NoSewr', '4' = 'AllPub')\n",
    "    dataframe$Utilities <- as.numeric(as.character(dataframe$Utilities))\n",
    "    \n",
    "    dataframe$LandSlope <- dataframe$LandSlope %>%\n",
    "        fct_recode('1' = 'Sev', '2' = 'Mod', '3' = 'Gtl')\n",
    "    dataframe$LandSlope <- as.numeric(as.character(dataframe$LandSlope))\n",
    "    \n",
    "    dataframe$ExterQual <- dataframe$ExterQual %>%\n",
    "        fct_recode('1' = 'Po', '2' = 'Fa', '3' = 'TA', '4' = 'Gd', '5' = 'Ex')\n",
    "    dataframe$ExterQual <- as.numeric(as.character(dataframe$ExterQual))\n",
    "    \n",
    "    dataframe$ExterCond <- dataframe$ExterCond %>%\n",
    "        fct_recode('1' = 'Po', '2' = 'Fa', '3' = 'TA', '4' = 'Gd', '5' = 'Ex')\n",
    "    dataframe$ExterCond <- as.numeric(as.character(dataframe$ExterCond))\n",
    "\n",
    "    dataframe$BsmtQual <- dataframe$BsmtQual %>%\n",
    "        fct_recode('1' = 'Po', '2' = 'Fa', '3' = 'TA', '4' = 'Gd', '5' = 'Ex')\n",
    "    dataframe$BsmtQual <- as.numeric(as.character(dataframe$BsmtQual))\n",
    "\n",
    "    dataframe$BsmtCond  <- dataframe$BsmtCond  %>%\n",
    "        fct_recode('1' = 'Po', '2' = 'Fa', '3' = 'TA', '4' = 'Gd', '5' = 'Ex')\n",
    "    dataframe$BsmtCond  <- as.numeric(as.character(dataframe$BsmtCond))\n",
    "\n",
    "    dataframe$BsmtExposure  <- dataframe$BsmtExposure  %>%\n",
    "        fct_recode('1' = 'No', '2' = 'Mn', '3' = 'Av', '4' = 'Gd')\n",
    "    dataframe$BsmtExposure  <- as.numeric(as.character(dataframe$BsmtExposure))\n",
    "\n",
    "    dataframe$BsmtFinType1  <- dataframe$BsmtFinType1  %>%\n",
    "        fct_recode('1' = 'Unf', '2' = 'LwQ', '3' = 'Rec',\n",
    "                   '4' = 'BLQ', '5' = 'ALQ', '6' = 'GLQ')\n",
    "    dataframe$BsmtFinType1  <- as.numeric(as.character(dataframe$BsmtFinType1))\n",
    "\n",
    "    dataframe$BsmtFinType2  <- dataframe$BsmtFinType2  %>%\n",
    "        fct_recode('1' = 'Unf', '2' = 'LwQ', '3' = 'Rec',\n",
    "                   '4' = 'BLQ', '5' = 'ALQ', '6' = 'GLQ')\n",
    "    dataframe$BsmtFinType2  <- as.numeric(as.character(dataframe$BsmtFinType2))\n",
    "\n",
    "    dataframe$HeatingQC  <- dataframe$HeatingQC  %>%\n",
    "        fct_recode('1' = 'Po', '2' = 'Fa', '3' = 'TA', '4' = 'Gd', '5' = 'Ex')\n",
    "    dataframe$HeatingQC  <- as.numeric(as.character(dataframe$HeatingQC))\n",
    "\n",
    "    dataframe$CentralAir  <- dataframe$CentralAir  %>%\n",
    "        fct_recode('0' = 'N', '1' = 'Y')\n",
    "    dataframe$CentralAir  <- as.numeric(as.character(dataframe$CentralAir))\n",
    "\n",
    "    dataframe$Electrical  <- dataframe$Electrical  %>%\n",
    "        fct_recode('1' = 'Mix', '2' = 'FuseP', '3' = 'FuseF', '4' = 'FuseA', '5' = 'SBrkr')\n",
    "    dataframe$Electrical  <- as.numeric(as.character(dataframe$Electrical))\n",
    "\n",
    "    dataframe$KitchenQual  <- dataframe$KitchenQual  %>%\n",
    "        fct_recode('1' = 'Po', '2' = 'Fa', '3' = 'TA', '4' = 'Gd', '5' = 'Ex')\n",
    "    dataframe$KitchenQual  <- as.numeric(as.character(dataframe$KitchenQual))\n",
    "\n",
    "    dataframe$Functional <- dataframe$Functional  %>%\n",
    "        fct_recode('1' = 'Sal', '2' = 'Sev', '3' = 'Maj2', '4' = 'Maj1',\n",
    "                   '5' = 'Mod', '6' = 'Min2', '7' = 'Min1', '8' = 'Typ')\n",
    "    dataframe$Functional <- as.numeric(as.character(dataframe$Functional))\n",
    "\n",
    "    #dataframe$FireplaceQu  <- dataframe$FireplaceQu  %>%\n",
    "    #    fct_recode('1' = 'Po', '2' = 'Fa', '3' = 'TA', '4' = 'Gd', '5' = 'Ex')\n",
    "    #dataframe$FireplaceQu  <- as.numeric(as.character(dataframe$FireplaceQu))\n",
    "\n",
    "    #dataframe$GarageFinish  <- dataframe$GarageFinish  %>%\n",
    "    #    fct_recode('1' = 'Unf', '2' = 'RFn', '3' = 'Fin')\n",
    "    #dataframe$GarageFinish  <- as.numeric(as.character(dataframe$GarageFinish))\n",
    "\n",
    "    dataframe$GarageQual  <- dataframe$GarageQual  %>%\n",
    "        fct_recode('1' = 'Po', '2' = 'Fa', '3' = 'TA', '4' = 'Gd', '5' = 'Ex')\n",
    "    dataframe$GarageQual  <- as.numeric(as.character(dataframe$GarageQual))\n",
    "\n",
    "    dataframe$GarageCond  <- dataframe$GarageCond  %>%\n",
    "        fct_recode('1' = 'Po', '2' = 'Fa', '3' = 'TA', '4' = 'Gd', '5' = 'Ex')\n",
    "    dataframe$GarageCond  <- as.numeric(as.character(dataframe$GarageCond))\n",
    "\n",
    "    dataframe$PavedDrive  <- dataframe$PavedDrive  %>%\n",
    "        fct_recode('1' = 'N', '2' = 'P', '3' = 'Y')\n",
    "    dataframe$PavedDrive  <- as.numeric(as.character(dataframe$PavedDrive))\n",
    "\n",
    "    #dataframe$PoolQC  <- dataframe$PoolQC  %>%\n",
    "    #    fct_recode('1' = 'Po', '2' = 'Fa', '3' = 'TA', '4' = 'Gd', '5' = 'Ex')\n",
    "    #dataframe$PoolQC  <- as.numeric(as.character(dataframe$PoolQC))\n",
    "\n",
    "    #dataframe$Fence  <- dataframe$Fence  %>%\n",
    "    #    fct_recode('1' = 'MnWw', '2' = 'GdWo', '3' = 'MnPrv', '4' = 'GdPrv')\n",
    "    #dataframe$Fence  <- as.numeric(as.character(dataframe$Fence))\n",
    "}"
   ]
  },
  {
   "cell_type": "markdown",
   "metadata": {},
   "source": [
    "## Modalités avec peu de données"
   ]
  },
  {
   "cell_type": "code",
   "execution_count": null,
   "metadata": {},
   "outputs": [],
   "source": [
    "nzv <- nearZeroVar(trainfull, saveMetrics = TRUE)\n",
    "nzv[which(nzv$nzv == TRUE | nzv$zeroVar == TRUE),]"
   ]
  },
  {
   "cell_type": "markdown",
   "metadata": {},
   "source": [
    "## Features avec beaucoup de 0 (3rd quartile = 0)\n",
    "\n",
    "- BsmtFinSF2\n",
    "- LowQualFinSF\n",
    "- EnclosedPorch\n",
    "- X3SsnPorch\n",
    "- ScreenPorch\n",
    "- PoolArea\n",
    "- MiscVal\n",
    "\n",
    "other nearzero alerts\n",
    "\n",
    "- LandContour\n",
    "- LandSlope\n",
    "- BsmtCond\n",
    "- BsmtFinType2\n",
    "- KitchenAbvGr\n",
    "- Functional\n",
    "- GarageQual\n",
    "- GarageCond"
   ]
  },
  {
   "cell_type": "code",
   "execution_count": null,
   "metadata": {},
   "outputs": [],
   "source": [
    "function many_zeros_delete(dataframe){\n",
    "    dataframe <- select(dataframe,\n",
    "                    - BsmtFinSF2,\n",
    "                    - LowQualFinSF,\n",
    "                    - EnclosedPorch,\n",
    "                    - X3SsnPorch,\n",
    "                    - ScreenPorch,\n",
    "                    - PoolArea,\n",
    "                    - MiscVal,\n",
    "                    - LandContour,\n",
    "                    - LandSlope,\n",
    "                    - BsmtCond,\n",
    "                    - BsmtFinType2,\n",
    "                    - KitchenAbvGr,\n",
    "                    - Functional,\n",
    "                    - GarageQual,\n",
    "                    - GarageCond\n",
    "                   )\n",
    "}"
   ]
  },
  {
   "cell_type": "code",
   "execution_count": null,
   "metadata": {},
   "outputs": [],
   "source": []
  },
  {
   "cell_type": "markdown",
   "metadata": {},
   "source": [
    "## Détails \n",
    "\n",
    "\n",
    "|    Feature       |       Modalité    |     Possibilty         |\n",
    "|:-----------------|:-----------------:|:-----------------------|\n",
    "|Street            |gravel = 6         |-> supprimer feature    |\n",
    "|Utilities         |Mode = 1459        |-> supprimer feature    |\n",
    "|LotConfig         |3frontages = 4     |-> supprimer lignes     |\n",
    "|Condition2        |mode = 1445/1460   |-> supprimer feature    |\n",
    "|RoofMatl          |Mode = 1434/1460   |-> RoofMatl 0/1         |\n",
    "|Foundation        |Wood= 3, stone= 6  |-> supprimer lignes     |\n",
    "|Heating           |Mode = 1428/1460   |-> convertir en 0/1     |\n",
    "|Electrical        |Mix=1, fuseP=1     |-> supprimer lignes (finalement conservé car converti en numérique)    |\n",
    "|GarageType        |2Types=6, carport=9|-> supprimer lignes     |\n",
    "|MiscFeature       |Mode = 1406/1460   |-> convertir en 0/1     |\n",
    "|SaleCondition     |AdjLand=4          |-> supprimer lignes     |\n",
    "\n",
    "\n"
   ]
  },
  {
   "cell_type": "code",
   "execution_count": null,
   "metadata": {},
   "outputs": [],
   "source": [
    "# trainfull <- select(trainfull, -Street, -Utilities, -Condition2, -MiscFeature)\n",
    "trainfull <- select(trainfull, -Street, -Utilities, -Condition2)"
   ]
  },
  {
   "cell_type": "code",
   "execution_count": null,
   "metadata": {},
   "outputs": [],
   "source": [
    "#trainfull <- trainfull[-which(trainfull$LotConfig == 'FR3' |\n",
    "#      trainfull$Foundation == 'Wood' | trainfull$Foundation == 'Stone' |\n",
    "#      trainfull$GarageType == '2Types' | trainfull$GarageType == 'carport' |\n",
    "#      trainfull$SaleCondition == 'AdjLand'),]"
   ]
  },
  {
   "cell_type": "code",
   "execution_count": null,
   "metadata": {},
   "outputs": [],
   "source": [
    "trainfull$Heating  <- trainfull$Heating  %>%\n",
    "    fct_recode('0' = 'GasA',\n",
    "               '1' = 'Floor', '1' = 'GasW', '1' = 'Grav',\n",
    "               '1' = 'OthW', '1' = 'Wall')\n",
    "trainfull$Heating  <- as.numeric(as.character(trainfull$Heating))"
   ]
  },
  {
   "cell_type": "code",
   "execution_count": null,
   "metadata": {},
   "outputs": [],
   "source": [
    "trainfull$RoofMatl  <- trainfull$RoofMatl  %>%\n",
    "    fct_recode('0' = 'CompShg',\n",
    "               '1' = 'ClyTile', '1' = 'Membran', '1' = 'Metal',\n",
    "               '1' = 'Roll', '1' = 'Tar&Grv', '1' = 'WdShake', '1' = 'WdShngl')\n",
    "trainfull$RoofMatl  <- as.numeric(as.character(trainfull$RoofMatl))"
   ]
  },
  {
   "cell_type": "code",
   "execution_count": null,
   "metadata": {},
   "outputs": [],
   "source": [
    "levels(trainfull$MiscFeature) <- c(levels(trainfull$MiscFeature), 'None')\n",
    "trainfull$MiscFeature[which(is.na(trainfull$MiscFeature))] <- 'None'\n",
    "trainfull$MiscFeature <- trainfull$MiscFeature  %>%\n",
    "    fct_recode('0' = 'None',\n",
    "               '1' = 'Elev', '1' = 'Gar2', '1' = 'Othr',\n",
    "               '1' = 'Shed', '1' = 'TenC')\n",
    "trainfull$MiscFeature <- as.numeric(as.character(trainfull$MiscFeature))"
   ]
  },
  {
   "cell_type": "code",
   "execution_count": null,
   "metadata": {},
   "outputs": [],
   "source": [
    "for (i in 1:ncol(trainfull)){\n",
    "    na_number <- length(which(is.na(trainfull[, i])))\n",
    "    if (na_number > 0){\n",
    "        cat(na_number, colnames(select(trainfull, i)),'\\n')\n",
    "    }\n",
    "}"
   ]
  },
  {
   "cell_type": "markdown",
   "metadata": {},
   "source": [
    "## Données manquantes\n",
    "\n",
    "|NA's  |Feature      | Possibility |\n",
    "|-----:|:------------|:------------|\n",
    "|  257 |LotFrontage  |-> supprimer lignes\n",
    "| 1350 |Alley        |-> Créer modalité None\n",
    "|    8 |MasVnrType   |-> supprimer\n",
    "|    8 |MasVnrArea   |-> supprimer\n",
    "|   37 |BsmtQual     |-> supprimer\n",
    "|   36 |BsmtCond     |-> supprimer\n",
    "|   37 |BsmtExposure |-> supprimer\n",
    "|   36 |BsmtFinType1 |-> supprimer\n",
    "|   37 |BsmtFinType2 |-> supprimer\n",
    "|    1 |Electrical   |-> supprimer\n",
    "|  673 |FireplaceQu  |-> Créer modalité None\n",
    "|   78 |GarageType   |-> supprimer feature si corrélée à une autre\n",
    "|   78 |GarageYrBlt  |-> mettre la valeur de YearBuilt\n",
    "|   78 |GarageFinish |-> Créer modalité None\n",
    "| 1430 |PoolQC       |-> Créer modalité None\n",
    "| 1161 |Fence        |-> Créer modalité None"
   ]
  },
  {
   "cell_type": "code",
   "execution_count": null,
   "metadata": {},
   "outputs": [],
   "source": [
    "function missing_data_to_none(dataframe){\n",
    "    levels(trainfull$Alley) <- c(levels(trainfull$Alley), 'None')\n",
    "    trainfull$Alley[which(is.na(trainfull$Alley))] <- 'None'\n",
    "\n",
    "    levels(trainfull$FireplaceQu) <- c(levels(trainfull$FireplaceQu), 'None')\n",
    "    trainfull$FireplaceQu[which(is.na(trainfull$FireplaceQu))] <- 'None'\n",
    "\n",
    "    levels(trainfull$GarageType) <- c(levels(trainfull$GarageType), 'None')\n",
    "    trainfull$GarageType[which(is.na(trainfull$GarageType))] <- 'None'\n",
    "\n",
    "    levels(trainfull$GarageFinish) <- c(levels(trainfull$GarageFinish), 'None')\n",
    "    trainfull$GarageFinish[which(is.na(trainfull$GarageFinish))] <- 'None'\n",
    "\n",
    "    levels(trainfull$PoolQC) <- c(levels(trainfull$PoolQC), 'None')\n",
    "    trainfull$PoolQC[which(is.na(trainfull$PoolQC))] <- 'None'\n",
    "\n",
    "    levels(trainfull$Fence) <- c(levels(trainfull$Fence), 'None')\n",
    "    trainfull$Fence[which(is.na(trainfull$Fence))] <- 'None'\n",
    "\n",
    "    #trainfull <- trainfull[which(!is.na(trainfull$LotFrontage)),]\n",
    "    #trainfull <- trainfull[which(!is.na(trainfull$MasVnrType)),]\n",
    "    #trainfull <- trainfull[which(!is.na(trainfull$MasVnrArea)),]\n",
    "    #trainfull <- trainfull[which(!is.na(trainfull$BsmtQual)),]\n",
    "    #trainfull <- trainfull[which(!is.na(trainfull$BsmtExposure)),]\n",
    "    #trainfull <- trainfull[which(!is.na(trainfull$BsmtFinType1)),]\n",
    "    #trainfull <- trainfull[which(!is.na(trainfull$Electrical)),]\n",
    "\n",
    "    NA_lines = which(is.na(trainfull$GarageYrBlt))\n",
    "    trainfull$GarageYrBlt[NA_lines] <- trainfull$YearBuilt[NA_lines]\n",
    "    \n",
    "    trainfull$MasVnrType[which(is.na(trainfull$MasVnrType))] <- 'None'\n",
    "    \n",
    "    \n",
    "}"
   ]
  },
  {
   "cell_type": "markdown",
   "metadata": {},
   "source": [
    "## Remarques :\n",
    "\n",
    "Features avec queue de distribution -> possibilité passer en log (si pas de 0)\n",
    "\n",
    "- BsmtFinSF1\n",
    "- BsmtUNFSF\n",
    "- GrLivArea\n",
    "- GarageArea\n",
    "- LotArea\n",
    "- LotFrontage\n",
    "- MasVnrArea\n",
    "- OpenPorchSF\n",
    "- SalePrice\n",
    "- TotalBsmtSF\n",
    "- WoodDeckSF\n",
    "- X1stFlrSF\n",
    "- X2ndFlrSF"
   ]
  },
  {
   "cell_type": "markdown",
   "metadata": {},
   "source": [
    "\"\"\"\n",
    "trainfull <- trainfull %>%\n",
    "    #mutate(BsmtFinSF1=log(BsmtFinSF1)) %>%\n",
    "    #mutate(BsmtUNFSF=log(BsmtUNFSF)) %>%\n",
    "    mutate_if(GrLivArea=log(GrLivArea)) %>%\n",
    "    mutate(GarageArea=log(GarageArea)) %>%\n",
    "    mutate(LotArea=log(LotArea)) %>%\n",
    "    mutate(LotFrontage=log(LotFrontage)) %>%\n",
    "    mutate(MasVnrArea=log(MasVnrArea)) %>%\n",
    "    mutate(OpenPorchSF=log(OpenPorchSF)) %>%\n",
    "    mutate(SalePrice=log(SalePrice)) %>%\n",
    "    mutate(TotalBsmtSF=log(TotalBsmtSF)) %>%\n",
    "    mutate(WoodDeckSF=log(WoodDeckSF)) %>%\n",
    "    mutate(X1stFlrSF=log(X1stFlrSF)) %>%\n",
    "    mutate(X2ndFlrSF=log(X2ndFlrSF))\n",
    "\"\"\""
   ]
  },
  {
   "cell_type": "markdown",
   "metadata": {},
   "source": [
    "Beaucoup de valeur à 0 qui semblent anormale -> mettre en NA / supprimer lignes / créer nouvelle feature ?\n",
    "- BsmtFinSF1\n",
    "- BsmtFinSF2\n",
    "- MasVnrArea\n",
    "- OpenPorchSF\n",
    "- WoodDeckSF\n",
    "- X2ndFlrSF"
   ]
  }
 ],
 "metadata": {
  "kernelspec": {
   "display_name": "R",
   "language": "R",
   "name": "ir"
  },
  "language_info": {
   "codemirror_mode": "r",
   "file_extension": ".r",
   "mimetype": "text/x-r-source",
   "name": "R",
   "pygments_lexer": "r",
   "version": "3.6.1"
  },
  "toc": {
   "base_numbering": 1,
   "nav_menu": {},
   "number_sections": true,
   "sideBar": true,
   "skip_h1_title": false,
   "title_cell": "Table of Contents",
   "title_sidebar": "Contents",
   "toc_cell": false,
   "toc_position": {
    "height": "calc(100% - 180px)",
    "left": "10px",
    "top": "150px",
    "width": "223.067px"
   },
   "toc_section_display": true,
   "toc_window_display": true
  }
 },
 "nbformat": 4,
 "nbformat_minor": 2
}
