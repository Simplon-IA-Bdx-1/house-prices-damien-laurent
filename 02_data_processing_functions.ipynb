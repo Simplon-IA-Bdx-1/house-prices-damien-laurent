{
 "cells": [
  {
   "cell_type": "code",
   "execution_count": 447,
   "metadata": {
    "scrolled": false
   },
   "outputs": [],
   "source": [
    "library(corrplot)\n",
    "library(PerformanceAnalytics)\n",
    "library(ggplot2)\n",
    "library(FactoMineR)\n",
    "library(factoextra)\n",
    "library(dplyr)\n",
    "library(lattice)\n",
    "library(cluster)\n",
    "library(visreg)\n",
    "library(car)\n",
    "library(tidyr)\n",
    "library(caret)\n",
    "library(forcats) # fct_recode function\n",
    "library(repr)    # for figure size\n",
    "library(randomForest)"
   ]
  },
  {
   "cell_type": "code",
   "execution_count": 448,
   "metadata": {},
   "outputs": [],
   "source": [
    "is.Date <- function(x) inherits(x, 'Date')"
   ]
  },
  {
   "cell_type": "code",
   "execution_count": 449,
   "metadata": {
    "scrolled": true
   },
   "outputs": [],
   "source": [
    "# library(summarytools)"
   ]
  },
  {
   "cell_type": "markdown",
   "metadata": {},
   "source": [
    "# Importation du fichier"
   ]
  },
  {
   "cell_type": "code",
   "execution_count": 450,
   "metadata": {
    "scrolled": true
   },
   "outputs": [],
   "source": [
    "trainfull_origin <- read.csv('origin-trainfull.csv', row.names=1)\n",
    "test_origin <- read.csv('origin-test.csv', row.names=1)\n",
    "trainfull = trainfull_origin"
   ]
  },
  {
   "cell_type": "code",
   "execution_count": 451,
   "metadata": {},
   "outputs": [
    {
     "data": {
      "text/html": [
       "<table>\n",
       "<caption>A data.frame: 6 × 80</caption>\n",
       "<thead>\n",
       "\t<tr><th scope=col>MSSubClass</th><th scope=col>MSZoning</th><th scope=col>LotFrontage</th><th scope=col>LotArea</th><th scope=col>Street</th><th scope=col>Alley</th><th scope=col>LotShape</th><th scope=col>LandContour</th><th scope=col>Utilities</th><th scope=col>LotConfig</th><th scope=col>LandSlope</th><th scope=col>Neighborhood</th><th scope=col>Condition1</th><th scope=col>Condition2</th><th scope=col>BldgType</th><th scope=col>HouseStyle</th><th scope=col>OverallQual</th><th scope=col>OverallCond</th><th scope=col>YearBuilt</th><th scope=col>YearRemodAdd</th><th scope=col>RoofStyle</th><th scope=col>RoofMatl</th><th scope=col>Exterior1st</th><th scope=col>Exterior2nd</th><th scope=col>MasVnrType</th><th scope=col>MasVnrArea</th><th scope=col>ExterQual</th><th scope=col>ExterCond</th><th scope=col>Foundation</th><th scope=col>BsmtQual</th><th scope=col>BsmtCond</th><th scope=col>BsmtExposure</th><th scope=col>BsmtFinType1</th><th scope=col>BsmtFinSF1</th><th scope=col>BsmtFinType2</th><th scope=col>BsmtFinSF2</th><th scope=col>BsmtUnfSF</th><th scope=col>TotalBsmtSF</th><th scope=col>Heating</th><th scope=col>HeatingQC</th><th scope=col>CentralAir</th><th scope=col>Electrical</th><th scope=col>X1stFlrSF</th><th scope=col>X2ndFlrSF</th><th scope=col>LowQualFinSF</th><th scope=col>GrLivArea</th><th scope=col>BsmtFullBath</th><th scope=col>BsmtHalfBath</th><th scope=col>FullBath</th><th scope=col>HalfBath</th><th scope=col>BedroomAbvGr</th><th scope=col>KitchenAbvGr</th><th scope=col>KitchenQual</th><th scope=col>TotRmsAbvGrd</th><th scope=col>Functional</th><th scope=col>Fireplaces</th><th scope=col>FireplaceQu</th><th scope=col>GarageType</th><th scope=col>GarageYrBlt</th><th scope=col>GarageFinish</th><th scope=col>GarageCars</th><th scope=col>GarageArea</th><th scope=col>GarageQual</th><th scope=col>GarageCond</th><th scope=col>PavedDrive</th><th scope=col>WoodDeckSF</th><th scope=col>OpenPorchSF</th><th scope=col>EnclosedPorch</th><th scope=col>X3SsnPorch</th><th scope=col>ScreenPorch</th><th scope=col>PoolArea</th><th scope=col>PoolQC</th><th scope=col>Fence</th><th scope=col>MiscFeature</th><th scope=col>MiscVal</th><th scope=col>MoSold</th><th scope=col>YrSold</th><th scope=col>SaleType</th><th scope=col>SaleCondition</th><th scope=col>SalePrice</th></tr>\n",
       "\t<tr><th scope=col>&lt;int&gt;</th><th scope=col>&lt;fct&gt;</th><th scope=col>&lt;int&gt;</th><th scope=col>&lt;int&gt;</th><th scope=col>&lt;fct&gt;</th><th scope=col>&lt;fct&gt;</th><th scope=col>&lt;fct&gt;</th><th scope=col>&lt;fct&gt;</th><th scope=col>&lt;fct&gt;</th><th scope=col>&lt;fct&gt;</th><th scope=col>&lt;fct&gt;</th><th scope=col>&lt;fct&gt;</th><th scope=col>&lt;fct&gt;</th><th scope=col>&lt;fct&gt;</th><th scope=col>&lt;fct&gt;</th><th scope=col>&lt;fct&gt;</th><th scope=col>&lt;int&gt;</th><th scope=col>&lt;int&gt;</th><th scope=col>&lt;int&gt;</th><th scope=col>&lt;int&gt;</th><th scope=col>&lt;fct&gt;</th><th scope=col>&lt;fct&gt;</th><th scope=col>&lt;fct&gt;</th><th scope=col>&lt;fct&gt;</th><th scope=col>&lt;fct&gt;</th><th scope=col>&lt;int&gt;</th><th scope=col>&lt;fct&gt;</th><th scope=col>&lt;fct&gt;</th><th scope=col>&lt;fct&gt;</th><th scope=col>&lt;fct&gt;</th><th scope=col>&lt;fct&gt;</th><th scope=col>&lt;fct&gt;</th><th scope=col>&lt;fct&gt;</th><th scope=col>&lt;int&gt;</th><th scope=col>&lt;fct&gt;</th><th scope=col>&lt;int&gt;</th><th scope=col>&lt;int&gt;</th><th scope=col>&lt;int&gt;</th><th scope=col>&lt;fct&gt;</th><th scope=col>&lt;fct&gt;</th><th scope=col>&lt;fct&gt;</th><th scope=col>&lt;fct&gt;</th><th scope=col>&lt;int&gt;</th><th scope=col>&lt;int&gt;</th><th scope=col>&lt;int&gt;</th><th scope=col>&lt;int&gt;</th><th scope=col>&lt;int&gt;</th><th scope=col>&lt;int&gt;</th><th scope=col>&lt;int&gt;</th><th scope=col>&lt;int&gt;</th><th scope=col>&lt;int&gt;</th><th scope=col>&lt;int&gt;</th><th scope=col>&lt;fct&gt;</th><th scope=col>&lt;int&gt;</th><th scope=col>&lt;fct&gt;</th><th scope=col>&lt;int&gt;</th><th scope=col>&lt;fct&gt;</th><th scope=col>&lt;fct&gt;</th><th scope=col>&lt;int&gt;</th><th scope=col>&lt;fct&gt;</th><th scope=col>&lt;int&gt;</th><th scope=col>&lt;int&gt;</th><th scope=col>&lt;fct&gt;</th><th scope=col>&lt;fct&gt;</th><th scope=col>&lt;fct&gt;</th><th scope=col>&lt;int&gt;</th><th scope=col>&lt;int&gt;</th><th scope=col>&lt;int&gt;</th><th scope=col>&lt;int&gt;</th><th scope=col>&lt;int&gt;</th><th scope=col>&lt;int&gt;</th><th scope=col>&lt;fct&gt;</th><th scope=col>&lt;fct&gt;</th><th scope=col>&lt;fct&gt;</th><th scope=col>&lt;int&gt;</th><th scope=col>&lt;int&gt;</th><th scope=col>&lt;int&gt;</th><th scope=col>&lt;fct&gt;</th><th scope=col>&lt;fct&gt;</th><th scope=col>&lt;int&gt;</th></tr>\n",
       "</thead>\n",
       "<tbody>\n",
       "\t<tr><td>60</td><td>RL</td><td>65</td><td> 8450</td><td>Pave</td><td>NA</td><td>Reg</td><td>Lvl</td><td>AllPub</td><td>Inside</td><td>Gtl</td><td>CollgCr</td><td>Norm </td><td>Norm</td><td>1Fam</td><td>2Story</td><td>7</td><td>5</td><td>2003</td><td>2003</td><td>Gable</td><td>CompShg</td><td>VinylSd</td><td>VinylSd</td><td>BrkFace</td><td>196</td><td>Gd</td><td>TA</td><td>PConc </td><td>Gd</td><td>TA</td><td>No</td><td>GLQ</td><td>706</td><td>Unf</td><td>0</td><td>150</td><td> 856</td><td>GasA</td><td>Ex</td><td>Y</td><td>SBrkr</td><td> 856</td><td> 854</td><td>0</td><td>1710</td><td>1</td><td>0</td><td>2</td><td>1</td><td>3</td><td>1</td><td>Gd</td><td>8</td><td>Typ</td><td>0</td><td>NA</td><td>Attchd</td><td>2003</td><td>RFn</td><td>2</td><td>548</td><td>TA</td><td>TA</td><td>Y</td><td>  0</td><td>61</td><td>  0</td><td>  0</td><td>0</td><td>0</td><td>NA</td><td>NA   </td><td>NA  </td><td>  0</td><td> 2</td><td>2008</td><td>WD</td><td>Normal </td><td>208500</td></tr>\n",
       "\t<tr><td>20</td><td>RL</td><td>80</td><td> 9600</td><td>Pave</td><td>NA</td><td>Reg</td><td>Lvl</td><td>AllPub</td><td>FR2   </td><td>Gtl</td><td>Veenker</td><td>Feedr</td><td>Norm</td><td>1Fam</td><td>1Story</td><td>6</td><td>8</td><td>1976</td><td>1976</td><td>Gable</td><td>CompShg</td><td>MetalSd</td><td>MetalSd</td><td>None   </td><td>  0</td><td>TA</td><td>TA</td><td>CBlock</td><td>Gd</td><td>TA</td><td>Gd</td><td>ALQ</td><td>978</td><td>Unf</td><td>0</td><td>284</td><td>1262</td><td>GasA</td><td>Ex</td><td>Y</td><td>SBrkr</td><td>1262</td><td>   0</td><td>0</td><td>1262</td><td>0</td><td>1</td><td>2</td><td>0</td><td>3</td><td>1</td><td>TA</td><td>6</td><td>Typ</td><td>1</td><td>TA</td><td>Attchd</td><td>1976</td><td>RFn</td><td>2</td><td>460</td><td>TA</td><td>TA</td><td>Y</td><td>298</td><td> 0</td><td>  0</td><td>  0</td><td>0</td><td>0</td><td>NA</td><td>NA   </td><td>NA  </td><td>  0</td><td> 5</td><td>2007</td><td>WD</td><td>Normal </td><td>181500</td></tr>\n",
       "\t<tr><td>60</td><td>RL</td><td>68</td><td>11250</td><td>Pave</td><td>NA</td><td>IR1</td><td>Lvl</td><td>AllPub</td><td>Inside</td><td>Gtl</td><td>CollgCr</td><td>Norm </td><td>Norm</td><td>1Fam</td><td>2Story</td><td>7</td><td>5</td><td>2001</td><td>2002</td><td>Gable</td><td>CompShg</td><td>VinylSd</td><td>VinylSd</td><td>BrkFace</td><td>162</td><td>Gd</td><td>TA</td><td>PConc </td><td>Gd</td><td>TA</td><td>Mn</td><td>GLQ</td><td>486</td><td>Unf</td><td>0</td><td>434</td><td> 920</td><td>GasA</td><td>Ex</td><td>Y</td><td>SBrkr</td><td> 920</td><td> 866</td><td>0</td><td>1786</td><td>1</td><td>0</td><td>2</td><td>1</td><td>3</td><td>1</td><td>Gd</td><td>6</td><td>Typ</td><td>1</td><td>TA</td><td>Attchd</td><td>2001</td><td>RFn</td><td>2</td><td>608</td><td>TA</td><td>TA</td><td>Y</td><td>  0</td><td>42</td><td>  0</td><td>  0</td><td>0</td><td>0</td><td>NA</td><td>NA   </td><td>NA  </td><td>  0</td><td> 9</td><td>2008</td><td>WD</td><td>Normal </td><td>223500</td></tr>\n",
       "\t<tr><td>70</td><td>RL</td><td>60</td><td> 9550</td><td>Pave</td><td>NA</td><td>IR1</td><td>Lvl</td><td>AllPub</td><td>Corner</td><td>Gtl</td><td>Crawfor</td><td>Norm </td><td>Norm</td><td>1Fam</td><td>2Story</td><td>7</td><td>5</td><td>1915</td><td>1970</td><td>Gable</td><td>CompShg</td><td>Wd Sdng</td><td>Wd Shng</td><td>None   </td><td>  0</td><td>TA</td><td>TA</td><td>BrkTil</td><td>TA</td><td>Gd</td><td>No</td><td>ALQ</td><td>216</td><td>Unf</td><td>0</td><td>540</td><td> 756</td><td>GasA</td><td>Gd</td><td>Y</td><td>SBrkr</td><td> 961</td><td> 756</td><td>0</td><td>1717</td><td>1</td><td>0</td><td>1</td><td>0</td><td>3</td><td>1</td><td>Gd</td><td>7</td><td>Typ</td><td>1</td><td>Gd</td><td>Detchd</td><td>1998</td><td>Unf</td><td>3</td><td>642</td><td>TA</td><td>TA</td><td>Y</td><td>  0</td><td>35</td><td>272</td><td>  0</td><td>0</td><td>0</td><td>NA</td><td>NA   </td><td>NA  </td><td>  0</td><td> 2</td><td>2006</td><td>WD</td><td>Abnorml</td><td>140000</td></tr>\n",
       "\t<tr><td>60</td><td>RL</td><td>84</td><td>14260</td><td>Pave</td><td>NA</td><td>IR1</td><td>Lvl</td><td>AllPub</td><td>FR2   </td><td>Gtl</td><td>NoRidge</td><td>Norm </td><td>Norm</td><td>1Fam</td><td>2Story</td><td>8</td><td>5</td><td>2000</td><td>2000</td><td>Gable</td><td>CompShg</td><td>VinylSd</td><td>VinylSd</td><td>BrkFace</td><td>350</td><td>Gd</td><td>TA</td><td>PConc </td><td>Gd</td><td>TA</td><td>Av</td><td>GLQ</td><td>655</td><td>Unf</td><td>0</td><td>490</td><td>1145</td><td>GasA</td><td>Ex</td><td>Y</td><td>SBrkr</td><td>1145</td><td>1053</td><td>0</td><td>2198</td><td>1</td><td>0</td><td>2</td><td>1</td><td>4</td><td>1</td><td>Gd</td><td>9</td><td>Typ</td><td>1</td><td>TA</td><td>Attchd</td><td>2000</td><td>RFn</td><td>3</td><td>836</td><td>TA</td><td>TA</td><td>Y</td><td>192</td><td>84</td><td>  0</td><td>  0</td><td>0</td><td>0</td><td>NA</td><td>NA   </td><td>NA  </td><td>  0</td><td>12</td><td>2008</td><td>WD</td><td>Normal </td><td>250000</td></tr>\n",
       "\t<tr><td>50</td><td>RL</td><td>85</td><td>14115</td><td>Pave</td><td>NA</td><td>IR1</td><td>Lvl</td><td>AllPub</td><td>Inside</td><td>Gtl</td><td>Mitchel</td><td>Norm </td><td>Norm</td><td>1Fam</td><td>1.5Fin</td><td>5</td><td>5</td><td>1993</td><td>1995</td><td>Gable</td><td>CompShg</td><td>VinylSd</td><td>VinylSd</td><td>None   </td><td>  0</td><td>TA</td><td>TA</td><td>Wood  </td><td>Gd</td><td>TA</td><td>No</td><td>GLQ</td><td>732</td><td>Unf</td><td>0</td><td> 64</td><td> 796</td><td>GasA</td><td>Ex</td><td>Y</td><td>SBrkr</td><td> 796</td><td> 566</td><td>0</td><td>1362</td><td>1</td><td>0</td><td>1</td><td>1</td><td>1</td><td>1</td><td>TA</td><td>5</td><td>Typ</td><td>0</td><td>NA</td><td>Attchd</td><td>1993</td><td>Unf</td><td>2</td><td>480</td><td>TA</td><td>TA</td><td>Y</td><td> 40</td><td>30</td><td>  0</td><td>320</td><td>0</td><td>0</td><td>NA</td><td>MnPrv</td><td>Shed</td><td>700</td><td>10</td><td>2009</td><td>WD</td><td>Normal </td><td>143000</td></tr>\n",
       "</tbody>\n",
       "</table>\n"
      ],
      "text/latex": [
       "A data.frame: 6 × 80\n",
       "\\begin{tabular}{r|llllllllllllllllllllllllllllllllllllllllllllllllllllllllllllllllllllllllllllllll}\n",
       " MSSubClass & MSZoning & LotFrontage & LotArea & Street & Alley & LotShape & LandContour & Utilities & LotConfig & LandSlope & Neighborhood & Condition1 & Condition2 & BldgType & HouseStyle & OverallQual & OverallCond & YearBuilt & YearRemodAdd & RoofStyle & RoofMatl & Exterior1st & Exterior2nd & MasVnrType & MasVnrArea & ExterQual & ExterCond & Foundation & BsmtQual & BsmtCond & BsmtExposure & BsmtFinType1 & BsmtFinSF1 & BsmtFinType2 & BsmtFinSF2 & BsmtUnfSF & TotalBsmtSF & Heating & HeatingQC & CentralAir & Electrical & X1stFlrSF & X2ndFlrSF & LowQualFinSF & GrLivArea & BsmtFullBath & BsmtHalfBath & FullBath & HalfBath & BedroomAbvGr & KitchenAbvGr & KitchenQual & TotRmsAbvGrd & Functional & Fireplaces & FireplaceQu & GarageType & GarageYrBlt & GarageFinish & GarageCars & GarageArea & GarageQual & GarageCond & PavedDrive & WoodDeckSF & OpenPorchSF & EnclosedPorch & X3SsnPorch & ScreenPorch & PoolArea & PoolQC & Fence & MiscFeature & MiscVal & MoSold & YrSold & SaleType & SaleCondition & SalePrice\\\\\n",
       " <int> & <fct> & <int> & <int> & <fct> & <fct> & <fct> & <fct> & <fct> & <fct> & <fct> & <fct> & <fct> & <fct> & <fct> & <fct> & <int> & <int> & <int> & <int> & <fct> & <fct> & <fct> & <fct> & <fct> & <int> & <fct> & <fct> & <fct> & <fct> & <fct> & <fct> & <fct> & <int> & <fct> & <int> & <int> & <int> & <fct> & <fct> & <fct> & <fct> & <int> & <int> & <int> & <int> & <int> & <int> & <int> & <int> & <int> & <int> & <fct> & <int> & <fct> & <int> & <fct> & <fct> & <int> & <fct> & <int> & <int> & <fct> & <fct> & <fct> & <int> & <int> & <int> & <int> & <int> & <int> & <fct> & <fct> & <fct> & <int> & <int> & <int> & <fct> & <fct> & <int>\\\\\n",
       "\\hline\n",
       "\t 60 & RL & 65 &  8450 & Pave & NA & Reg & Lvl & AllPub & Inside & Gtl & CollgCr & Norm  & Norm & 1Fam & 2Story & 7 & 5 & 2003 & 2003 & Gable & CompShg & VinylSd & VinylSd & BrkFace & 196 & Gd & TA & PConc  & Gd & TA & No & GLQ & 706 & Unf & 0 & 150 &  856 & GasA & Ex & Y & SBrkr &  856 &  854 & 0 & 1710 & 1 & 0 & 2 & 1 & 3 & 1 & Gd & 8 & Typ & 0 & NA & Attchd & 2003 & RFn & 2 & 548 & TA & TA & Y &   0 & 61 &   0 &   0 & 0 & 0 & NA & NA    & NA   &   0 &  2 & 2008 & WD & Normal  & 208500\\\\\n",
       "\t 20 & RL & 80 &  9600 & Pave & NA & Reg & Lvl & AllPub & FR2    & Gtl & Veenker & Feedr & Norm & 1Fam & 1Story & 6 & 8 & 1976 & 1976 & Gable & CompShg & MetalSd & MetalSd & None    &   0 & TA & TA & CBlock & Gd & TA & Gd & ALQ & 978 & Unf & 0 & 284 & 1262 & GasA & Ex & Y & SBrkr & 1262 &    0 & 0 & 1262 & 0 & 1 & 2 & 0 & 3 & 1 & TA & 6 & Typ & 1 & TA & Attchd & 1976 & RFn & 2 & 460 & TA & TA & Y & 298 &  0 &   0 &   0 & 0 & 0 & NA & NA    & NA   &   0 &  5 & 2007 & WD & Normal  & 181500\\\\\n",
       "\t 60 & RL & 68 & 11250 & Pave & NA & IR1 & Lvl & AllPub & Inside & Gtl & CollgCr & Norm  & Norm & 1Fam & 2Story & 7 & 5 & 2001 & 2002 & Gable & CompShg & VinylSd & VinylSd & BrkFace & 162 & Gd & TA & PConc  & Gd & TA & Mn & GLQ & 486 & Unf & 0 & 434 &  920 & GasA & Ex & Y & SBrkr &  920 &  866 & 0 & 1786 & 1 & 0 & 2 & 1 & 3 & 1 & Gd & 6 & Typ & 1 & TA & Attchd & 2001 & RFn & 2 & 608 & TA & TA & Y &   0 & 42 &   0 &   0 & 0 & 0 & NA & NA    & NA   &   0 &  9 & 2008 & WD & Normal  & 223500\\\\\n",
       "\t 70 & RL & 60 &  9550 & Pave & NA & IR1 & Lvl & AllPub & Corner & Gtl & Crawfor & Norm  & Norm & 1Fam & 2Story & 7 & 5 & 1915 & 1970 & Gable & CompShg & Wd Sdng & Wd Shng & None    &   0 & TA & TA & BrkTil & TA & Gd & No & ALQ & 216 & Unf & 0 & 540 &  756 & GasA & Gd & Y & SBrkr &  961 &  756 & 0 & 1717 & 1 & 0 & 1 & 0 & 3 & 1 & Gd & 7 & Typ & 1 & Gd & Detchd & 1998 & Unf & 3 & 642 & TA & TA & Y &   0 & 35 & 272 &   0 & 0 & 0 & NA & NA    & NA   &   0 &  2 & 2006 & WD & Abnorml & 140000\\\\\n",
       "\t 60 & RL & 84 & 14260 & Pave & NA & IR1 & Lvl & AllPub & FR2    & Gtl & NoRidge & Norm  & Norm & 1Fam & 2Story & 8 & 5 & 2000 & 2000 & Gable & CompShg & VinylSd & VinylSd & BrkFace & 350 & Gd & TA & PConc  & Gd & TA & Av & GLQ & 655 & Unf & 0 & 490 & 1145 & GasA & Ex & Y & SBrkr & 1145 & 1053 & 0 & 2198 & 1 & 0 & 2 & 1 & 4 & 1 & Gd & 9 & Typ & 1 & TA & Attchd & 2000 & RFn & 3 & 836 & TA & TA & Y & 192 & 84 &   0 &   0 & 0 & 0 & NA & NA    & NA   &   0 & 12 & 2008 & WD & Normal  & 250000\\\\\n",
       "\t 50 & RL & 85 & 14115 & Pave & NA & IR1 & Lvl & AllPub & Inside & Gtl & Mitchel & Norm  & Norm & 1Fam & 1.5Fin & 5 & 5 & 1993 & 1995 & Gable & CompShg & VinylSd & VinylSd & None    &   0 & TA & TA & Wood   & Gd & TA & No & GLQ & 732 & Unf & 0 &  64 &  796 & GasA & Ex & Y & SBrkr &  796 &  566 & 0 & 1362 & 1 & 0 & 1 & 1 & 1 & 1 & TA & 5 & Typ & 0 & NA & Attchd & 1993 & Unf & 2 & 480 & TA & TA & Y &  40 & 30 &   0 & 320 & 0 & 0 & NA & MnPrv & Shed & 700 & 10 & 2009 & WD & Normal  & 143000\\\\\n",
       "\\end{tabular}\n"
      ],
      "text/markdown": [
       "\n",
       "A data.frame: 6 × 80\n",
       "\n",
       "| MSSubClass &lt;int&gt; | MSZoning &lt;fct&gt; | LotFrontage &lt;int&gt; | LotArea &lt;int&gt; | Street &lt;fct&gt; | Alley &lt;fct&gt; | LotShape &lt;fct&gt; | LandContour &lt;fct&gt; | Utilities &lt;fct&gt; | LotConfig &lt;fct&gt; | LandSlope &lt;fct&gt; | Neighborhood &lt;fct&gt; | Condition1 &lt;fct&gt; | Condition2 &lt;fct&gt; | BldgType &lt;fct&gt; | HouseStyle &lt;fct&gt; | OverallQual &lt;int&gt; | OverallCond &lt;int&gt; | YearBuilt &lt;int&gt; | YearRemodAdd &lt;int&gt; | RoofStyle &lt;fct&gt; | RoofMatl &lt;fct&gt; | Exterior1st &lt;fct&gt; | Exterior2nd &lt;fct&gt; | MasVnrType &lt;fct&gt; | MasVnrArea &lt;int&gt; | ExterQual &lt;fct&gt; | ExterCond &lt;fct&gt; | Foundation &lt;fct&gt; | BsmtQual &lt;fct&gt; | BsmtCond &lt;fct&gt; | BsmtExposure &lt;fct&gt; | BsmtFinType1 &lt;fct&gt; | BsmtFinSF1 &lt;int&gt; | BsmtFinType2 &lt;fct&gt; | BsmtFinSF2 &lt;int&gt; | BsmtUnfSF &lt;int&gt; | TotalBsmtSF &lt;int&gt; | Heating &lt;fct&gt; | HeatingQC &lt;fct&gt; | CentralAir &lt;fct&gt; | Electrical &lt;fct&gt; | X1stFlrSF &lt;int&gt; | X2ndFlrSF &lt;int&gt; | LowQualFinSF &lt;int&gt; | GrLivArea &lt;int&gt; | BsmtFullBath &lt;int&gt; | BsmtHalfBath &lt;int&gt; | FullBath &lt;int&gt; | HalfBath &lt;int&gt; | BedroomAbvGr &lt;int&gt; | KitchenAbvGr &lt;int&gt; | KitchenQual &lt;fct&gt; | TotRmsAbvGrd &lt;int&gt; | Functional &lt;fct&gt; | Fireplaces &lt;int&gt; | FireplaceQu &lt;fct&gt; | GarageType &lt;fct&gt; | GarageYrBlt &lt;int&gt; | GarageFinish &lt;fct&gt; | GarageCars &lt;int&gt; | GarageArea &lt;int&gt; | GarageQual &lt;fct&gt; | GarageCond &lt;fct&gt; | PavedDrive &lt;fct&gt; | WoodDeckSF &lt;int&gt; | OpenPorchSF &lt;int&gt; | EnclosedPorch &lt;int&gt; | X3SsnPorch &lt;int&gt; | ScreenPorch &lt;int&gt; | PoolArea &lt;int&gt; | PoolQC &lt;fct&gt; | Fence &lt;fct&gt; | MiscFeature &lt;fct&gt; | MiscVal &lt;int&gt; | MoSold &lt;int&gt; | YrSold &lt;int&gt; | SaleType &lt;fct&gt; | SaleCondition &lt;fct&gt; | SalePrice &lt;int&gt; |\n",
       "|---|---|---|---|---|---|---|---|---|---|---|---|---|---|---|---|---|---|---|---|---|---|---|---|---|---|---|---|---|---|---|---|---|---|---|---|---|---|---|---|---|---|---|---|---|---|---|---|---|---|---|---|---|---|---|---|---|---|---|---|---|---|---|---|---|---|---|---|---|---|---|---|---|---|---|---|---|---|---|---|\n",
       "| 60 | RL | 65 |  8450 | Pave | NA | Reg | Lvl | AllPub | Inside | Gtl | CollgCr | Norm  | Norm | 1Fam | 2Story | 7 | 5 | 2003 | 2003 | Gable | CompShg | VinylSd | VinylSd | BrkFace | 196 | Gd | TA | PConc  | Gd | TA | No | GLQ | 706 | Unf | 0 | 150 |  856 | GasA | Ex | Y | SBrkr |  856 |  854 | 0 | 1710 | 1 | 0 | 2 | 1 | 3 | 1 | Gd | 8 | Typ | 0 | NA | Attchd | 2003 | RFn | 2 | 548 | TA | TA | Y |   0 | 61 |   0 |   0 | 0 | 0 | NA | NA    | NA   |   0 |  2 | 2008 | WD | Normal  | 208500 |\n",
       "| 20 | RL | 80 |  9600 | Pave | NA | Reg | Lvl | AllPub | FR2    | Gtl | Veenker | Feedr | Norm | 1Fam | 1Story | 6 | 8 | 1976 | 1976 | Gable | CompShg | MetalSd | MetalSd | None    |   0 | TA | TA | CBlock | Gd | TA | Gd | ALQ | 978 | Unf | 0 | 284 | 1262 | GasA | Ex | Y | SBrkr | 1262 |    0 | 0 | 1262 | 0 | 1 | 2 | 0 | 3 | 1 | TA | 6 | Typ | 1 | TA | Attchd | 1976 | RFn | 2 | 460 | TA | TA | Y | 298 |  0 |   0 |   0 | 0 | 0 | NA | NA    | NA   |   0 |  5 | 2007 | WD | Normal  | 181500 |\n",
       "| 60 | RL | 68 | 11250 | Pave | NA | IR1 | Lvl | AllPub | Inside | Gtl | CollgCr | Norm  | Norm | 1Fam | 2Story | 7 | 5 | 2001 | 2002 | Gable | CompShg | VinylSd | VinylSd | BrkFace | 162 | Gd | TA | PConc  | Gd | TA | Mn | GLQ | 486 | Unf | 0 | 434 |  920 | GasA | Ex | Y | SBrkr |  920 |  866 | 0 | 1786 | 1 | 0 | 2 | 1 | 3 | 1 | Gd | 6 | Typ | 1 | TA | Attchd | 2001 | RFn | 2 | 608 | TA | TA | Y |   0 | 42 |   0 |   0 | 0 | 0 | NA | NA    | NA   |   0 |  9 | 2008 | WD | Normal  | 223500 |\n",
       "| 70 | RL | 60 |  9550 | Pave | NA | IR1 | Lvl | AllPub | Corner | Gtl | Crawfor | Norm  | Norm | 1Fam | 2Story | 7 | 5 | 1915 | 1970 | Gable | CompShg | Wd Sdng | Wd Shng | None    |   0 | TA | TA | BrkTil | TA | Gd | No | ALQ | 216 | Unf | 0 | 540 |  756 | GasA | Gd | Y | SBrkr |  961 |  756 | 0 | 1717 | 1 | 0 | 1 | 0 | 3 | 1 | Gd | 7 | Typ | 1 | Gd | Detchd | 1998 | Unf | 3 | 642 | TA | TA | Y |   0 | 35 | 272 |   0 | 0 | 0 | NA | NA    | NA   |   0 |  2 | 2006 | WD | Abnorml | 140000 |\n",
       "| 60 | RL | 84 | 14260 | Pave | NA | IR1 | Lvl | AllPub | FR2    | Gtl | NoRidge | Norm  | Norm | 1Fam | 2Story | 8 | 5 | 2000 | 2000 | Gable | CompShg | VinylSd | VinylSd | BrkFace | 350 | Gd | TA | PConc  | Gd | TA | Av | GLQ | 655 | Unf | 0 | 490 | 1145 | GasA | Ex | Y | SBrkr | 1145 | 1053 | 0 | 2198 | 1 | 0 | 2 | 1 | 4 | 1 | Gd | 9 | Typ | 1 | TA | Attchd | 2000 | RFn | 3 | 836 | TA | TA | Y | 192 | 84 |   0 |   0 | 0 | 0 | NA | NA    | NA   |   0 | 12 | 2008 | WD | Normal  | 250000 |\n",
       "| 50 | RL | 85 | 14115 | Pave | NA | IR1 | Lvl | AllPub | Inside | Gtl | Mitchel | Norm  | Norm | 1Fam | 1.5Fin | 5 | 5 | 1993 | 1995 | Gable | CompShg | VinylSd | VinylSd | None    |   0 | TA | TA | Wood   | Gd | TA | No | GLQ | 732 | Unf | 0 |  64 |  796 | GasA | Ex | Y | SBrkr |  796 |  566 | 0 | 1362 | 1 | 0 | 1 | 1 | 1 | 1 | TA | 5 | Typ | 0 | NA | Attchd | 1993 | Unf | 2 | 480 | TA | TA | Y |  40 | 30 |   0 | 320 | 0 | 0 | NA | MnPrv | Shed | 700 | 10 | 2009 | WD | Normal  | 143000 |\n",
       "\n"
      ],
      "text/plain": [
       "  MSSubClass MSZoning LotFrontage LotArea Street Alley LotShape LandContour\n",
       "1 60         RL       65           8450   Pave   NA    Reg      Lvl        \n",
       "2 20         RL       80           9600   Pave   NA    Reg      Lvl        \n",
       "3 60         RL       68          11250   Pave   NA    IR1      Lvl        \n",
       "4 70         RL       60           9550   Pave   NA    IR1      Lvl        \n",
       "5 60         RL       84          14260   Pave   NA    IR1      Lvl        \n",
       "6 50         RL       85          14115   Pave   NA    IR1      Lvl        \n",
       "  Utilities LotConfig LandSlope Neighborhood Condition1 Condition2 BldgType\n",
       "1 AllPub    Inside    Gtl       CollgCr      Norm       Norm       1Fam    \n",
       "2 AllPub    FR2       Gtl       Veenker      Feedr      Norm       1Fam    \n",
       "3 AllPub    Inside    Gtl       CollgCr      Norm       Norm       1Fam    \n",
       "4 AllPub    Corner    Gtl       Crawfor      Norm       Norm       1Fam    \n",
       "5 AllPub    FR2       Gtl       NoRidge      Norm       Norm       1Fam    \n",
       "6 AllPub    Inside    Gtl       Mitchel      Norm       Norm       1Fam    \n",
       "  HouseStyle OverallQual OverallCond YearBuilt YearRemodAdd RoofStyle RoofMatl\n",
       "1 2Story     7           5           2003      2003         Gable     CompShg \n",
       "2 1Story     6           8           1976      1976         Gable     CompShg \n",
       "3 2Story     7           5           2001      2002         Gable     CompShg \n",
       "4 2Story     7           5           1915      1970         Gable     CompShg \n",
       "5 2Story     8           5           2000      2000         Gable     CompShg \n",
       "6 1.5Fin     5           5           1993      1995         Gable     CompShg \n",
       "  Exterior1st Exterior2nd MasVnrType MasVnrArea ExterQual ExterCond Foundation\n",
       "1 VinylSd     VinylSd     BrkFace    196        Gd        TA        PConc     \n",
       "2 MetalSd     MetalSd     None         0        TA        TA        CBlock    \n",
       "3 VinylSd     VinylSd     BrkFace    162        Gd        TA        PConc     \n",
       "4 Wd Sdng     Wd Shng     None         0        TA        TA        BrkTil    \n",
       "5 VinylSd     VinylSd     BrkFace    350        Gd        TA        PConc     \n",
       "6 VinylSd     VinylSd     None         0        TA        TA        Wood      \n",
       "  BsmtQual BsmtCond BsmtExposure BsmtFinType1 BsmtFinSF1 BsmtFinType2\n",
       "1 Gd       TA       No           GLQ          706        Unf         \n",
       "2 Gd       TA       Gd           ALQ          978        Unf         \n",
       "3 Gd       TA       Mn           GLQ          486        Unf         \n",
       "4 TA       Gd       No           ALQ          216        Unf         \n",
       "5 Gd       TA       Av           GLQ          655        Unf         \n",
       "6 Gd       TA       No           GLQ          732        Unf         \n",
       "  BsmtFinSF2 BsmtUnfSF TotalBsmtSF Heating HeatingQC CentralAir Electrical\n",
       "1 0          150        856        GasA    Ex        Y          SBrkr     \n",
       "2 0          284       1262        GasA    Ex        Y          SBrkr     \n",
       "3 0          434        920        GasA    Ex        Y          SBrkr     \n",
       "4 0          540        756        GasA    Gd        Y          SBrkr     \n",
       "5 0          490       1145        GasA    Ex        Y          SBrkr     \n",
       "6 0           64        796        GasA    Ex        Y          SBrkr     \n",
       "  X1stFlrSF X2ndFlrSF LowQualFinSF GrLivArea BsmtFullBath BsmtHalfBath FullBath\n",
       "1  856       854      0            1710      1            0            2       \n",
       "2 1262         0      0            1262      0            1            2       \n",
       "3  920       866      0            1786      1            0            2       \n",
       "4  961       756      0            1717      1            0            1       \n",
       "5 1145      1053      0            2198      1            0            2       \n",
       "6  796       566      0            1362      1            0            1       \n",
       "  HalfBath BedroomAbvGr KitchenAbvGr KitchenQual TotRmsAbvGrd Functional\n",
       "1 1        3            1            Gd          8            Typ       \n",
       "2 0        3            1            TA          6            Typ       \n",
       "3 1        3            1            Gd          6            Typ       \n",
       "4 0        3            1            Gd          7            Typ       \n",
       "5 1        4            1            Gd          9            Typ       \n",
       "6 1        1            1            TA          5            Typ       \n",
       "  Fireplaces FireplaceQu GarageType GarageYrBlt GarageFinish GarageCars\n",
       "1 0          NA          Attchd     2003        RFn          2         \n",
       "2 1          TA          Attchd     1976        RFn          2         \n",
       "3 1          TA          Attchd     2001        RFn          2         \n",
       "4 1          Gd          Detchd     1998        Unf          3         \n",
       "5 1          TA          Attchd     2000        RFn          3         \n",
       "6 0          NA          Attchd     1993        Unf          2         \n",
       "  GarageArea GarageQual GarageCond PavedDrive WoodDeckSF OpenPorchSF\n",
       "1 548        TA         TA         Y            0        61         \n",
       "2 460        TA         TA         Y          298         0         \n",
       "3 608        TA         TA         Y            0        42         \n",
       "4 642        TA         TA         Y            0        35         \n",
       "5 836        TA         TA         Y          192        84         \n",
       "6 480        TA         TA         Y           40        30         \n",
       "  EnclosedPorch X3SsnPorch ScreenPorch PoolArea PoolQC Fence MiscFeature\n",
       "1   0             0        0           0        NA     NA    NA         \n",
       "2   0             0        0           0        NA     NA    NA         \n",
       "3   0             0        0           0        NA     NA    NA         \n",
       "4 272             0        0           0        NA     NA    NA         \n",
       "5   0             0        0           0        NA     NA    NA         \n",
       "6   0           320        0           0        NA     MnPrv Shed       \n",
       "  MiscVal MoSold YrSold SaleType SaleCondition SalePrice\n",
       "1   0      2     2008   WD       Normal        208500   \n",
       "2   0      5     2007   WD       Normal        181500   \n",
       "3   0      9     2008   WD       Normal        223500   \n",
       "4   0      2     2006   WD       Abnorml       140000   \n",
       "5   0     12     2008   WD       Normal        250000   \n",
       "6 700     10     2009   WD       Normal        143000   "
      ]
     },
     "metadata": {},
     "output_type": "display_data"
    }
   ],
   "source": [
    "options(repr.matrix.max.cols=200)\n",
    "head(trainfull)"
   ]
  },
  {
   "cell_type": "code",
   "execution_count": 452,
   "metadata": {},
   "outputs": [
    {
     "name": "stdout",
     "output_type": "stream",
     "text": [
      "nombre d'input :  1460\n",
      "nombre de features :  80"
     ]
    }
   ],
   "source": [
    "cat(\"nombre d'input : \", nrow(trainfull))\n",
    "cat('\\n')\n",
    "cat(\"nombre de features : \", ncol(trainfull))"
   ]
  },
  {
   "cell_type": "markdown",
   "metadata": {},
   "source": [
    "## Rechercher des colonnes quantitatives et catégorielles"
   ]
  },
  {
   "cell_type": "code",
   "execution_count": 453,
   "metadata": {
    "scrolled": true
   },
   "outputs": [
    {
     "name": "stdout",
     "output_type": "stream",
     "text": [
      "nombre de variables quantitatives :  37\n",
      "nombre de variables catégorielles :  43"
     ]
    }
   ],
   "source": [
    "trainfull_quant = select_if(trainfull, is.numeric)\n",
    "trainfull_qual = select_if(trainfull, is.factor)\n",
    "cat('nombre de variables quantitatives : ', ncol(trainfull_quant))\n",
    "cat('\\n')\n",
    "cat('nombre de variables catégorielles : ', ncol(trainfull_qual))"
   ]
  },
  {
   "cell_type": "markdown",
   "metadata": {},
   "source": [
    "## Observation des features"
   ]
  },
  {
   "cell_type": "code",
   "execution_count": 454,
   "metadata": {},
   "outputs": [
    {
     "data": {
      "text/plain": [
       "   MSSubClass       MSZoning     LotFrontage        LotArea        Street    \n",
       " Min.   : 20.0   C (all):  10   Min.   : 21.00   Min.   :  1300   Grvl:   6  \n",
       " 1st Qu.: 20.0   FV     :  65   1st Qu.: 59.00   1st Qu.:  7554   Pave:1454  \n",
       " Median : 50.0   RH     :  16   Median : 69.00   Median :  9478              \n",
       " Mean   : 56.9   RL     :1151   Mean   : 70.05   Mean   : 10517              \n",
       " 3rd Qu.: 70.0   RM     : 218   3rd Qu.: 80.00   3rd Qu.: 11602              \n",
       " Max.   :190.0                  Max.   :313.00   Max.   :215245              \n",
       "                                NA's   :259                                  \n",
       "  Alley      LotShape  LandContour  Utilities      LotConfig    LandSlope \n",
       " Grvl:  50   IR1:484   Bnk:  63    AllPub:1459   Corner : 263   Gtl:1382  \n",
       " Pave:  41   IR2: 41   HLS:  50    NoSeWa:   1   CulDSac:  94   Mod:  65  \n",
       " NA's:1369   IR3: 10   Low:  36                  FR2    :  47   Sev:  13  \n",
       "             Reg:925   Lvl:1311                  FR3    :   4             \n",
       "                                                 Inside :1052             \n",
       "                                                                          \n",
       "                                                                          \n",
       "  Neighborhood   Condition1     Condition2     BldgType      HouseStyle \n",
       " NAmes  :225   Norm   :1260   Norm   :1445   1Fam  :1220   1Story :726  \n",
       " CollgCr:150   Feedr  :  81   Feedr  :   6   2fmCon:  31   2Story :445  \n",
       " OldTown:113   Artery :  48   Artery :   2   Duplex:  52   1.5Fin :154  \n",
       " Edwards:100   RRAn   :  26   PosN   :   2   Twnhs :  43   SLvl   : 65  \n",
       " Somerst: 86   PosN   :  19   RRNn   :   2   TwnhsE: 114   SFoyer : 37  \n",
       " Gilbert: 79   RRAe   :  11   PosA   :   1                 1.5Unf : 14  \n",
       " (Other):707   (Other):  15   (Other):   2                 (Other): 19  \n",
       "  OverallQual      OverallCond      YearBuilt     YearRemodAdd    RoofStyle   \n",
       " Min.   : 1.000   Min.   :1.000   Min.   :1872   Min.   :1950   Flat   :  13  \n",
       " 1st Qu.: 5.000   1st Qu.:5.000   1st Qu.:1954   1st Qu.:1967   Gable  :1141  \n",
       " Median : 6.000   Median :5.000   Median :1973   Median :1994   Gambrel:  11  \n",
       " Mean   : 6.099   Mean   :5.575   Mean   :1971   Mean   :1985   Hip    : 286  \n",
       " 3rd Qu.: 7.000   3rd Qu.:6.000   3rd Qu.:2000   3rd Qu.:2004   Mansard:   7  \n",
       " Max.   :10.000   Max.   :9.000   Max.   :2010   Max.   :2010   Shed   :   2  \n",
       "                                                                              \n",
       "    RoofMatl     Exterior1st   Exterior2nd    MasVnrType    MasVnrArea    \n",
       " CompShg:1434   VinylSd:515   VinylSd:504   BrkCmn : 15   Min.   :   0.0  \n",
       " Tar&Grv:  11   HdBoard:222   MetalSd:214   BrkFace:445   1st Qu.:   0.0  \n",
       " WdShngl:   6   MetalSd:220   HdBoard:207   None   :864   Median :   0.0  \n",
       " WdShake:   5   Wd Sdng:206   Wd Sdng:197   Stone  :128   Mean   : 103.7  \n",
       " ClyTile:   1   Plywood:108   Plywood:142   NA's   :  8   3rd Qu.: 166.0  \n",
       " Membran:   1   CemntBd: 61   CmentBd: 60                 Max.   :1600.0  \n",
       " (Other):   2   (Other):128   (Other):136                 NA's   :8       \n",
       " ExterQual ExterCond  Foundation  BsmtQual   BsmtCond    BsmtExposure\n",
       " Ex: 52    Ex:   3   BrkTil:146   Ex  :121   Fa  :  45   Av  :221    \n",
       " Fa: 14    Fa:  28   CBlock:634   Fa  : 35   Gd  :  65   Gd  :134    \n",
       " Gd:488    Gd: 146   PConc :647   Gd  :618   Po  :   2   Mn  :114    \n",
       " TA:906    Po:   1   Slab  : 24   TA  :649   TA  :1311   No  :953    \n",
       "           TA:1282   Stone :  6   NA's: 37   NA's:  37   NA's: 38    \n",
       "                     Wood  :  3                                      \n",
       "                                                                     \n",
       " BsmtFinType1   BsmtFinSF1     BsmtFinType2   BsmtFinSF2        BsmtUnfSF     \n",
       " ALQ :220     Min.   :   0.0   ALQ :  19    Min.   :   0.00   Min.   :   0.0  \n",
       " BLQ :148     1st Qu.:   0.0   BLQ :  33    1st Qu.:   0.00   1st Qu.: 223.0  \n",
       " GLQ :418     Median : 383.5   GLQ :  14    Median :   0.00   Median : 477.5  \n",
       " LwQ : 74     Mean   : 443.6   LwQ :  46    Mean   :  46.55   Mean   : 567.2  \n",
       " Rec :133     3rd Qu.: 712.2   Rec :  54    3rd Qu.:   0.00   3rd Qu.: 808.0  \n",
       " Unf :430     Max.   :5644.0   Unf :1256    Max.   :1474.00   Max.   :2336.0  \n",
       " NA's: 37                      NA's:  38                                      \n",
       "  TotalBsmtSF      Heating     HeatingQC CentralAir Electrical     X1stFlrSF   \n",
       " Min.   :   0.0   Floor:   1   Ex:741    N:  95     FuseA:  94   Min.   : 334  \n",
       " 1st Qu.: 795.8   GasA :1428   Fa: 49    Y:1365     FuseF:  27   1st Qu.: 882  \n",
       " Median : 991.5   GasW :  18   Gd:241               FuseP:   3   Median :1087  \n",
       " Mean   :1057.4   Grav :   7   Po:  1               Mix  :   1   Mean   :1163  \n",
       " 3rd Qu.:1298.2   OthW :   2   TA:428               SBrkr:1334   3rd Qu.:1391  \n",
       " Max.   :6110.0   Wall :   4                        NA's :   1   Max.   :4692  \n",
       "                                                                               \n",
       "   X2ndFlrSF     LowQualFinSF       GrLivArea     BsmtFullBath   \n",
       " Min.   :   0   Min.   :  0.000   Min.   : 334   Min.   :0.0000  \n",
       " 1st Qu.:   0   1st Qu.:  0.000   1st Qu.:1130   1st Qu.:0.0000  \n",
       " Median :   0   Median :  0.000   Median :1464   Median :0.0000  \n",
       " Mean   : 347   Mean   :  5.845   Mean   :1515   Mean   :0.4253  \n",
       " 3rd Qu.: 728   3rd Qu.:  0.000   3rd Qu.:1777   3rd Qu.:1.0000  \n",
       " Max.   :2065   Max.   :572.000   Max.   :5642   Max.   :3.0000  \n",
       "                                                                 \n",
       "  BsmtHalfBath        FullBath        HalfBath       BedroomAbvGr  \n",
       " Min.   :0.00000   Min.   :0.000   Min.   :0.0000   Min.   :0.000  \n",
       " 1st Qu.:0.00000   1st Qu.:1.000   1st Qu.:0.0000   1st Qu.:2.000  \n",
       " Median :0.00000   Median :2.000   Median :0.0000   Median :3.000  \n",
       " Mean   :0.05753   Mean   :1.565   Mean   :0.3829   Mean   :2.866  \n",
       " 3rd Qu.:0.00000   3rd Qu.:2.000   3rd Qu.:1.0000   3rd Qu.:3.000  \n",
       " Max.   :2.00000   Max.   :3.000   Max.   :2.0000   Max.   :8.000  \n",
       "                                                                   \n",
       "  KitchenAbvGr   KitchenQual  TotRmsAbvGrd    Functional    Fireplaces   \n",
       " Min.   :0.000   Ex:100      Min.   : 2.000   Maj1:  14   Min.   :0.000  \n",
       " 1st Qu.:1.000   Fa: 39      1st Qu.: 5.000   Maj2:   5   1st Qu.:0.000  \n",
       " Median :1.000   Gd:586      Median : 6.000   Min1:  31   Median :1.000  \n",
       " Mean   :1.047   TA:735      Mean   : 6.518   Min2:  34   Mean   :0.613  \n",
       " 3rd Qu.:1.000               3rd Qu.: 7.000   Mod :  15   3rd Qu.:1.000  \n",
       " Max.   :3.000               Max.   :14.000   Sev :   1   Max.   :3.000  \n",
       "                                              Typ :1360                  \n",
       " FireplaceQu   GarageType   GarageYrBlt   GarageFinish   GarageCars   \n",
       " Ex  : 24    2Types :  6   Min.   :1900   Fin :352     Min.   :0.000  \n",
       " Fa  : 33    Attchd :870   1st Qu.:1961   RFn :422     1st Qu.:1.000  \n",
       " Gd  :380    Basment: 19   Median :1980   Unf :605     Median :2.000  \n",
       " Po  : 20    BuiltIn: 88   Mean   :1979   NA's: 81     Mean   :1.767  \n",
       " TA  :313    CarPort:  9   3rd Qu.:2002                3rd Qu.:2.000  \n",
       " NA's:690    Detchd :387   Max.   :2010                Max.   :4.000  \n",
       "             NA's   : 81   NA's   :81                                 \n",
       "   GarageArea     GarageQual  GarageCond  PavedDrive   WoodDeckSF    \n",
       " Min.   :   0.0   Ex  :   3   Ex  :   2   N:  90     Min.   :  0.00  \n",
       " 1st Qu.: 334.5   Fa  :  48   Fa  :  35   P:  30     1st Qu.:  0.00  \n",
       " Median : 480.0   Gd  :  14   Gd  :   9   Y:1340     Median :  0.00  \n",
       " Mean   : 473.0   Po  :   3   Po  :   7              Mean   : 94.24  \n",
       " 3rd Qu.: 576.0   TA  :1311   TA  :1326              3rd Qu.:168.00  \n",
       " Max.   :1418.0   NA's:  81   NA's:  81              Max.   :857.00  \n",
       "                                                                     \n",
       "  OpenPorchSF     EnclosedPorch      X3SsnPorch      ScreenPorch    \n",
       " Min.   :  0.00   Min.   :  0.00   Min.   :  0.00   Min.   :  0.00  \n",
       " 1st Qu.:  0.00   1st Qu.:  0.00   1st Qu.:  0.00   1st Qu.:  0.00  \n",
       " Median : 25.00   Median :  0.00   Median :  0.00   Median :  0.00  \n",
       " Mean   : 46.66   Mean   : 21.95   Mean   :  3.41   Mean   : 15.06  \n",
       " 3rd Qu.: 68.00   3rd Qu.:  0.00   3rd Qu.:  0.00   3rd Qu.:  0.00  \n",
       " Max.   :547.00   Max.   :552.00   Max.   :508.00   Max.   :480.00  \n",
       "                                                                    \n",
       "    PoolArea        PoolQC       Fence      MiscFeature    MiscVal        \n",
       " Min.   :  0.000   Ex  :   2   GdPrv:  59   Gar2:   2   Min.   :    0.00  \n",
       " 1st Qu.:  0.000   Fa  :   2   GdWo :  54   Othr:   2   1st Qu.:    0.00  \n",
       " Median :  0.000   Gd  :   3   MnPrv: 157   Shed:  49   Median :    0.00  \n",
       " Mean   :  2.759   NA's:1453   MnWw :  11   TenC:   1   Mean   :   43.49  \n",
       " 3rd Qu.:  0.000               NA's :1179   NA's:1406   3rd Qu.:    0.00  \n",
       " Max.   :738.000                                        Max.   :15500.00  \n",
       "                                                                          \n",
       "     MoSold           YrSold        SaleType    SaleCondition    SalePrice     \n",
       " Min.   : 1.000   Min.   :2006   WD     :1267   Abnorml: 101   Min.   : 34900  \n",
       " 1st Qu.: 5.000   1st Qu.:2007   New    : 122   AdjLand:   4   1st Qu.:129975  \n",
       " Median : 6.000   Median :2008   COD    :  43   Alloca :  12   Median :163000  \n",
       " Mean   : 6.322   Mean   :2008   ConLD  :   9   Family :  20   Mean   :180921  \n",
       " 3rd Qu.: 8.000   3rd Qu.:2009   ConLI  :   5   Normal :1198   3rd Qu.:214000  \n",
       " Max.   :12.000   Max.   :2010   ConLw  :   5   Partial: 125   Max.   :755000  \n",
       "                                 (Other):   9                                  "
      ]
     },
     "metadata": {},
     "output_type": "display_data"
    }
   ],
   "source": [
    "summary(trainfull)"
   ]
  },
  {
   "cell_type": "markdown",
   "metadata": {},
   "source": [
    "# Traitement des features"
   ]
  },
  {
   "cell_type": "markdown",
   "metadata": {},
   "source": [
    "## Variables pas vraiment numériques -> conversion en date\n",
    "\n",
    "- YearBuilt\n",
    "- YearRemodAdd\n",
    "- GarageYrBlt\n",
    "- MoSold\n",
    "- YrSold"
   ]
  },
  {
   "cell_type": "code",
   "execution_count": 455,
   "metadata": {},
   "outputs": [],
   "source": [
    "trainfull$YearBuilt <- as.Date(\n",
    "    ISOdate(trainfull[, 'YearBuilt'], 01, 01), format = \"%Y\")\n",
    "trainfull$YearRemodAdd <- as.Date(\n",
    "    ISOdate(trainfull[, 'YearRemodAdd'], 01, 01), format = \"%Y\")\n",
    "trainfull$GarageYrBlt <- as.Date(\n",
    "    ISOdate(trainfull[, 'GarageYrBlt'], 01, 01), format = \"%Y\")\n",
    "trainfull$YrSold <- as.Date(\n",
    "    ISOdate(trainfull[, 'YrSold'], trainfull[, 'MoSold'], 01), format = \"%Y\")\n",
    "\n",
    "trainfull = select(trainfull, -MoSold)"
   ]
  },
  {
   "cell_type": "markdown",
   "metadata": {},
   "source": [
    "## Variable non quantitative -> conversion en qualitative"
   ]
  },
  {
   "cell_type": "code",
   "execution_count": 456,
   "metadata": {},
   "outputs": [],
   "source": [
    "trainfull$MSSubClass <- factor(trainfull$MSSubClass)"
   ]
  },
  {
   "cell_type": "markdown",
   "metadata": {},
   "source": [
    "## Variables ordinales transformables :\n",
    "\n",
    "|    Feature       |       Levels      | Score Possibilty  |\n",
    "|:-----------------|:-----------------:|:-----------------:|\n",
    "|LotShape                    |irregular -> regular        |1 to 4|\n",
    "|LandContour                 |depression -> flat           |1 to 4|\n",
    "|Utilities                   |electricity only -> all      |1 to 4|\n",
    "|LandSlope                   |sever -> gentle              |1 to 3|\n",
    "|ExterQual                   |poor -> excellent            |1 to 5|\n",
    "|ExterCond                   |poor -> excellent            |1 to 5|\n",
    "|BsmtQual                    |poor -> excellent            |1 to 5|\n",
    "|BsmtCond                    |poor -> excellent            |1 to 5|\n",
    "|BsmtExposure                |no -> good                   |1 to 4|\n",
    "|BsmtFinType1                |unfinished -> good           |1 to 6|\n",
    "|BsmtFinType2                |unfinished -> good           |1 to 6|    \n",
    "|HeatingQC                   |poor -> excellent            |1 to 5|\n",
    "|CentralAir                  |no / yes                     |0 / 1 |\n",
    "|Electrical                  |poor -> standard             |1 to 5|\n",
    "|KitchenQual                 |poor -> excellent            |1 to 5|\n",
    "|Functional                  |salvage -> typical           |1 to 8|\n",
    "|FireplaceQu                 |poor -> excellent            |1 to 5|\n",
    "|GarageFinish                |unfinished -> finshed        |1 to 3|\n",
    "|GarageQual                  |poor -> excellent            |1 to 5|\n",
    "|GarageCond                  |poor -> excellent            |1 to 5|\n",
    "|PavedDrive                  |dirt -> paved                |1 to 3|\n",
    "|PoolQC                      |fair -> excellent            |1 to 4|\n",
    "|Fence                       |none -> good                 |1 to 5|"
   ]
  },
  {
   "cell_type": "code",
   "execution_count": 457,
   "metadata": {},
   "outputs": [],
   "source": [
    "trainfull$LotShape <- fct_recode(trainfull$LotShape,\n",
    "                   '1' = 'IR3', '2' = 'IR2', '3' = 'IR1', '4' = 'Reg')\n",
    "trainfull$LotShape <- as.numeric(as.character(trainfull$LotShape))"
   ]
  },
  {
   "cell_type": "code",
   "execution_count": 458,
   "metadata": {},
   "outputs": [],
   "source": [
    "trainfull$LandContour <- trainfull$LandContour %>%\n",
    "    fct_recode('1' = 'Low', '2' = 'HLS', '3' = 'Bnk', '4' = 'Lvl')\n",
    "trainfull$LandContour <- as.numeric(as.character(trainfull$LandContour))"
   ]
  },
  {
   "cell_type": "code",
   "execution_count": 459,
   "metadata": {},
   "outputs": [
    {
     "name": "stderr",
     "output_type": "stream",
     "text": [
      "Warning message:\n",
      "\"Unknown levels in `f`: ELO, NoSewr\""
     ]
    }
   ],
   "source": [
    "trainfull$Utilities <- trainfull$Utilities %>%\n",
    "    fct_recode('1' = 'ELO', '2' = 'NoSeWa', '3' = 'NoSewr', '4' = 'AllPub')\n",
    "trainfull$Utilities <- as.numeric(as.character(trainfull$Utilities))"
   ]
  },
  {
   "cell_type": "code",
   "execution_count": 460,
   "metadata": {},
   "outputs": [],
   "source": [
    "trainfull$LandSlope <- trainfull$LandSlope %>%\n",
    "    fct_recode('1' = 'Sev', '2' = 'Mod', '3' = 'Gtl')\n",
    "trainfull$LandSlope <- as.numeric(as.character(trainfull$LandSlope))"
   ]
  },
  {
   "cell_type": "code",
   "execution_count": 461,
   "metadata": {},
   "outputs": [
    {
     "name": "stderr",
     "output_type": "stream",
     "text": [
      "Warning message:\n",
      "\"Unknown levels in `f`: Po\""
     ]
    }
   ],
   "source": [
    "trainfull$ExterQual <- trainfull$ExterQual %>%\n",
    "    fct_recode('1' = 'Po', '2' = 'Fa', '3' = 'TA', '4' = 'Gd', '5' = 'Ex')\n",
    "trainfull$ExterQual <- as.numeric(as.character(trainfull$ExterQual))"
   ]
  },
  {
   "cell_type": "code",
   "execution_count": 462,
   "metadata": {},
   "outputs": [],
   "source": [
    "trainfull$ExterCond <- trainfull$ExterCond %>%\n",
    "    fct_recode('1' = 'Po', '2' = 'Fa', '3' = 'TA', '4' = 'Gd', '5' = 'Ex')\n",
    "trainfull$ExterCond <- as.numeric(as.character(trainfull$ExterCond))"
   ]
  },
  {
   "cell_type": "code",
   "execution_count": 463,
   "metadata": {},
   "outputs": [
    {
     "name": "stderr",
     "output_type": "stream",
     "text": [
      "Warning message:\n",
      "\"Unknown levels in `f`: Po\""
     ]
    }
   ],
   "source": [
    "trainfull$BsmtQual <- trainfull$BsmtQual %>%\n",
    "    fct_recode('1' = 'Po', '2' = 'Fa', '3' = 'TA', '4' = 'Gd', '5' = 'Ex')\n",
    "trainfull$BsmtQual <- as.numeric(as.character(trainfull$BsmtQual))"
   ]
  },
  {
   "cell_type": "code",
   "execution_count": 464,
   "metadata": {},
   "outputs": [
    {
     "name": "stderr",
     "output_type": "stream",
     "text": [
      "Warning message:\n",
      "\"Unknown levels in `f`: Ex\""
     ]
    }
   ],
   "source": [
    "trainfull$BsmtCond  <- trainfull$BsmtCond  %>%\n",
    "    fct_recode('1' = 'Po', '2' = 'Fa', '3' = 'TA', '4' = 'Gd', '5' = 'Ex')\n",
    "trainfull$BsmtCond  <- as.numeric(as.character(trainfull$BsmtCond))"
   ]
  },
  {
   "cell_type": "code",
   "execution_count": 465,
   "metadata": {},
   "outputs": [],
   "source": [
    "trainfull$BsmtExposure  <- trainfull$BsmtExposure  %>%\n",
    "    fct_recode('1' = 'No', '2' = 'Mn', '3' = 'Av', '4' = 'Gd')\n",
    "trainfull$BsmtExposure  <- as.numeric(as.character(trainfull$BsmtExposure))"
   ]
  },
  {
   "cell_type": "code",
   "execution_count": 466,
   "metadata": {},
   "outputs": [],
   "source": [
    "trainfull$BsmtFinType1  <- trainfull$BsmtFinType1  %>%\n",
    "    fct_recode('1' = 'Unf', '2' = 'LwQ', '3' = 'Rec',\n",
    "               '4' = 'BLQ', '5' = 'ALQ', '6' = 'GLQ')\n",
    "trainfull$BsmtFinType1  <- as.numeric(as.character(trainfull$BsmtFinType1))"
   ]
  },
  {
   "cell_type": "code",
   "execution_count": 467,
   "metadata": {},
   "outputs": [],
   "source": [
    "trainfull$BsmtFinType2  <- trainfull$BsmtFinType2  %>%\n",
    "    fct_recode('1' = 'Unf', '2' = 'LwQ', '3' = 'Rec',\n",
    "               '4' = 'BLQ', '5' = 'ALQ', '6' = 'GLQ')\n",
    "trainfull$BsmtFinType2  <- as.numeric(as.character(trainfull$BsmtFinType2))"
   ]
  },
  {
   "cell_type": "code",
   "execution_count": 468,
   "metadata": {},
   "outputs": [],
   "source": [
    "trainfull$HeatingQC  <- trainfull$HeatingQC  %>%\n",
    "    fct_recode('1' = 'Po', '2' = 'Fa', '3' = 'TA', '4' = 'Gd', '5' = 'Ex')\n",
    "trainfull$HeatingQC  <- as.numeric(as.character(trainfull$HeatingQC))"
   ]
  },
  {
   "cell_type": "code",
   "execution_count": 469,
   "metadata": {},
   "outputs": [],
   "source": [
    "trainfull$CentralAir  <- trainfull$CentralAir  %>%\n",
    "    fct_recode('0' = 'N', '1' = 'Y')\n",
    "trainfull$CentralAir  <- as.numeric(as.character(trainfull$CentralAir))"
   ]
  },
  {
   "cell_type": "code",
   "execution_count": 470,
   "metadata": {},
   "outputs": [],
   "source": [
    "trainfull$Electrical  <- trainfull$Electrical  %>%\n",
    "    fct_recode('1' = 'Mix', '2' = 'FuseP', '3' = 'FuseF', '4' = 'FuseA', '5' = 'SBrkr')\n",
    "trainfull$Electrical  <- as.numeric(as.character(trainfull$Electrical))"
   ]
  },
  {
   "cell_type": "code",
   "execution_count": 471,
   "metadata": {},
   "outputs": [
    {
     "name": "stderr",
     "output_type": "stream",
     "text": [
      "Warning message:\n",
      "\"Unknown levels in `f`: Po\""
     ]
    }
   ],
   "source": [
    "trainfull$KitchenQual  <- trainfull$KitchenQual  %>%\n",
    "    fct_recode('1' = 'Po', '2' = 'Fa', '3' = 'TA', '4' = 'Gd', '5' = 'Ex')\n",
    "trainfull$KitchenQual  <- as.numeric(as.character(trainfull$KitchenQual))"
   ]
  },
  {
   "cell_type": "code",
   "execution_count": 472,
   "metadata": {},
   "outputs": [
    {
     "name": "stderr",
     "output_type": "stream",
     "text": [
      "Warning message:\n",
      "\"Unknown levels in `f`: Sal\""
     ]
    }
   ],
   "source": [
    "trainfull$Functional <- trainfull$Functional  %>%\n",
    "    fct_recode('1' = 'Sal', '2' = 'Sev', '3' = 'Maj2', '4' = 'Maj1',\n",
    "               '5' = 'Mod', '6' = 'Min2', '7' = 'Min1', '8' = 'Typ')\n",
    "trainfull$Functional <- as.numeric(as.character(trainfull$Functional))"
   ]
  },
  {
   "cell_type": "code",
   "execution_count": 473,
   "metadata": {},
   "outputs": [],
   "source": [
    "#trainfull$FireplaceQu  <- trainfull$FireplaceQu  %>%\n",
    "#    fct_recode('1' = 'Po', '2' = 'Fa', '3' = 'TA', '4' = 'Gd', '5' = 'Ex')\n",
    "#trainfull$FireplaceQu  <- as.numeric(as.character(trainfull$FireplaceQu))"
   ]
  },
  {
   "cell_type": "code",
   "execution_count": 474,
   "metadata": {},
   "outputs": [],
   "source": [
    "#trainfull$GarageFinish  <- trainfull$GarageFinish  %>%\n",
    "#    fct_recode('1' = 'Unf', '2' = 'RFn', '3' = 'Fin')\n",
    "#trainfull$GarageFinish  <- as.numeric(as.character(trainfull$GarageFinish))"
   ]
  },
  {
   "cell_type": "code",
   "execution_count": 475,
   "metadata": {},
   "outputs": [],
   "source": [
    "trainfull$GarageQual  <- trainfull$GarageQual  %>%\n",
    "    fct_recode('1' = 'Po', '2' = 'Fa', '3' = 'TA', '4' = 'Gd', '5' = 'Ex')\n",
    "trainfull$GarageQual  <- as.numeric(as.character(trainfull$GarageQual))"
   ]
  },
  {
   "cell_type": "code",
   "execution_count": 476,
   "metadata": {},
   "outputs": [],
   "source": [
    "trainfull$GarageCond  <- trainfull$GarageCond  %>%\n",
    "    fct_recode('1' = 'Po', '2' = 'Fa', '3' = 'TA', '4' = 'Gd', '5' = 'Ex')\n",
    "trainfull$GarageCond  <- as.numeric(as.character(trainfull$GarageCond))"
   ]
  },
  {
   "cell_type": "code",
   "execution_count": 477,
   "metadata": {},
   "outputs": [],
   "source": [
    "trainfull$PavedDrive  <- trainfull$PavedDrive  %>%\n",
    "    fct_recode('1' = 'N', '2' = 'P', '3' = 'Y')\n",
    "trainfull$PavedDrive  <- as.numeric(as.character(trainfull$PavedDrive))"
   ]
  },
  {
   "cell_type": "code",
   "execution_count": 478,
   "metadata": {},
   "outputs": [],
   "source": [
    "#trainfull$PoolQC  <- trainfull$PoolQC  %>%\n",
    "#    fct_recode('1' = 'Po', '2' = 'Fa', '3' = 'TA', '4' = 'Gd', '5' = 'Ex')\n",
    "#trainfull$PoolQC  <- as.numeric(as.character(trainfull$PoolQC))"
   ]
  },
  {
   "cell_type": "code",
   "execution_count": 479,
   "metadata": {},
   "outputs": [],
   "source": [
    "#trainfull$Fence  <- trainfull$Fence  %>%\n",
    "#    fct_recode('1' = 'MnWw', '2' = 'GdWo', '3' = 'MnPrv', '4' = 'GdPrv')\n",
    "#trainfull$Fence  <- as.numeric(as.character(trainfull$Fence))"
   ]
  },
  {
   "cell_type": "markdown",
   "metadata": {},
   "source": [
    "## Modalités avec peu de données"
   ]
  },
  {
   "cell_type": "code",
   "execution_count": 480,
   "metadata": {},
   "outputs": [
    {
     "data": {
      "text/html": [
       "<table>\n",
       "<caption>A data.frame: 21 × 4</caption>\n",
       "<thead>\n",
       "\t<tr><th></th><th scope=col>freqRatio</th><th scope=col>percentUnique</th><th scope=col>zeroVar</th><th scope=col>nzv</th></tr>\n",
       "\t<tr><th></th><th scope=col>&lt;dbl&gt;</th><th scope=col>&lt;dbl&gt;</th><th scope=col>&lt;lgl&gt;</th><th scope=col>&lt;lgl&gt;</th></tr>\n",
       "</thead>\n",
       "<tbody>\n",
       "\t<tr><th scope=row>Street</th><td> 242.33333</td><td>0.1369863</td><td>FALSE</td><td>TRUE</td></tr>\n",
       "\t<tr><th scope=row>LandContour</th><td>  20.80952</td><td>0.2739726</td><td>FALSE</td><td>TRUE</td></tr>\n",
       "\t<tr><th scope=row>Utilities</th><td>1459.00000</td><td>0.1369863</td><td>FALSE</td><td>TRUE</td></tr>\n",
       "\t<tr><th scope=row>LandSlope</th><td>  21.26154</td><td>0.2054795</td><td>FALSE</td><td>TRUE</td></tr>\n",
       "\t<tr><th scope=row>Condition2</th><td> 240.83333</td><td>0.5479452</td><td>FALSE</td><td>TRUE</td></tr>\n",
       "\t<tr><th scope=row>RoofMatl</th><td> 130.36364</td><td>0.5479452</td><td>FALSE</td><td>TRUE</td></tr>\n",
       "\t<tr><th scope=row>BsmtCond</th><td>  20.16923</td><td>0.2739726</td><td>FALSE</td><td>TRUE</td></tr>\n",
       "\t<tr><th scope=row>BsmtFinType2</th><td>  23.25926</td><td>0.4109589</td><td>FALSE</td><td>TRUE</td></tr>\n",
       "\t<tr><th scope=row>BsmtFinSF2</th><td> 258.60000</td><td>9.8630137</td><td>FALSE</td><td>TRUE</td></tr>\n",
       "\t<tr><th scope=row>Heating</th><td>  79.33333</td><td>0.4109589</td><td>FALSE</td><td>TRUE</td></tr>\n",
       "\t<tr><th scope=row>LowQualFinSF</th><td> 478.00000</td><td>1.6438356</td><td>FALSE</td><td>TRUE</td></tr>\n",
       "\t<tr><th scope=row>KitchenAbvGr</th><td>  21.41538</td><td>0.2739726</td><td>FALSE</td><td>TRUE</td></tr>\n",
       "\t<tr><th scope=row>Functional</th><td>  40.00000</td><td>0.4794521</td><td>FALSE</td><td>TRUE</td></tr>\n",
       "\t<tr><th scope=row>GarageQual</th><td>  27.31250</td><td>0.3424658</td><td>FALSE</td><td>TRUE</td></tr>\n",
       "\t<tr><th scope=row>GarageCond</th><td>  37.88571</td><td>0.3424658</td><td>FALSE</td><td>TRUE</td></tr>\n",
       "\t<tr><th scope=row>EnclosedPorch</th><td>  83.46667</td><td>8.2191781</td><td>FALSE</td><td>TRUE</td></tr>\n",
       "\t<tr><th scope=row>X3SsnPorch</th><td> 478.66667</td><td>1.3698630</td><td>FALSE</td><td>TRUE</td></tr>\n",
       "\t<tr><th scope=row>ScreenPorch</th><td> 224.00000</td><td>5.2054795</td><td>FALSE</td><td>TRUE</td></tr>\n",
       "\t<tr><th scope=row>PoolArea</th><td>1453.00000</td><td>0.5479452</td><td>FALSE</td><td>TRUE</td></tr>\n",
       "\t<tr><th scope=row>MiscFeature</th><td>  24.50000</td><td>0.2739726</td><td>FALSE</td><td>TRUE</td></tr>\n",
       "\t<tr><th scope=row>MiscVal</th><td> 128.00000</td><td>1.4383562</td><td>FALSE</td><td>TRUE</td></tr>\n",
       "</tbody>\n",
       "</table>\n"
      ],
      "text/latex": [
       "A data.frame: 21 × 4\n",
       "\\begin{tabular}{r|llll}\n",
       "  & freqRatio & percentUnique & zeroVar & nzv\\\\\n",
       "  & <dbl> & <dbl> & <lgl> & <lgl>\\\\\n",
       "\\hline\n",
       "\tStreet &  242.33333 & 0.1369863 & FALSE & TRUE\\\\\n",
       "\tLandContour &   20.80952 & 0.2739726 & FALSE & TRUE\\\\\n",
       "\tUtilities & 1459.00000 & 0.1369863 & FALSE & TRUE\\\\\n",
       "\tLandSlope &   21.26154 & 0.2054795 & FALSE & TRUE\\\\\n",
       "\tCondition2 &  240.83333 & 0.5479452 & FALSE & TRUE\\\\\n",
       "\tRoofMatl &  130.36364 & 0.5479452 & FALSE & TRUE\\\\\n",
       "\tBsmtCond &   20.16923 & 0.2739726 & FALSE & TRUE\\\\\n",
       "\tBsmtFinType2 &   23.25926 & 0.4109589 & FALSE & TRUE\\\\\n",
       "\tBsmtFinSF2 &  258.60000 & 9.8630137 & FALSE & TRUE\\\\\n",
       "\tHeating &   79.33333 & 0.4109589 & FALSE & TRUE\\\\\n",
       "\tLowQualFinSF &  478.00000 & 1.6438356 & FALSE & TRUE\\\\\n",
       "\tKitchenAbvGr &   21.41538 & 0.2739726 & FALSE & TRUE\\\\\n",
       "\tFunctional &   40.00000 & 0.4794521 & FALSE & TRUE\\\\\n",
       "\tGarageQual &   27.31250 & 0.3424658 & FALSE & TRUE\\\\\n",
       "\tGarageCond &   37.88571 & 0.3424658 & FALSE & TRUE\\\\\n",
       "\tEnclosedPorch &   83.46667 & 8.2191781 & FALSE & TRUE\\\\\n",
       "\tX3SsnPorch &  478.66667 & 1.3698630 & FALSE & TRUE\\\\\n",
       "\tScreenPorch &  224.00000 & 5.2054795 & FALSE & TRUE\\\\\n",
       "\tPoolArea & 1453.00000 & 0.5479452 & FALSE & TRUE\\\\\n",
       "\tMiscFeature &   24.50000 & 0.2739726 & FALSE & TRUE\\\\\n",
       "\tMiscVal &  128.00000 & 1.4383562 & FALSE & TRUE\\\\\n",
       "\\end{tabular}\n"
      ],
      "text/markdown": [
       "\n",
       "A data.frame: 21 × 4\n",
       "\n",
       "| <!--/--> | freqRatio &lt;dbl&gt; | percentUnique &lt;dbl&gt; | zeroVar &lt;lgl&gt; | nzv &lt;lgl&gt; |\n",
       "|---|---|---|---|---|\n",
       "| Street |  242.33333 | 0.1369863 | FALSE | TRUE |\n",
       "| LandContour |   20.80952 | 0.2739726 | FALSE | TRUE |\n",
       "| Utilities | 1459.00000 | 0.1369863 | FALSE | TRUE |\n",
       "| LandSlope |   21.26154 | 0.2054795 | FALSE | TRUE |\n",
       "| Condition2 |  240.83333 | 0.5479452 | FALSE | TRUE |\n",
       "| RoofMatl |  130.36364 | 0.5479452 | FALSE | TRUE |\n",
       "| BsmtCond |   20.16923 | 0.2739726 | FALSE | TRUE |\n",
       "| BsmtFinType2 |   23.25926 | 0.4109589 | FALSE | TRUE |\n",
       "| BsmtFinSF2 |  258.60000 | 9.8630137 | FALSE | TRUE |\n",
       "| Heating |   79.33333 | 0.4109589 | FALSE | TRUE |\n",
       "| LowQualFinSF |  478.00000 | 1.6438356 | FALSE | TRUE |\n",
       "| KitchenAbvGr |   21.41538 | 0.2739726 | FALSE | TRUE |\n",
       "| Functional |   40.00000 | 0.4794521 | FALSE | TRUE |\n",
       "| GarageQual |   27.31250 | 0.3424658 | FALSE | TRUE |\n",
       "| GarageCond |   37.88571 | 0.3424658 | FALSE | TRUE |\n",
       "| EnclosedPorch |   83.46667 | 8.2191781 | FALSE | TRUE |\n",
       "| X3SsnPorch |  478.66667 | 1.3698630 | FALSE | TRUE |\n",
       "| ScreenPorch |  224.00000 | 5.2054795 | FALSE | TRUE |\n",
       "| PoolArea | 1453.00000 | 0.5479452 | FALSE | TRUE |\n",
       "| MiscFeature |   24.50000 | 0.2739726 | FALSE | TRUE |\n",
       "| MiscVal |  128.00000 | 1.4383562 | FALSE | TRUE |\n",
       "\n"
      ],
      "text/plain": [
       "              freqRatio  percentUnique zeroVar nzv \n",
       "Street         242.33333 0.1369863     FALSE   TRUE\n",
       "LandContour     20.80952 0.2739726     FALSE   TRUE\n",
       "Utilities     1459.00000 0.1369863     FALSE   TRUE\n",
       "LandSlope       21.26154 0.2054795     FALSE   TRUE\n",
       "Condition2     240.83333 0.5479452     FALSE   TRUE\n",
       "RoofMatl       130.36364 0.5479452     FALSE   TRUE\n",
       "BsmtCond        20.16923 0.2739726     FALSE   TRUE\n",
       "BsmtFinType2    23.25926 0.4109589     FALSE   TRUE\n",
       "BsmtFinSF2     258.60000 9.8630137     FALSE   TRUE\n",
       "Heating         79.33333 0.4109589     FALSE   TRUE\n",
       "LowQualFinSF   478.00000 1.6438356     FALSE   TRUE\n",
       "KitchenAbvGr    21.41538 0.2739726     FALSE   TRUE\n",
       "Functional      40.00000 0.4794521     FALSE   TRUE\n",
       "GarageQual      27.31250 0.3424658     FALSE   TRUE\n",
       "GarageCond      37.88571 0.3424658     FALSE   TRUE\n",
       "EnclosedPorch   83.46667 8.2191781     FALSE   TRUE\n",
       "X3SsnPorch     478.66667 1.3698630     FALSE   TRUE\n",
       "ScreenPorch    224.00000 5.2054795     FALSE   TRUE\n",
       "PoolArea      1453.00000 0.5479452     FALSE   TRUE\n",
       "MiscFeature     24.50000 0.2739726     FALSE   TRUE\n",
       "MiscVal        128.00000 1.4383562     FALSE   TRUE"
      ]
     },
     "metadata": {},
     "output_type": "display_data"
    }
   ],
   "source": [
    "nzv <- nearZeroVar(trainfull, saveMetrics = TRUE)\n",
    "nzv[which(nzv$nzv == TRUE | nzv$zeroVar == TRUE),]"
   ]
  },
  {
   "cell_type": "markdown",
   "metadata": {},
   "source": [
    "## Features avec beaucoup de 0 (3rd quartile = 0)\n",
    "\n",
    "- BsmtFinSF2\n",
    "- LowQualFinSF\n",
    "- EnclosedPorch\n",
    "- X3SsnPorch\n",
    "- ScreenPorch\n",
    "- PoolArea\n",
    "- MiscVal\n",
    "\n",
    "other nearzero alerts\n",
    "\n",
    "- LandContour\n",
    "- LandSlope\n",
    "- BsmtCond\n",
    "- BsmtFinType2\n",
    "- KitchenAbvGr\n",
    "- Functional\n",
    "- GarageQual\n",
    "- GarageCond"
   ]
  },
  {
   "cell_type": "code",
   "execution_count": 481,
   "metadata": {},
   "outputs": [],
   "source": [
    "trainfull <- select(trainfull,\n",
    "                    - BsmtFinSF2,\n",
    "                    - LowQualFinSF,\n",
    "                    - EnclosedPorch,\n",
    "                    - X3SsnPorch,\n",
    "                    - ScreenPorch,\n",
    "                    - PoolArea,\n",
    "                    - MiscVal,\n",
    "                    - LandContour,\n",
    "                    - LandSlope,\n",
    "                    - BsmtCond,\n",
    "                    - BsmtFinType2,\n",
    "                    - KitchenAbvGr,\n",
    "                    - Functional,\n",
    "                    - GarageQual,\n",
    "                    - GarageCond\n",
    "                   )"
   ]
  },
  {
   "cell_type": "markdown",
   "metadata": {},
   "source": [
    "## Détails \n",
    "\n",
    "\n",
    "|    Feature       |       Modalité    |     Possibilty         |\n",
    "|:-----------------|:-----------------:|:-----------------------|\n",
    "|Street            |gravel = 6         |-> supprimer feature    |\n",
    "|Utilities         |Mode = 1459        |-> supprimer feature    |\n",
    "|LotConfig         |3frontages = 4     |-> supprimer lignes     |\n",
    "|Condition2        |mode = 1445/1460   |-> supprimer feature    |\n",
    "|RoofMatl          |Mode = 1434/1460   |-> RoofMatl 0/1         |\n",
    "|Foundation        |Wood= 3, stone= 6  |-> supprimer lignes     |\n",
    "|Heating           |Mode = 1428/1460   |-> convertir en 0/1     |\n",
    "|Electrical        |Mix=1, fuseP=1     |-> supprimer lignes (finalement conservé car converti en numérique)    |\n",
    "|GarageType        |2Types=6, carport=9|-> supprimer lignes     |\n",
    "|MiscFeature       |Mode = 1406/1460   |-> convertir en 0/1     |\n",
    "|SaleCondition     |AdjLand=4          |-> supprimer lignes     |\n",
    "\n",
    "\n"
   ]
  },
  {
   "cell_type": "code",
   "execution_count": 482,
   "metadata": {},
   "outputs": [],
   "source": [
    "# trainfull <- select(trainfull, -Street, -Utilities, -Condition2, -MiscFeature)\n",
    "trainfull <- select(trainfull, -Street, -Utilities, -Condition2)"
   ]
  },
  {
   "cell_type": "code",
   "execution_count": 483,
   "metadata": {},
   "outputs": [],
   "source": [
    "#trainfull <- trainfull[-which(trainfull$LotConfig == 'FR3' |\n",
    "#      trainfull$Foundation == 'Wood' | trainfull$Foundation == 'Stone' |\n",
    "#      trainfull$GarageType == '2Types' | trainfull$GarageType == 'carport' |\n",
    "#      trainfull$SaleCondition == 'AdjLand'),]"
   ]
  },
  {
   "cell_type": "code",
   "execution_count": 484,
   "metadata": {},
   "outputs": [],
   "source": [
    "trainfull$Heating  <- trainfull$Heating  %>%\n",
    "    fct_recode('0' = 'GasA',\n",
    "               '1' = 'Floor', '1' = 'GasW', '1' = 'Grav',\n",
    "               '1' = 'OthW', '1' = 'Wall')\n",
    "trainfull$Heating  <- as.numeric(as.character(trainfull$Heating))"
   ]
  },
  {
   "cell_type": "code",
   "execution_count": 485,
   "metadata": {},
   "outputs": [],
   "source": [
    "trainfull$RoofMatl  <- trainfull$RoofMatl  %>%\n",
    "    fct_recode('0' = 'CompShg',\n",
    "               '1' = 'ClyTile', '1' = 'Membran', '1' = 'Metal',\n",
    "               '1' = 'Roll', '1' = 'Tar&Grv', '1' = 'WdShake', '1' = 'WdShngl')\n",
    "trainfull$RoofMatl  <- as.numeric(as.character(trainfull$RoofMatl))"
   ]
  },
  {
   "cell_type": "code",
   "execution_count": 486,
   "metadata": {},
   "outputs": [
    {
     "name": "stderr",
     "output_type": "stream",
     "text": [
      "Warning message:\n",
      "\"Unknown levels in `f`: Elev\""
     ]
    }
   ],
   "source": [
    "levels(trainfull$MiscFeature) <- c(levels(trainfull$MiscFeature), 'None')\n",
    "trainfull$MiscFeature[which(is.na(trainfull$MiscFeature))] <- 'None'\n",
    "trainfull$MiscFeature <- trainfull$MiscFeature  %>%\n",
    "    fct_recode('0' = 'None',\n",
    "               '1' = 'Elev', '1' = 'Gar2', '1' = 'Othr',\n",
    "               '1' = 'Shed', '1' = 'TenC')\n",
    "trainfull$MiscFeature <- as.numeric(as.character(trainfull$MiscFeature))"
   ]
  },
  {
   "cell_type": "code",
   "execution_count": 487,
   "metadata": {},
   "outputs": [
    {
     "name": "stdout",
     "output_type": "stream",
     "text": [
      "259 LotFrontage \n",
      "1369 Alley \n",
      "8 MasVnrType \n",
      "8 MasVnrArea \n",
      "37 BsmtQual \n",
      "38 BsmtExposure \n",
      "37 BsmtFinType1 \n",
      "1 Electrical \n",
      "690 FireplaceQu \n",
      "81 GarageType \n",
      "81 GarageYrBlt \n",
      "81 GarageFinish \n",
      "1453 PoolQC \n",
      "1179 Fence \n"
     ]
    }
   ],
   "source": [
    "for (i in 1:ncol(trainfull)){\n",
    "    na_number <- length(which(is.na(trainfull[, i])))\n",
    "    if (na_number > 0){\n",
    "        cat(na_number, colnames(select(trainfull, i)),'\\n')\n",
    "    }\n",
    "}"
   ]
  },
  {
   "cell_type": "markdown",
   "metadata": {},
   "source": [
    "## Données manquantes\n",
    "\n",
    "|NA's  |Feature      | Possibility |\n",
    "|-----:|:------------|:------------|\n",
    "|  257 |LotFrontage  |-> supprimer lignes\n",
    "| 1350 |Alley        |-> Créer modalité None\n",
    "|    8 |MasVnrType   |-> supprimer\n",
    "|    8 |MasVnrArea   |-> supprimer\n",
    "|   37 |BsmtQual     |-> supprimer\n",
    "|   36 |BsmtCond     |-> supprimer\n",
    "|   37 |BsmtExposure |-> supprimer\n",
    "|   36 |BsmtFinType1 |-> supprimer\n",
    "|   37 |BsmtFinType2 |-> supprimer\n",
    "|    1 |Electrical   |-> supprimer\n",
    "|  673 |FireplaceQu  |-> Créer modalité None\n",
    "|   78 |GarageType   |-> supprimer feature si corrélée à une autre\n",
    "|   78 |GarageYrBlt  |-> mettre la valeur de YearBuilt\n",
    "|   78 |GarageFinish |-> Créer modalité None\n",
    "| 1430 |PoolQC       |-> Créer modalité None\n",
    "| 1161 |Fence        |-> Créer modalité None"
   ]
  },
  {
   "cell_type": "code",
   "execution_count": 488,
   "metadata": {},
   "outputs": [],
   "source": [
    "levels(trainfull$Alley) <- c(levels(trainfull$Alley), 'None')\n",
    "trainfull$Alley[which(is.na(trainfull$Alley))] <- 'None'"
   ]
  },
  {
   "cell_type": "code",
   "execution_count": 489,
   "metadata": {},
   "outputs": [],
   "source": [
    "levels(trainfull$FireplaceQu) <- c(levels(trainfull$FireplaceQu), 'None')\n",
    "trainfull$FireplaceQu[which(is.na(trainfull$FireplaceQu))] <- 'None'"
   ]
  },
  {
   "cell_type": "code",
   "execution_count": 490,
   "metadata": {},
   "outputs": [],
   "source": [
    "levels(trainfull$GarageType) <- c(levels(trainfull$GarageType), 'None')\n",
    "trainfull$GarageType[which(is.na(trainfull$GarageType))] <- 'None'"
   ]
  },
  {
   "cell_type": "code",
   "execution_count": 491,
   "metadata": {},
   "outputs": [],
   "source": [
    "levels(trainfull$GarageFinish) <- c(levels(trainfull$GarageFinish), 'None')\n",
    "trainfull$GarageFinish[which(is.na(trainfull$GarageFinish))] <- 'None'"
   ]
  },
  {
   "cell_type": "code",
   "execution_count": 492,
   "metadata": {},
   "outputs": [],
   "source": [
    "levels(trainfull$PoolQC) <- c(levels(trainfull$PoolQC), 'None')\n",
    "trainfull$PoolQC[which(is.na(trainfull$PoolQC))] <- 'None'"
   ]
  },
  {
   "cell_type": "code",
   "execution_count": 493,
   "metadata": {},
   "outputs": [],
   "source": [
    "levels(trainfull$Fence) <- c(levels(trainfull$Fence), 'None')\n",
    "trainfull$Fence[which(is.na(trainfull$Fence))] <- 'None'"
   ]
  },
  {
   "cell_type": "code",
   "execution_count": 494,
   "metadata": {},
   "outputs": [],
   "source": [
    "#trainfull <- trainfull[which(!is.na(trainfull$LotFrontage)),]\n",
    "#trainfull <- trainfull[which(!is.na(trainfull$MasVnrType)),]\n",
    "#trainfull <- trainfull[which(!is.na(trainfull$MasVnrArea)),]\n",
    "#trainfull <- trainfull[which(!is.na(trainfull$BsmtQual)),]\n",
    "#trainfull <- trainfull[which(!is.na(trainfull$BsmtExposure)),]\n",
    "#trainfull <- trainfull[which(!is.na(trainfull$BsmtFinType1)),]\n",
    "#trainfull <- trainfull[which(!is.na(trainfull$Electrical)),]"
   ]
  },
  {
   "cell_type": "code",
   "execution_count": 495,
   "metadata": {},
   "outputs": [
    {
     "name": "stderr",
     "output_type": "stream",
     "text": [
      "Warning message:\n",
      "\"Using size for a discrete variable is not advised.\"Warning message:\n",
      "\"The shape palette can deal with a maximum of 6 discrete values because\n",
      "more than 6 becomes difficult to discriminate; you have 7. Consider\n",
      "specifying shapes manually if you must have them.\"Warning message:\n",
      "\"Removed 81 rows containing missing values (geom_point).\""
     ]
    },
    {
     "data": {
      "image/png": "[encoded data removed]",
      "text/plain": [
       "plot without title"
      ]
     },
     "metadata": {},
     "output_type": "display_data"
    }
   ],
   "source": [
    "ggplot(trainfull, aes(GarageYrBlt, YearBuilt, color=GarageFinish, shape=GarageType, size = 'medium')) +\n",
    "    geom_point()"
   ]
  },
  {
   "cell_type": "code",
   "execution_count": 496,
   "metadata": {},
   "outputs": [],
   "source": [
    "NA_lines = which(is.na(trainfull$GarageYrBlt))\n",
    "trainfull$GarageYrBlt[NA_lines] <- trainfull$YearBuilt[NA_lines]"
   ]
  },
  {
   "cell_type": "markdown",
   "metadata": {},
   "source": [
    "### Traitement des données NA restantes\n",
    "* var quantitative -> mise à 0\n",
    "* var qualitative -> mise au Mode"
   ]
  },
  {
   "cell_type": "code",
   "execution_count": 497,
   "metadata": {},
   "outputs": [
    {
     "name": "stdout",
     "output_type": "stream",
     "text": [
      "8 MasVnrType NA lines :  235 530 651 937 974 978 1244 1279 \n",
      "\n",
      " BrkCmn BrkFace    None   Stone \n",
      "     15     445     864     128 \n",
      "[1] \"------------------------------------------------------------------------\"\n"
     ]
    }
   ],
   "source": [
    "for (i in 1:ncol(trainfull)){\n",
    "    na_number <- length(which(is.na(trainfull[, i])))\n",
    "    if (na_number > 0){\n",
    "        if (is.null(levels(trainfull[,i]))){\n",
    "        trainfull[which(is.na(trainfull[, i])), i] <- median(trainfull[, i], na.rm = T)\n",
    "        } else {\n",
    "        cat(na_number, colnames(select(trainfull, i)),'NA lines : ', which(is.na(trainfull[, i])), '\\n')\n",
    "        print(table(select(trainfull, i)))\n",
    "        print('------------------------------------------------------------------------')\n",
    "        }\n",
    "    }\n",
    "}"
   ]
  },
  {
   "cell_type": "code",
   "execution_count": 498,
   "metadata": {},
   "outputs": [],
   "source": [
    "trainfull$MasVnrType[which(is.na(trainfull$MasVnrType))] <- 'None'"
   ]
  },
  {
   "cell_type": "code",
   "execution_count": 499,
   "metadata": {},
   "outputs": [],
   "source": [
    "for (i in 1:ncol(trainfull)){\n",
    "    na_number <- length(which(is.na(trainfull[, i])))\n",
    "    if (na_number > 0){\n",
    "        cat(na_number, colnames(select(trainfull, i)),'NA lines : ', which(is.na(trainfull[, i])), '\\n')\n",
    "    }\n",
    "}"
   ]
  },
  {
   "cell_type": "markdown",
   "metadata": {},
   "source": [
    "## Vérification si plus de données manquantes"
   ]
  },
  {
   "cell_type": "code",
   "execution_count": 500,
   "metadata": {},
   "outputs": [],
   "source": [
    "for (i in 1:ncol(trainfull)){\n",
    "    na_number <- length(which(is.na(trainfull[, i])))\n",
    "    if (na_number > 0){\n",
    "        cat(na_number, colnames(select(trainfull, i)),'\\n')\n",
    "    }\n",
    "}"
   ]
  },
  {
   "cell_type": "code",
   "execution_count": 501,
   "metadata": {},
   "outputs": [
    {
     "data": {
      "text/html": [
       "69"
      ],
      "text/latex": [
       "69"
      ],
      "text/markdown": [
       "69"
      ],
      "text/plain": [
       "[1] 69"
      ]
     },
     "metadata": {},
     "output_type": "display_data"
    }
   ],
   "source": [
    "median(trainfull$LotFrontage, na.rm = T)"
   ]
  },
  {
   "cell_type": "code",
   "execution_count": 502,
   "metadata": {},
   "outputs": [
    {
     "data": {
      "text/plain": [
       "   MSSubClass     MSZoning     LotFrontage        LotArea        Alley     \n",
       " 20     :536   C (all):  10   Min.   : 21.00   Min.   :  1300   Grvl:  50  \n",
       " 60     :299   FV     :  65   1st Qu.: 60.00   1st Qu.:  7554   Pave:  41  \n",
       " 50     :144   RH     :  16   Median : 69.00   Median :  9478   None:1369  \n",
       " 120    : 87   RL     :1151   Mean   : 69.86   Mean   : 10517              \n",
       " 30     : 69   RM     : 218   3rd Qu.: 79.00   3rd Qu.: 11602              \n",
       " 160    : 63                  Max.   :313.00   Max.   :215245              \n",
       " (Other):262                                                               \n",
       "    LotShape       LotConfig     Neighborhood   Condition1     BldgType   \n",
       " Min.   :1.000   Corner : 263   NAmes  :225   Norm   :1260   1Fam  :1220  \n",
       " 1st Qu.:3.000   CulDSac:  94   CollgCr:150   Feedr  :  81   2fmCon:  31  \n",
       " Median :4.000   FR2    :  47   OldTown:113   Artery :  48   Duplex:  52  \n",
       " Mean   :3.592   FR3    :   4   Edwards:100   RRAn   :  26   Twnhs :  43  \n",
       " 3rd Qu.:4.000   Inside :1052   Somerst: 86   PosN   :  19   TwnhsE: 114  \n",
       " Max.   :4.000                  Gilbert: 79   RRAe   :  11                \n",
       "                                (Other):707   (Other):  15                \n",
       "   HouseStyle   OverallQual      OverallCond      YearBuilt         \n",
       " 1Story :726   Min.   : 1.000   Min.   :1.000   Min.   :1872-01-01  \n",
       " 2Story :445   1st Qu.: 5.000   1st Qu.:5.000   1st Qu.:1954-01-01  \n",
       " 1.5Fin :154   Median : 6.000   Median :5.000   Median :1973-01-01  \n",
       " SLvl   : 65   Mean   : 6.099   Mean   :5.575   Mean   :1971-04-08  \n",
       " SFoyer : 37   3rd Qu.: 7.000   3rd Qu.:6.000   3rd Qu.:2000-01-01  \n",
       " 1.5Unf : 14   Max.   :10.000   Max.   :9.000   Max.   :2010-01-01  \n",
       " (Other): 19                                                        \n",
       "  YearRemodAdd          RoofStyle       RoofMatl        Exterior1st \n",
       " Min.   :1950-01-01   Flat   :  13   Min.   :0.00000   VinylSd:515  \n",
       " 1st Qu.:1967-01-01   Gable  :1141   1st Qu.:0.00000   HdBoard:222  \n",
       " Median :1994-01-01   Gambrel:  11   Median :0.00000   MetalSd:220  \n",
       " Mean   :1984-11-12   Hip    : 286   Mean   :0.01781   Wd Sdng:206  \n",
       " 3rd Qu.:2004-01-01   Mansard:   7   3rd Qu.:0.00000   Plywood:108  \n",
       " Max.   :2010-01-01   Shed   :   2   Max.   :1.00000   CemntBd: 61  \n",
       "                                                       (Other):128  \n",
       "  Exterior2nd    MasVnrType    MasVnrArea       ExterQual       ExterCond    \n",
       " VinylSd:504   BrkCmn : 15   Min.   :   0.0   Min.   :2.000   Min.   :1.000  \n",
       " MetalSd:214   BrkFace:445   1st Qu.:   0.0   1st Qu.:3.000   1st Qu.:3.000  \n",
       " HdBoard:207   None   :872   Median :   0.0   Median :3.000   Median :3.000  \n",
       " Wd Sdng:197   Stone  :128   Mean   : 103.1   Mean   :3.396   Mean   :3.084  \n",
       " Plywood:142                 3rd Qu.: 164.2   3rd Qu.:4.000   3rd Qu.:3.000  \n",
       " CmentBd: 60                 Max.   :1600.0   Max.   :5.000   Max.   :5.000  \n",
       " (Other):136                                                                 \n",
       "  Foundation     BsmtQual     BsmtExposure    BsmtFinType1     BsmtFinSF1    \n",
       " BrkTil:146   Min.   :2.00   Min.   :1.000   Min.   :1.000   Min.   :   0.0  \n",
       " CBlock:634   1st Qu.:3.00   1st Qu.:1.000   1st Qu.:1.000   1st Qu.:   0.0  \n",
       " PConc :647   Median :4.00   Median :1.000   Median :4.000   Median : 383.5  \n",
       " Slab  : 24   Mean   :3.59   Mean   :1.656   Mean   :3.647   Mean   : 443.6  \n",
       " Stone :  6   3rd Qu.:4.00   3rd Qu.:2.000   3rd Qu.:6.000   3rd Qu.: 712.2  \n",
       " Wood  :  3   Max.   :5.00   Max.   :4.000   Max.   :6.000   Max.   :5644.0  \n",
       "                                                                             \n",
       "   BsmtUnfSF       TotalBsmtSF        Heating          HeatingQC    \n",
       " Min.   :   0.0   Min.   :   0.0   Min.   :0.00000   Min.   :1.000  \n",
       " 1st Qu.: 223.0   1st Qu.: 795.8   1st Qu.:0.00000   1st Qu.:3.000  \n",
       " Median : 477.5   Median : 991.5   Median :0.00000   Median :5.000  \n",
       " Mean   : 567.2   Mean   :1057.4   Mean   :0.02192   Mean   :4.145  \n",
       " 3rd Qu.: 808.0   3rd Qu.:1298.2   3rd Qu.:0.00000   3rd Qu.:5.000  \n",
       " Max.   :2336.0   Max.   :6110.0   Max.   :1.00000   Max.   :5.000  \n",
       "                                                                    \n",
       "   CentralAir       Electrical     X1stFlrSF      X2ndFlrSF      GrLivArea   \n",
       " Min.   :0.0000   Min.   :1.00   Min.   : 334   Min.   :   0   Min.   : 334  \n",
       " 1st Qu.:1.0000   1st Qu.:5.00   1st Qu.: 882   1st Qu.:   0   1st Qu.:1130  \n",
       " Median :1.0000   Median :5.00   Median :1087   Median :   0   Median :1464  \n",
       " Mean   :0.9349   Mean   :4.89   Mean   :1163   Mean   : 347   Mean   :1515  \n",
       " 3rd Qu.:1.0000   3rd Qu.:5.00   3rd Qu.:1391   3rd Qu.: 728   3rd Qu.:1777  \n",
       " Max.   :1.0000   Max.   :5.00   Max.   :4692   Max.   :2065   Max.   :5642  \n",
       "                                                                             \n",
       "  BsmtFullBath     BsmtHalfBath        FullBath        HalfBath     \n",
       " Min.   :0.0000   Min.   :0.00000   Min.   :0.000   Min.   :0.0000  \n",
       " 1st Qu.:0.0000   1st Qu.:0.00000   1st Qu.:1.000   1st Qu.:0.0000  \n",
       " Median :0.0000   Median :0.00000   Median :2.000   Median :0.0000  \n",
       " Mean   :0.4253   Mean   :0.05753   Mean   :1.565   Mean   :0.3829  \n",
       " 3rd Qu.:1.0000   3rd Qu.:0.00000   3rd Qu.:2.000   3rd Qu.:1.0000  \n",
       " Max.   :3.0000   Max.   :2.00000   Max.   :3.000   Max.   :2.0000  \n",
       "                                                                    \n",
       "  BedroomAbvGr    KitchenQual     TotRmsAbvGrd      Fireplaces    FireplaceQu\n",
       " Min.   :0.000   Min.   :2.000   Min.   : 2.000   Min.   :0.000   Ex  : 24   \n",
       " 1st Qu.:2.000   1st Qu.:3.000   1st Qu.: 5.000   1st Qu.:0.000   Fa  : 33   \n",
       " Median :3.000   Median :3.000   Median : 6.000   Median :1.000   Gd  :380   \n",
       " Mean   :2.866   Mean   :3.512   Mean   : 6.518   Mean   :0.613   Po  : 20   \n",
       " 3rd Qu.:3.000   3rd Qu.:4.000   3rd Qu.: 7.000   3rd Qu.:1.000   TA  :313   \n",
       " Max.   :8.000   Max.   :5.000   Max.   :14.000   Max.   :3.000   None:690   \n",
       "                                                                             \n",
       "   GarageType   GarageYrBlt         GarageFinish   GarageCars   \n",
       " 2Types :  6   Min.   :1872-01-01   Fin :352     Min.   :0.000  \n",
       " Attchd :870   1st Qu.:1959-01-01   RFn :422     1st Qu.:1.000  \n",
       " Basment: 19   Median :1978-01-01   Unf :605     Median :2.000  \n",
       " BuiltIn: 88   Mean   :1976-07-04   None: 81     Mean   :1.767  \n",
       " CarPort:  9   3rd Qu.:2001-01-01                3rd Qu.:2.000  \n",
       " Detchd :387   Max.   :2010-01-01                Max.   :4.000  \n",
       " None   : 81                                                    \n",
       "   GarageArea       PavedDrive      WoodDeckSF      OpenPorchSF      PoolQC    \n",
       " Min.   :   0.0   Min.   :1.000   Min.   :  0.00   Min.   :  0.00   Ex  :   2  \n",
       " 1st Qu.: 334.5   1st Qu.:3.000   1st Qu.:  0.00   1st Qu.:  0.00   Fa  :   2  \n",
       " Median : 480.0   Median :3.000   Median :  0.00   Median : 25.00   Gd  :   3  \n",
       " Mean   : 473.0   Mean   :2.856   Mean   : 94.24   Mean   : 46.66   None:1453  \n",
       " 3rd Qu.: 576.0   3rd Qu.:3.000   3rd Qu.:168.00   3rd Qu.: 68.00              \n",
       " Max.   :1418.0   Max.   :3.000   Max.   :857.00   Max.   :547.00              \n",
       "                                                                               \n",
       "   Fence       MiscFeature          YrSold              SaleType   \n",
       " GdPrv:  59   Min.   :0.00000   Min.   :2006-01-01   WD     :1267  \n",
       " GdWo :  54   1st Qu.:0.00000   1st Qu.:2007-04-01   New    : 122  \n",
       " MnPrv: 157   Median :0.00000   Median :2008-05-01   COD    :  43  \n",
       " MnWw :  11   Mean   :0.03699   Mean   :2008-04-04   ConLD  :   9  \n",
       " None :1179   3rd Qu.:0.00000   3rd Qu.:2009-06-01   ConLI  :   5  \n",
       "              Max.   :1.00000   Max.   :2010-07-01   ConLw  :   5  \n",
       "                                                     (Other):   9  \n",
       " SaleCondition    SalePrice     \n",
       " Abnorml: 101   Min.   : 34900  \n",
       " AdjLand:   4   1st Qu.:129975  \n",
       " Alloca :  12   Median :163000  \n",
       " Family :  20   Mean   :180921  \n",
       " Normal :1198   3rd Qu.:214000  \n",
       " Partial: 125   Max.   :755000  \n",
       "                                "
      ]
     },
     "metadata": {},
     "output_type": "display_data"
    }
   ],
   "source": [
    "summary(trainfull)"
   ]
  },
  {
   "cell_type": "markdown",
   "metadata": {},
   "source": [
    "## Résultat après nettoyage"
   ]
  },
  {
   "cell_type": "code",
   "execution_count": 503,
   "metadata": {},
   "outputs": [
    {
     "data": {
      "text/html": [
       "<table>\n",
       "<caption>A data.frame: 6 × 61</caption>\n",
       "<thead>\n",
       "\t<tr><th scope=col>MSSubClass</th><th scope=col>MSZoning</th><th scope=col>LotFrontage</th><th scope=col>LotArea</th><th scope=col>Alley</th><th scope=col>LotShape</th><th scope=col>LotConfig</th><th scope=col>Neighborhood</th><th scope=col>Condition1</th><th scope=col>BldgType</th><th scope=col>HouseStyle</th><th scope=col>OverallQual</th><th scope=col>OverallCond</th><th scope=col>YearBuilt</th><th scope=col>YearRemodAdd</th><th scope=col>RoofStyle</th><th scope=col>RoofMatl</th><th scope=col>Exterior1st</th><th scope=col>Exterior2nd</th><th scope=col>MasVnrType</th><th scope=col>MasVnrArea</th><th scope=col>ExterQual</th><th scope=col>ExterCond</th><th scope=col>Foundation</th><th scope=col>BsmtQual</th><th scope=col>BsmtExposure</th><th scope=col>BsmtFinType1</th><th scope=col>BsmtFinSF1</th><th scope=col>BsmtUnfSF</th><th scope=col>TotalBsmtSF</th><th scope=col>Heating</th><th scope=col>HeatingQC</th><th scope=col>CentralAir</th><th scope=col>Electrical</th><th scope=col>X1stFlrSF</th><th scope=col>X2ndFlrSF</th><th scope=col>GrLivArea</th><th scope=col>BsmtFullBath</th><th scope=col>BsmtHalfBath</th><th scope=col>FullBath</th><th scope=col>HalfBath</th><th scope=col>BedroomAbvGr</th><th scope=col>KitchenQual</th><th scope=col>TotRmsAbvGrd</th><th scope=col>Fireplaces</th><th scope=col>FireplaceQu</th><th scope=col>GarageType</th><th scope=col>GarageYrBlt</th><th scope=col>GarageFinish</th><th scope=col>GarageCars</th><th scope=col>GarageArea</th><th scope=col>PavedDrive</th><th scope=col>WoodDeckSF</th><th scope=col>OpenPorchSF</th><th scope=col>PoolQC</th><th scope=col>Fence</th><th scope=col>MiscFeature</th><th scope=col>YrSold</th><th scope=col>SaleType</th><th scope=col>SaleCondition</th><th scope=col>SalePrice</th></tr>\n",
       "\t<tr><th scope=col>&lt;fct&gt;</th><th scope=col>&lt;fct&gt;</th><th scope=col>&lt;int&gt;</th><th scope=col>&lt;int&gt;</th><th scope=col>&lt;fct&gt;</th><th scope=col>&lt;dbl&gt;</th><th scope=col>&lt;fct&gt;</th><th scope=col>&lt;fct&gt;</th><th scope=col>&lt;fct&gt;</th><th scope=col>&lt;fct&gt;</th><th scope=col>&lt;fct&gt;</th><th scope=col>&lt;int&gt;</th><th scope=col>&lt;int&gt;</th><th scope=col>&lt;date&gt;</th><th scope=col>&lt;date&gt;</th><th scope=col>&lt;fct&gt;</th><th scope=col>&lt;dbl&gt;</th><th scope=col>&lt;fct&gt;</th><th scope=col>&lt;fct&gt;</th><th scope=col>&lt;fct&gt;</th><th scope=col>&lt;dbl&gt;</th><th scope=col>&lt;dbl&gt;</th><th scope=col>&lt;dbl&gt;</th><th scope=col>&lt;fct&gt;</th><th scope=col>&lt;dbl&gt;</th><th scope=col>&lt;dbl&gt;</th><th scope=col>&lt;dbl&gt;</th><th scope=col>&lt;int&gt;</th><th scope=col>&lt;int&gt;</th><th scope=col>&lt;int&gt;</th><th scope=col>&lt;dbl&gt;</th><th scope=col>&lt;dbl&gt;</th><th scope=col>&lt;dbl&gt;</th><th scope=col>&lt;dbl&gt;</th><th scope=col>&lt;int&gt;</th><th scope=col>&lt;int&gt;</th><th scope=col>&lt;int&gt;</th><th scope=col>&lt;int&gt;</th><th scope=col>&lt;int&gt;</th><th scope=col>&lt;int&gt;</th><th scope=col>&lt;int&gt;</th><th scope=col>&lt;int&gt;</th><th scope=col>&lt;dbl&gt;</th><th scope=col>&lt;int&gt;</th><th scope=col>&lt;int&gt;</th><th scope=col>&lt;fct&gt;</th><th scope=col>&lt;fct&gt;</th><th scope=col>&lt;date&gt;</th><th scope=col>&lt;fct&gt;</th><th scope=col>&lt;int&gt;</th><th scope=col>&lt;int&gt;</th><th scope=col>&lt;dbl&gt;</th><th scope=col>&lt;int&gt;</th><th scope=col>&lt;int&gt;</th><th scope=col>&lt;fct&gt;</th><th scope=col>&lt;fct&gt;</th><th scope=col>&lt;dbl&gt;</th><th scope=col>&lt;date&gt;</th><th scope=col>&lt;fct&gt;</th><th scope=col>&lt;fct&gt;</th><th scope=col>&lt;int&gt;</th></tr>\n",
       "</thead>\n",
       "<tbody>\n",
       "\t<tr><td>60</td><td>RL</td><td>65</td><td> 8450</td><td>None</td><td>4</td><td>Inside</td><td>CollgCr</td><td>Norm </td><td>1Fam</td><td>2Story</td><td>7</td><td>5</td><td>2003-01-01</td><td>2003-01-01</td><td>Gable</td><td>0</td><td>VinylSd</td><td>VinylSd</td><td>BrkFace</td><td>196</td><td>4</td><td>3</td><td>PConc </td><td>4</td><td>1</td><td>6</td><td>706</td><td>150</td><td> 856</td><td>0</td><td>5</td><td>1</td><td>5</td><td> 856</td><td> 854</td><td>1710</td><td>1</td><td>0</td><td>2</td><td>1</td><td>3</td><td>4</td><td>8</td><td>0</td><td>None</td><td>Attchd</td><td>2003-01-01</td><td>RFn</td><td>2</td><td>548</td><td>3</td><td>  0</td><td>61</td><td>None</td><td>None </td><td>0</td><td>2008-02-01</td><td>WD</td><td>Normal </td><td>208500</td></tr>\n",
       "\t<tr><td>20</td><td>RL</td><td>80</td><td> 9600</td><td>None</td><td>4</td><td>FR2   </td><td>Veenker</td><td>Feedr</td><td>1Fam</td><td>1Story</td><td>6</td><td>8</td><td>1976-01-01</td><td>1976-01-01</td><td>Gable</td><td>0</td><td>MetalSd</td><td>MetalSd</td><td>None   </td><td>  0</td><td>3</td><td>3</td><td>CBlock</td><td>4</td><td>4</td><td>5</td><td>978</td><td>284</td><td>1262</td><td>0</td><td>5</td><td>1</td><td>5</td><td>1262</td><td>   0</td><td>1262</td><td>0</td><td>1</td><td>2</td><td>0</td><td>3</td><td>3</td><td>6</td><td>1</td><td>TA  </td><td>Attchd</td><td>1976-01-01</td><td>RFn</td><td>2</td><td>460</td><td>3</td><td>298</td><td> 0</td><td>None</td><td>None </td><td>0</td><td>2007-05-01</td><td>WD</td><td>Normal </td><td>181500</td></tr>\n",
       "\t<tr><td>60</td><td>RL</td><td>68</td><td>11250</td><td>None</td><td>3</td><td>Inside</td><td>CollgCr</td><td>Norm </td><td>1Fam</td><td>2Story</td><td>7</td><td>5</td><td>2001-01-01</td><td>2002-01-01</td><td>Gable</td><td>0</td><td>VinylSd</td><td>VinylSd</td><td>BrkFace</td><td>162</td><td>4</td><td>3</td><td>PConc </td><td>4</td><td>2</td><td>6</td><td>486</td><td>434</td><td> 920</td><td>0</td><td>5</td><td>1</td><td>5</td><td> 920</td><td> 866</td><td>1786</td><td>1</td><td>0</td><td>2</td><td>1</td><td>3</td><td>4</td><td>6</td><td>1</td><td>TA  </td><td>Attchd</td><td>2001-01-01</td><td>RFn</td><td>2</td><td>608</td><td>3</td><td>  0</td><td>42</td><td>None</td><td>None </td><td>0</td><td>2008-09-01</td><td>WD</td><td>Normal </td><td>223500</td></tr>\n",
       "\t<tr><td>70</td><td>RL</td><td>60</td><td> 9550</td><td>None</td><td>3</td><td>Corner</td><td>Crawfor</td><td>Norm </td><td>1Fam</td><td>2Story</td><td>7</td><td>5</td><td>1915-01-01</td><td>1970-01-01</td><td>Gable</td><td>0</td><td>Wd Sdng</td><td>Wd Shng</td><td>None   </td><td>  0</td><td>3</td><td>3</td><td>BrkTil</td><td>3</td><td>1</td><td>5</td><td>216</td><td>540</td><td> 756</td><td>0</td><td>4</td><td>1</td><td>5</td><td> 961</td><td> 756</td><td>1717</td><td>1</td><td>0</td><td>1</td><td>0</td><td>3</td><td>4</td><td>7</td><td>1</td><td>Gd  </td><td>Detchd</td><td>1998-01-01</td><td>Unf</td><td>3</td><td>642</td><td>3</td><td>  0</td><td>35</td><td>None</td><td>None </td><td>0</td><td>2006-02-01</td><td>WD</td><td>Abnorml</td><td>140000</td></tr>\n",
       "\t<tr><td>60</td><td>RL</td><td>84</td><td>14260</td><td>None</td><td>3</td><td>FR2   </td><td>NoRidge</td><td>Norm </td><td>1Fam</td><td>2Story</td><td>8</td><td>5</td><td>2000-01-01</td><td>2000-01-01</td><td>Gable</td><td>0</td><td>VinylSd</td><td>VinylSd</td><td>BrkFace</td><td>350</td><td>4</td><td>3</td><td>PConc </td><td>4</td><td>3</td><td>6</td><td>655</td><td>490</td><td>1145</td><td>0</td><td>5</td><td>1</td><td>5</td><td>1145</td><td>1053</td><td>2198</td><td>1</td><td>0</td><td>2</td><td>1</td><td>4</td><td>4</td><td>9</td><td>1</td><td>TA  </td><td>Attchd</td><td>2000-01-01</td><td>RFn</td><td>3</td><td>836</td><td>3</td><td>192</td><td>84</td><td>None</td><td>None </td><td>0</td><td>2008-12-01</td><td>WD</td><td>Normal </td><td>250000</td></tr>\n",
       "\t<tr><td>50</td><td>RL</td><td>85</td><td>14115</td><td>None</td><td>3</td><td>Inside</td><td>Mitchel</td><td>Norm </td><td>1Fam</td><td>1.5Fin</td><td>5</td><td>5</td><td>1993-01-01</td><td>1995-01-01</td><td>Gable</td><td>0</td><td>VinylSd</td><td>VinylSd</td><td>None   </td><td>  0</td><td>3</td><td>3</td><td>Wood  </td><td>4</td><td>1</td><td>6</td><td>732</td><td> 64</td><td> 796</td><td>0</td><td>5</td><td>1</td><td>5</td><td> 796</td><td> 566</td><td>1362</td><td>1</td><td>0</td><td>1</td><td>1</td><td>1</td><td>3</td><td>5</td><td>0</td><td>None</td><td>Attchd</td><td>1993-01-01</td><td>Unf</td><td>2</td><td>480</td><td>3</td><td> 40</td><td>30</td><td>None</td><td>MnPrv</td><td>1</td><td>2009-10-01</td><td>WD</td><td>Normal </td><td>143000</td></tr>\n",
       "</tbody>\n",
       "</table>\n"
      ],
      "text/latex": [
       "A data.frame: 6 × 61\n",
       "\\begin{tabular}{r|lllllllllllllllllllllllllllllllllllllllllllllllllllllllllllll}\n",
       " MSSubClass & MSZoning & LotFrontage & LotArea & Alley & LotShape & LotConfig & Neighborhood & Condition1 & BldgType & HouseStyle & OverallQual & OverallCond & YearBuilt & YearRemodAdd & RoofStyle & RoofMatl & Exterior1st & Exterior2nd & MasVnrType & MasVnrArea & ExterQual & ExterCond & Foundation & BsmtQual & BsmtExposure & BsmtFinType1 & BsmtFinSF1 & BsmtUnfSF & TotalBsmtSF & Heating & HeatingQC & CentralAir & Electrical & X1stFlrSF & X2ndFlrSF & GrLivArea & BsmtFullBath & BsmtHalfBath & FullBath & HalfBath & BedroomAbvGr & KitchenQual & TotRmsAbvGrd & Fireplaces & FireplaceQu & GarageType & GarageYrBlt & GarageFinish & GarageCars & GarageArea & PavedDrive & WoodDeckSF & OpenPorchSF & PoolQC & Fence & MiscFeature & YrSold & SaleType & SaleCondition & SalePrice\\\\\n",
       " <fct> & <fct> & <int> & <int> & <fct> & <dbl> & <fct> & <fct> & <fct> & <fct> & <fct> & <int> & <int> & <date> & <date> & <fct> & <dbl> & <fct> & <fct> & <fct> & <dbl> & <dbl> & <dbl> & <fct> & <dbl> & <dbl> & <dbl> & <int> & <int> & <int> & <dbl> & <dbl> & <dbl> & <dbl> & <int> & <int> & <int> & <int> & <int> & <int> & <int> & <int> & <dbl> & <int> & <int> & <fct> & <fct> & <date> & <fct> & <int> & <int> & <dbl> & <int> & <int> & <fct> & <fct> & <dbl> & <date> & <fct> & <fct> & <int>\\\\\n",
       "\\hline\n",
       "\t 60 & RL & 65 &  8450 & None & 4 & Inside & CollgCr & Norm  & 1Fam & 2Story & 7 & 5 & 2003-01-01 & 2003-01-01 & Gable & 0 & VinylSd & VinylSd & BrkFace & 196 & 4 & 3 & PConc  & 4 & 1 & 6 & 706 & 150 &  856 & 0 & 5 & 1 & 5 &  856 &  854 & 1710 & 1 & 0 & 2 & 1 & 3 & 4 & 8 & 0 & None & Attchd & 2003-01-01 & RFn & 2 & 548 & 3 &   0 & 61 & None & None  & 0 & 2008-02-01 & WD & Normal  & 208500\\\\\n",
       "\t 20 & RL & 80 &  9600 & None & 4 & FR2    & Veenker & Feedr & 1Fam & 1Story & 6 & 8 & 1976-01-01 & 1976-01-01 & Gable & 0 & MetalSd & MetalSd & None    &   0 & 3 & 3 & CBlock & 4 & 4 & 5 & 978 & 284 & 1262 & 0 & 5 & 1 & 5 & 1262 &    0 & 1262 & 0 & 1 & 2 & 0 & 3 & 3 & 6 & 1 & TA   & Attchd & 1976-01-01 & RFn & 2 & 460 & 3 & 298 &  0 & None & None  & 0 & 2007-05-01 & WD & Normal  & 181500\\\\\n",
       "\t 60 & RL & 68 & 11250 & None & 3 & Inside & CollgCr & Norm  & 1Fam & 2Story & 7 & 5 & 2001-01-01 & 2002-01-01 & Gable & 0 & VinylSd & VinylSd & BrkFace & 162 & 4 & 3 & PConc  & 4 & 2 & 6 & 486 & 434 &  920 & 0 & 5 & 1 & 5 &  920 &  866 & 1786 & 1 & 0 & 2 & 1 & 3 & 4 & 6 & 1 & TA   & Attchd & 2001-01-01 & RFn & 2 & 608 & 3 &   0 & 42 & None & None  & 0 & 2008-09-01 & WD & Normal  & 223500\\\\\n",
       "\t 70 & RL & 60 &  9550 & None & 3 & Corner & Crawfor & Norm  & 1Fam & 2Story & 7 & 5 & 1915-01-01 & 1970-01-01 & Gable & 0 & Wd Sdng & Wd Shng & None    &   0 & 3 & 3 & BrkTil & 3 & 1 & 5 & 216 & 540 &  756 & 0 & 4 & 1 & 5 &  961 &  756 & 1717 & 1 & 0 & 1 & 0 & 3 & 4 & 7 & 1 & Gd   & Detchd & 1998-01-01 & Unf & 3 & 642 & 3 &   0 & 35 & None & None  & 0 & 2006-02-01 & WD & Abnorml & 140000\\\\\n",
       "\t 60 & RL & 84 & 14260 & None & 3 & FR2    & NoRidge & Norm  & 1Fam & 2Story & 8 & 5 & 2000-01-01 & 2000-01-01 & Gable & 0 & VinylSd & VinylSd & BrkFace & 350 & 4 & 3 & PConc  & 4 & 3 & 6 & 655 & 490 & 1145 & 0 & 5 & 1 & 5 & 1145 & 1053 & 2198 & 1 & 0 & 2 & 1 & 4 & 4 & 9 & 1 & TA   & Attchd & 2000-01-01 & RFn & 3 & 836 & 3 & 192 & 84 & None & None  & 0 & 2008-12-01 & WD & Normal  & 250000\\\\\n",
       "\t 50 & RL & 85 & 14115 & None & 3 & Inside & Mitchel & Norm  & 1Fam & 1.5Fin & 5 & 5 & 1993-01-01 & 1995-01-01 & Gable & 0 & VinylSd & VinylSd & None    &   0 & 3 & 3 & Wood   & 4 & 1 & 6 & 732 &  64 &  796 & 0 & 5 & 1 & 5 &  796 &  566 & 1362 & 1 & 0 & 1 & 1 & 1 & 3 & 5 & 0 & None & Attchd & 1993-01-01 & Unf & 2 & 480 & 3 &  40 & 30 & None & MnPrv & 1 & 2009-10-01 & WD & Normal  & 143000\\\\\n",
       "\\end{tabular}\n"
      ],
      "text/markdown": [
       "\n",
       "A data.frame: 6 × 61\n",
       "\n",
       "| MSSubClass &lt;fct&gt; | MSZoning &lt;fct&gt; | LotFrontage &lt;int&gt; | LotArea &lt;int&gt; | Alley &lt;fct&gt; | LotShape &lt;dbl&gt; | LotConfig &lt;fct&gt; | Neighborhood &lt;fct&gt; | Condition1 &lt;fct&gt; | BldgType &lt;fct&gt; | HouseStyle &lt;fct&gt; | OverallQual &lt;int&gt; | OverallCond &lt;int&gt; | YearBuilt &lt;date&gt; | YearRemodAdd &lt;date&gt; | RoofStyle &lt;fct&gt; | RoofMatl &lt;dbl&gt; | Exterior1st &lt;fct&gt; | Exterior2nd &lt;fct&gt; | MasVnrType &lt;fct&gt; | MasVnrArea &lt;dbl&gt; | ExterQual &lt;dbl&gt; | ExterCond &lt;dbl&gt; | Foundation &lt;fct&gt; | BsmtQual &lt;dbl&gt; | BsmtExposure &lt;dbl&gt; | BsmtFinType1 &lt;dbl&gt; | BsmtFinSF1 &lt;int&gt; | BsmtUnfSF &lt;int&gt; | TotalBsmtSF &lt;int&gt; | Heating &lt;dbl&gt; | HeatingQC &lt;dbl&gt; | CentralAir &lt;dbl&gt; | Electrical &lt;dbl&gt; | X1stFlrSF &lt;int&gt; | X2ndFlrSF &lt;int&gt; | GrLivArea &lt;int&gt; | BsmtFullBath &lt;int&gt; | BsmtHalfBath &lt;int&gt; | FullBath &lt;int&gt; | HalfBath &lt;int&gt; | BedroomAbvGr &lt;int&gt; | KitchenQual &lt;dbl&gt; | TotRmsAbvGrd &lt;int&gt; | Fireplaces &lt;int&gt; | FireplaceQu &lt;fct&gt; | GarageType &lt;fct&gt; | GarageYrBlt &lt;date&gt; | GarageFinish &lt;fct&gt; | GarageCars &lt;int&gt; | GarageArea &lt;int&gt; | PavedDrive &lt;dbl&gt; | WoodDeckSF &lt;int&gt; | OpenPorchSF &lt;int&gt; | PoolQC &lt;fct&gt; | Fence &lt;fct&gt; | MiscFeature &lt;dbl&gt; | YrSold &lt;date&gt; | SaleType &lt;fct&gt; | SaleCondition &lt;fct&gt; | SalePrice &lt;int&gt; |\n",
       "|---|---|---|---|---|---|---|---|---|---|---|---|---|---|---|---|---|---|---|---|---|---|---|---|---|---|---|---|---|---|---|---|---|---|---|---|---|---|---|---|---|---|---|---|---|---|---|---|---|---|---|---|---|---|---|---|---|---|---|---|---|\n",
       "| 60 | RL | 65 |  8450 | None | 4 | Inside | CollgCr | Norm  | 1Fam | 2Story | 7 | 5 | 2003-01-01 | 2003-01-01 | Gable | 0 | VinylSd | VinylSd | BrkFace | 196 | 4 | 3 | PConc  | 4 | 1 | 6 | 706 | 150 |  856 | 0 | 5 | 1 | 5 |  856 |  854 | 1710 | 1 | 0 | 2 | 1 | 3 | 4 | 8 | 0 | None | Attchd | 2003-01-01 | RFn | 2 | 548 | 3 |   0 | 61 | None | None  | 0 | 2008-02-01 | WD | Normal  | 208500 |\n",
       "| 20 | RL | 80 |  9600 | None | 4 | FR2    | Veenker | Feedr | 1Fam | 1Story | 6 | 8 | 1976-01-01 | 1976-01-01 | Gable | 0 | MetalSd | MetalSd | None    |   0 | 3 | 3 | CBlock | 4 | 4 | 5 | 978 | 284 | 1262 | 0 | 5 | 1 | 5 | 1262 |    0 | 1262 | 0 | 1 | 2 | 0 | 3 | 3 | 6 | 1 | TA   | Attchd | 1976-01-01 | RFn | 2 | 460 | 3 | 298 |  0 | None | None  | 0 | 2007-05-01 | WD | Normal  | 181500 |\n",
       "| 60 | RL | 68 | 11250 | None | 3 | Inside | CollgCr | Norm  | 1Fam | 2Story | 7 | 5 | 2001-01-01 | 2002-01-01 | Gable | 0 | VinylSd | VinylSd | BrkFace | 162 | 4 | 3 | PConc  | 4 | 2 | 6 | 486 | 434 |  920 | 0 | 5 | 1 | 5 |  920 |  866 | 1786 | 1 | 0 | 2 | 1 | 3 | 4 | 6 | 1 | TA   | Attchd | 2001-01-01 | RFn | 2 | 608 | 3 |   0 | 42 | None | None  | 0 | 2008-09-01 | WD | Normal  | 223500 |\n",
       "| 70 | RL | 60 |  9550 | None | 3 | Corner | Crawfor | Norm  | 1Fam | 2Story | 7 | 5 | 1915-01-01 | 1970-01-01 | Gable | 0 | Wd Sdng | Wd Shng | None    |   0 | 3 | 3 | BrkTil | 3 | 1 | 5 | 216 | 540 |  756 | 0 | 4 | 1 | 5 |  961 |  756 | 1717 | 1 | 0 | 1 | 0 | 3 | 4 | 7 | 1 | Gd   | Detchd | 1998-01-01 | Unf | 3 | 642 | 3 |   0 | 35 | None | None  | 0 | 2006-02-01 | WD | Abnorml | 140000 |\n",
       "| 60 | RL | 84 | 14260 | None | 3 | FR2    | NoRidge | Norm  | 1Fam | 2Story | 8 | 5 | 2000-01-01 | 2000-01-01 | Gable | 0 | VinylSd | VinylSd | BrkFace | 350 | 4 | 3 | PConc  | 4 | 3 | 6 | 655 | 490 | 1145 | 0 | 5 | 1 | 5 | 1145 | 1053 | 2198 | 1 | 0 | 2 | 1 | 4 | 4 | 9 | 1 | TA   | Attchd | 2000-01-01 | RFn | 3 | 836 | 3 | 192 | 84 | None | None  | 0 | 2008-12-01 | WD | Normal  | 250000 |\n",
       "| 50 | RL | 85 | 14115 | None | 3 | Inside | Mitchel | Norm  | 1Fam | 1.5Fin | 5 | 5 | 1993-01-01 | 1995-01-01 | Gable | 0 | VinylSd | VinylSd | None    |   0 | 3 | 3 | Wood   | 4 | 1 | 6 | 732 |  64 |  796 | 0 | 5 | 1 | 5 |  796 |  566 | 1362 | 1 | 0 | 1 | 1 | 1 | 3 | 5 | 0 | None | Attchd | 1993-01-01 | Unf | 2 | 480 | 3 |  40 | 30 | None | MnPrv | 1 | 2009-10-01 | WD | Normal  | 143000 |\n",
       "\n"
      ],
      "text/plain": [
       "  MSSubClass MSZoning LotFrontage LotArea Alley LotShape LotConfig Neighborhood\n",
       "1 60         RL       65           8450   None  4        Inside    CollgCr     \n",
       "2 20         RL       80           9600   None  4        FR2       Veenker     \n",
       "3 60         RL       68          11250   None  3        Inside    CollgCr     \n",
       "4 70         RL       60           9550   None  3        Corner    Crawfor     \n",
       "5 60         RL       84          14260   None  3        FR2       NoRidge     \n",
       "6 50         RL       85          14115   None  3        Inside    Mitchel     \n",
       "  Condition1 BldgType HouseStyle OverallQual OverallCond YearBuilt \n",
       "1 Norm       1Fam     2Story     7           5           2003-01-01\n",
       "2 Feedr      1Fam     1Story     6           8           1976-01-01\n",
       "3 Norm       1Fam     2Story     7           5           2001-01-01\n",
       "4 Norm       1Fam     2Story     7           5           1915-01-01\n",
       "5 Norm       1Fam     2Story     8           5           2000-01-01\n",
       "6 Norm       1Fam     1.5Fin     5           5           1993-01-01\n",
       "  YearRemodAdd RoofStyle RoofMatl Exterior1st Exterior2nd MasVnrType MasVnrArea\n",
       "1 2003-01-01   Gable     0        VinylSd     VinylSd     BrkFace    196       \n",
       "2 1976-01-01   Gable     0        MetalSd     MetalSd     None         0       \n",
       "3 2002-01-01   Gable     0        VinylSd     VinylSd     BrkFace    162       \n",
       "4 1970-01-01   Gable     0        Wd Sdng     Wd Shng     None         0       \n",
       "5 2000-01-01   Gable     0        VinylSd     VinylSd     BrkFace    350       \n",
       "6 1995-01-01   Gable     0        VinylSd     VinylSd     None         0       \n",
       "  ExterQual ExterCond Foundation BsmtQual BsmtExposure BsmtFinType1 BsmtFinSF1\n",
       "1 4         3         PConc      4        1            6            706       \n",
       "2 3         3         CBlock     4        4            5            978       \n",
       "3 4         3         PConc      4        2            6            486       \n",
       "4 3         3         BrkTil     3        1            5            216       \n",
       "5 4         3         PConc      4        3            6            655       \n",
       "6 3         3         Wood       4        1            6            732       \n",
       "  BsmtUnfSF TotalBsmtSF Heating HeatingQC CentralAir Electrical X1stFlrSF\n",
       "1 150        856        0       5         1          5           856     \n",
       "2 284       1262        0       5         1          5          1262     \n",
       "3 434        920        0       5         1          5           920     \n",
       "4 540        756        0       4         1          5           961     \n",
       "5 490       1145        0       5         1          5          1145     \n",
       "6  64        796        0       5         1          5           796     \n",
       "  X2ndFlrSF GrLivArea BsmtFullBath BsmtHalfBath FullBath HalfBath BedroomAbvGr\n",
       "1  854      1710      1            0            2        1        3           \n",
       "2    0      1262      0            1            2        0        3           \n",
       "3  866      1786      1            0            2        1        3           \n",
       "4  756      1717      1            0            1        0        3           \n",
       "5 1053      2198      1            0            2        1        4           \n",
       "6  566      1362      1            0            1        1        1           \n",
       "  KitchenQual TotRmsAbvGrd Fireplaces FireplaceQu GarageType GarageYrBlt\n",
       "1 4           8            0          None        Attchd     2003-01-01 \n",
       "2 3           6            1          TA          Attchd     1976-01-01 \n",
       "3 4           6            1          TA          Attchd     2001-01-01 \n",
       "4 4           7            1          Gd          Detchd     1998-01-01 \n",
       "5 4           9            1          TA          Attchd     2000-01-01 \n",
       "6 3           5            0          None        Attchd     1993-01-01 \n",
       "  GarageFinish GarageCars GarageArea PavedDrive WoodDeckSF OpenPorchSF PoolQC\n",
       "1 RFn          2          548        3            0        61          None  \n",
       "2 RFn          2          460        3          298         0          None  \n",
       "3 RFn          2          608        3            0        42          None  \n",
       "4 Unf          3          642        3            0        35          None  \n",
       "5 RFn          3          836        3          192        84          None  \n",
       "6 Unf          2          480        3           40        30          None  \n",
       "  Fence MiscFeature YrSold     SaleType SaleCondition SalePrice\n",
       "1 None  0           2008-02-01 WD       Normal        208500   \n",
       "2 None  0           2007-05-01 WD       Normal        181500   \n",
       "3 None  0           2008-09-01 WD       Normal        223500   \n",
       "4 None  0           2006-02-01 WD       Abnorml       140000   \n",
       "5 None  0           2008-12-01 WD       Normal        250000   \n",
       "6 MnPrv 1           2009-10-01 WD       Normal        143000   "
      ]
     },
     "metadata": {},
     "output_type": "display_data"
    }
   ],
   "source": [
    "head(trainfull)"
   ]
  },
  {
   "cell_type": "code",
   "execution_count": 504,
   "metadata": {},
   "outputs": [
    {
     "name": "stdout",
     "output_type": "stream",
     "text": [
      "nombre d'input :  1460\n",
      "nombre de features :  61"
     ]
    }
   ],
   "source": [
    "cat(\"nombre d'input : \", nrow(trainfull))\n",
    "cat('\\n')\n",
    "cat(\"nombre de features : \", ncol(trainfull))"
   ]
  },
  {
   "cell_type": "code",
   "execution_count": 505,
   "metadata": {},
   "outputs": [
    {
     "name": "stdout",
     "output_type": "stream",
     "text": [
      "nombre de variables quantitatives :  37\n",
      "nombre de variables type date :  4\n",
      "nombre de variables catégorielles :  20"
     ]
    }
   ],
   "source": [
    "trainfull_quant = select_if(trainfull, is.numeric)\n",
    "trainfull_date = select_if(trainfull, is.Date)\n",
    "trainfull_qual = select_if(trainfull, is.factor)\n",
    "cat('nombre de variables quantitatives : ', ncol(trainfull_quant))\n",
    "cat('\\n')\n",
    "cat('nombre de variables type date : ', ncol(trainfull_date))\n",
    "cat('\\n')\n",
    "cat('nombre de variables catégorielles : ', ncol(trainfull_qual))"
   ]
  },
  {
   "cell_type": "markdown",
   "metadata": {},
   "source": [
    "# Analyse du dataset"
   ]
  },
  {
   "cell_type": "markdown",
   "metadata": {},
   "source": [
    "## Résumé par feature"
   ]
  },
  {
   "cell_type": "code",
   "execution_count": 506,
   "metadata": {},
   "outputs": [
    {
     "data": {
      "text/plain": [
       "   MSSubClass     MSZoning     LotFrontage        LotArea        Alley     \n",
       " 20     :536   C (all):  10   Min.   : 21.00   Min.   :  1300   Grvl:  50  \n",
       " 60     :299   FV     :  65   1st Qu.: 60.00   1st Qu.:  7554   Pave:  41  \n",
       " 50     :144   RH     :  16   Median : 69.00   Median :  9478   None:1369  \n",
       " 120    : 87   RL     :1151   Mean   : 69.86   Mean   : 10517              \n",
       " 30     : 69   RM     : 218   3rd Qu.: 79.00   3rd Qu.: 11602              \n",
       " 160    : 63                  Max.   :313.00   Max.   :215245              \n",
       " (Other):262                                                               \n",
       "    LotShape       LotConfig     Neighborhood   Condition1     BldgType   \n",
       " Min.   :1.000   Corner : 263   NAmes  :225   Norm   :1260   1Fam  :1220  \n",
       " 1st Qu.:3.000   CulDSac:  94   CollgCr:150   Feedr  :  81   2fmCon:  31  \n",
       " Median :4.000   FR2    :  47   OldTown:113   Artery :  48   Duplex:  52  \n",
       " Mean   :3.592   FR3    :   4   Edwards:100   RRAn   :  26   Twnhs :  43  \n",
       " 3rd Qu.:4.000   Inside :1052   Somerst: 86   PosN   :  19   TwnhsE: 114  \n",
       " Max.   :4.000                  Gilbert: 79   RRAe   :  11                \n",
       "                                (Other):707   (Other):  15                \n",
       "   HouseStyle   OverallQual      OverallCond      YearBuilt         \n",
       " 1Story :726   Min.   : 1.000   Min.   :1.000   Min.   :1872-01-01  \n",
       " 2Story :445   1st Qu.: 5.000   1st Qu.:5.000   1st Qu.:1954-01-01  \n",
       " 1.5Fin :154   Median : 6.000   Median :5.000   Median :1973-01-01  \n",
       " SLvl   : 65   Mean   : 6.099   Mean   :5.575   Mean   :1971-04-08  \n",
       " SFoyer : 37   3rd Qu.: 7.000   3rd Qu.:6.000   3rd Qu.:2000-01-01  \n",
       " 1.5Unf : 14   Max.   :10.000   Max.   :9.000   Max.   :2010-01-01  \n",
       " (Other): 19                                                        \n",
       "  YearRemodAdd          RoofStyle       RoofMatl        Exterior1st \n",
       " Min.   :1950-01-01   Flat   :  13   Min.   :0.00000   VinylSd:515  \n",
       " 1st Qu.:1967-01-01   Gable  :1141   1st Qu.:0.00000   HdBoard:222  \n",
       " Median :1994-01-01   Gambrel:  11   Median :0.00000   MetalSd:220  \n",
       " Mean   :1984-11-12   Hip    : 286   Mean   :0.01781   Wd Sdng:206  \n",
       " 3rd Qu.:2004-01-01   Mansard:   7   3rd Qu.:0.00000   Plywood:108  \n",
       " Max.   :2010-01-01   Shed   :   2   Max.   :1.00000   CemntBd: 61  \n",
       "                                                       (Other):128  \n",
       "  Exterior2nd    MasVnrType    MasVnrArea       ExterQual       ExterCond    \n",
       " VinylSd:504   BrkCmn : 15   Min.   :   0.0   Min.   :2.000   Min.   :1.000  \n",
       " MetalSd:214   BrkFace:445   1st Qu.:   0.0   1st Qu.:3.000   1st Qu.:3.000  \n",
       " HdBoard:207   None   :872   Median :   0.0   Median :3.000   Median :3.000  \n",
       " Wd Sdng:197   Stone  :128   Mean   : 103.1   Mean   :3.396   Mean   :3.084  \n",
       " Plywood:142                 3rd Qu.: 164.2   3rd Qu.:4.000   3rd Qu.:3.000  \n",
       " CmentBd: 60                 Max.   :1600.0   Max.   :5.000   Max.   :5.000  \n",
       " (Other):136                                                                 \n",
       "  Foundation     BsmtQual     BsmtExposure    BsmtFinType1     BsmtFinSF1    \n",
       " BrkTil:146   Min.   :2.00   Min.   :1.000   Min.   :1.000   Min.   :   0.0  \n",
       " CBlock:634   1st Qu.:3.00   1st Qu.:1.000   1st Qu.:1.000   1st Qu.:   0.0  \n",
       " PConc :647   Median :4.00   Median :1.000   Median :4.000   Median : 383.5  \n",
       " Slab  : 24   Mean   :3.59   Mean   :1.656   Mean   :3.647   Mean   : 443.6  \n",
       " Stone :  6   3rd Qu.:4.00   3rd Qu.:2.000   3rd Qu.:6.000   3rd Qu.: 712.2  \n",
       " Wood  :  3   Max.   :5.00   Max.   :4.000   Max.   :6.000   Max.   :5644.0  \n",
       "                                                                             \n",
       "   BsmtUnfSF       TotalBsmtSF        Heating          HeatingQC    \n",
       " Min.   :   0.0   Min.   :   0.0   Min.   :0.00000   Min.   :1.000  \n",
       " 1st Qu.: 223.0   1st Qu.: 795.8   1st Qu.:0.00000   1st Qu.:3.000  \n",
       " Median : 477.5   Median : 991.5   Median :0.00000   Median :5.000  \n",
       " Mean   : 567.2   Mean   :1057.4   Mean   :0.02192   Mean   :4.145  \n",
       " 3rd Qu.: 808.0   3rd Qu.:1298.2   3rd Qu.:0.00000   3rd Qu.:5.000  \n",
       " Max.   :2336.0   Max.   :6110.0   Max.   :1.00000   Max.   :5.000  \n",
       "                                                                    \n",
       "   CentralAir       Electrical     X1stFlrSF      X2ndFlrSF      GrLivArea   \n",
       " Min.   :0.0000   Min.   :1.00   Min.   : 334   Min.   :   0   Min.   : 334  \n",
       " 1st Qu.:1.0000   1st Qu.:5.00   1st Qu.: 882   1st Qu.:   0   1st Qu.:1130  \n",
       " Median :1.0000   Median :5.00   Median :1087   Median :   0   Median :1464  \n",
       " Mean   :0.9349   Mean   :4.89   Mean   :1163   Mean   : 347   Mean   :1515  \n",
       " 3rd Qu.:1.0000   3rd Qu.:5.00   3rd Qu.:1391   3rd Qu.: 728   3rd Qu.:1777  \n",
       " Max.   :1.0000   Max.   :5.00   Max.   :4692   Max.   :2065   Max.   :5642  \n",
       "                                                                             \n",
       "  BsmtFullBath     BsmtHalfBath        FullBath        HalfBath     \n",
       " Min.   :0.0000   Min.   :0.00000   Min.   :0.000   Min.   :0.0000  \n",
       " 1st Qu.:0.0000   1st Qu.:0.00000   1st Qu.:1.000   1st Qu.:0.0000  \n",
       " Median :0.0000   Median :0.00000   Median :2.000   Median :0.0000  \n",
       " Mean   :0.4253   Mean   :0.05753   Mean   :1.565   Mean   :0.3829  \n",
       " 3rd Qu.:1.0000   3rd Qu.:0.00000   3rd Qu.:2.000   3rd Qu.:1.0000  \n",
       " Max.   :3.0000   Max.   :2.00000   Max.   :3.000   Max.   :2.0000  \n",
       "                                                                    \n",
       "  BedroomAbvGr    KitchenQual     TotRmsAbvGrd      Fireplaces    FireplaceQu\n",
       " Min.   :0.000   Min.   :2.000   Min.   : 2.000   Min.   :0.000   Ex  : 24   \n",
       " 1st Qu.:2.000   1st Qu.:3.000   1st Qu.: 5.000   1st Qu.:0.000   Fa  : 33   \n",
       " Median :3.000   Median :3.000   Median : 6.000   Median :1.000   Gd  :380   \n",
       " Mean   :2.866   Mean   :3.512   Mean   : 6.518   Mean   :0.613   Po  : 20   \n",
       " 3rd Qu.:3.000   3rd Qu.:4.000   3rd Qu.: 7.000   3rd Qu.:1.000   TA  :313   \n",
       " Max.   :8.000   Max.   :5.000   Max.   :14.000   Max.   :3.000   None:690   \n",
       "                                                                             \n",
       "   GarageType   GarageYrBlt         GarageFinish   GarageCars   \n",
       " 2Types :  6   Min.   :1872-01-01   Fin :352     Min.   :0.000  \n",
       " Attchd :870   1st Qu.:1959-01-01   RFn :422     1st Qu.:1.000  \n",
       " Basment: 19   Median :1978-01-01   Unf :605     Median :2.000  \n",
       " BuiltIn: 88   Mean   :1976-07-04   None: 81     Mean   :1.767  \n",
       " CarPort:  9   3rd Qu.:2001-01-01                3rd Qu.:2.000  \n",
       " Detchd :387   Max.   :2010-01-01                Max.   :4.000  \n",
       " None   : 81                                                    \n",
       "   GarageArea       PavedDrive      WoodDeckSF      OpenPorchSF      PoolQC    \n",
       " Min.   :   0.0   Min.   :1.000   Min.   :  0.00   Min.   :  0.00   Ex  :   2  \n",
       " 1st Qu.: 334.5   1st Qu.:3.000   1st Qu.:  0.00   1st Qu.:  0.00   Fa  :   2  \n",
       " Median : 480.0   Median :3.000   Median :  0.00   Median : 25.00   Gd  :   3  \n",
       " Mean   : 473.0   Mean   :2.856   Mean   : 94.24   Mean   : 46.66   None:1453  \n",
       " 3rd Qu.: 576.0   3rd Qu.:3.000   3rd Qu.:168.00   3rd Qu.: 68.00              \n",
       " Max.   :1418.0   Max.   :3.000   Max.   :857.00   Max.   :547.00              \n",
       "                                                                               \n",
       "   Fence       MiscFeature          YrSold              SaleType   \n",
       " GdPrv:  59   Min.   :0.00000   Min.   :2006-01-01   WD     :1267  \n",
       " GdWo :  54   1st Qu.:0.00000   1st Qu.:2007-04-01   New    : 122  \n",
       " MnPrv: 157   Median :0.00000   Median :2008-05-01   COD    :  43  \n",
       " MnWw :  11   Mean   :0.03699   Mean   :2008-04-04   ConLD  :   9  \n",
       " None :1179   3rd Qu.:0.00000   3rd Qu.:2009-06-01   ConLI  :   5  \n",
       "              Max.   :1.00000   Max.   :2010-07-01   ConLw  :   5  \n",
       "                                                     (Other):   9  \n",
       " SaleCondition    SalePrice     \n",
       " Abnorml: 101   Min.   : 34900  \n",
       " AdjLand:   4   1st Qu.:129975  \n",
       " Alloca :  12   Median :163000  \n",
       " Family :  20   Mean   :180921  \n",
       " Normal :1198   3rd Qu.:214000  \n",
       " Partial: 125   Max.   :755000  \n",
       "                                "
      ]
     },
     "metadata": {},
     "output_type": "display_data"
    }
   ],
   "source": [
    "summary(trainfull)"
   ]
  },
  {
   "cell_type": "code",
   "execution_count": 507,
   "metadata": {},
   "outputs": [
    {
     "data": {
      "image/png": "[encoded data removed]",
      "text/plain": [
       "plot without title"
      ]
     },
     "metadata": {},
     "output_type": "display_data"
    }
   ],
   "source": [
    "options(repr.plot.width = 10, repr.plot.height = 20)\n",
    "ggplot(gather(trainfull_quant), aes(value)) +\n",
    "       geom_histogram(bins = 30) +\n",
    "       facet_wrap(~key, scales = 'free', ncol = 4)\n",
    "options(repr.plot.width = 5, repr.plot.height = 3)"
   ]
  },
  {
   "cell_type": "markdown",
   "metadata": {},
   "source": [
    "## Remarques :\n",
    "\n",
    "Features avec queue de distribution -> possibilité passer en log (si pas de 0)\n",
    "\n",
    "- BsmtFinSF1\n",
    "- BsmtUNFSF\n",
    "- GrLivArea\n",
    "- GarageArea\n",
    "- LotArea\n",
    "- LotFrontage\n",
    "- MasVnrArea\n",
    "- OpenPorchSF\n",
    "- SalePrice\n",
    "- TotalBsmtSF\n",
    "- WoodDeckSF\n",
    "- X1stFlrSF\n",
    "- X2ndFlrSF"
   ]
  },
  {
   "cell_type": "markdown",
   "metadata": {},
   "source": [
    "\"\"\"\n",
    "trainfull <- trainfull %>%\n",
    "    #mutate(BsmtFinSF1=log(BsmtFinSF1)) %>%\n",
    "    #mutate(BsmtUNFSF=log(BsmtUNFSF)) %>%\n",
    "    mutate_if(GrLivArea=log(GrLivArea)) %>%\n",
    "    mutate(GarageArea=log(GarageArea)) %>%\n",
    "    mutate(LotArea=log(LotArea)) %>%\n",
    "    mutate(LotFrontage=log(LotFrontage)) %>%\n",
    "    mutate(MasVnrArea=log(MasVnrArea)) %>%\n",
    "    mutate(OpenPorchSF=log(OpenPorchSF)) %>%\n",
    "    mutate(SalePrice=log(SalePrice)) %>%\n",
    "    mutate(TotalBsmtSF=log(TotalBsmtSF)) %>%\n",
    "    mutate(WoodDeckSF=log(WoodDeckSF)) %>%\n",
    "    mutate(X1stFlrSF=log(X1stFlrSF)) %>%\n",
    "    mutate(X2ndFlrSF=log(X2ndFlrSF))\n",
    "\"\"\""
   ]
  },
  {
   "cell_type": "markdown",
   "metadata": {},
   "source": [
    "Beaucoup de valeur à 0 qui semblent anormale -> mettre en NA / supprimer lignes / créer nouvelle feature ?\n",
    "- BsmtFinSF1\n",
    "- BsmtFinSF2\n",
    "- MasVnrArea\n",
    "- OpenPorchSF\n",
    "- WoodDeckSF\n",
    "- X2ndFlrSF"
   ]
  },
  {
   "cell_type": "code",
   "execution_count": 508,
   "metadata": {
    "scrolled": true
   },
   "outputs": [
    {
     "name": "stderr",
     "output_type": "stream",
     "text": [
      "Warning message:\n",
      "\"attributes are not identical across measure variables;\n",
      "they will be dropped\""
     ]
    },
    {
     "data": {
      "image/png": "[encoded data removed]",
      "text/plain": [
       "plot without title"
      ]
     },
     "metadata": {},
     "output_type": "display_data"
    }
   ],
   "source": [
    "options(repr.plot.width = 10, repr.plot.height = 10)\n",
    "ggplot(gather(trainfull_qual), aes(x=value)) +\n",
    "    geom_bar() +\n",
    "    facet_wrap(~key, scales = 'free', ncol = 4)\n",
    "options(repr.plot.width = 5, repr.plot.height = 3)"
   ]
  },
  {
   "cell_type": "markdown",
   "metadata": {},
   "source": [
    "## Matrice de corrélation"
   ]
  },
  {
   "cell_type": "markdown",
   "metadata": {},
   "source": [
    "### Suppression des variables redondantes"
   ]
  },
  {
   "cell_type": "code",
   "execution_count": 509,
   "metadata": {},
   "outputs": [
    {
     "data": {
      "text/html": [],
      "text/latex": [],
      "text/markdown": [],
      "text/plain": [
       "character(0)"
      ]
     },
     "metadata": {},
     "output_type": "display_data"
    }
   ],
   "source": [
    "res.cor <- cor(select(trainfull_quant, -SalePrice))\n",
    "res.highcorrelated <- findCorrelation(res.cor, cutoff = 0.9, verbose = F, names = T)\n",
    "res.highcorrelated"
   ]
  },
  {
   "cell_type": "code",
   "execution_count": 510,
   "metadata": {},
   "outputs": [],
   "source": [
    "#trainfull <- select(trainfull,\n",
    "#                    -OverallQual,\n",
    "#                    -GrLivArea,\n",
    "#                    -TotalBsmtSF,\n",
    "#                    -GarageCars,\n",
    "#                    -ExterQual\n",
    "#                   )"
   ]
  },
  {
   "cell_type": "markdown",
   "metadata": {},
   "source": [
    "### Calcul de la matrice"
   ]
  },
  {
   "cell_type": "code",
   "execution_count": 511,
   "metadata": {},
   "outputs": [
    {
     "name": "stdout",
     "output_type": "stream",
     "text": [
      "nombre de variables quantitatives :  37\n",
      "nombre de variables type date :  4\n",
      "nombre de variables catégorielles :  20"
     ]
    }
   ],
   "source": [
    "trainfull_quant = select_if(trainfull, is.numeric)\n",
    "trainfull_date = select_if(trainfull, is.Date)\n",
    "trainfull_qual = select_if(trainfull, is.factor)\n",
    "cat('nombre de variables quantitatives : ', ncol(trainfull_quant))\n",
    "cat('\\n')\n",
    "cat('nombre de variables type date : ', ncol(trainfull_date))\n",
    "cat('\\n')\n",
    "cat('nombre de variables catégorielles : ', ncol(trainfull_qual))"
   ]
  },
  {
   "cell_type": "code",
   "execution_count": 512,
   "metadata": {},
   "outputs": [
    {
     "data": {
      "image/png": "[encoded data removed]",
      "text/plain": [
       "Plot with title \"\""
      ]
     },
     "metadata": {},
     "output_type": "display_data"
    }
   ],
   "source": [
    "options(repr.plot.width = 10, repr.plot.height = 10)\n",
    "res.cor <- cor(trainfull_quant)\n",
    "corrplot(res.cor) # use='pairwise.complete.obs'\n",
    "options(repr.plot.width = 5, repr.plot.height = 3)"
   ]
  },
  {
   "cell_type": "markdown",
   "metadata": {},
   "source": [
    "## Analyse en composantes principales"
   ]
  },
  {
   "cell_type": "code",
   "execution_count": 513,
   "metadata": {},
   "outputs": [],
   "source": [
    "res.pca <- PCA(trainfull_quant)"
   ]
  },
  {
   "cell_type": "code",
   "execution_count": 514,
   "metadata": {},
   "outputs": [
    {
     "data": {
      "image/png": "[encoded data removed]",
      "text/plain": [
       "Plot with title \"Variances Explained by PCs (%)\""
      ]
     },
     "metadata": {},
     "output_type": "display_data"
    }
   ],
   "source": [
    "barplot(res.pca$eig[, 2], \n",
    "        names.arg = 1:nrow(res.pca$eig), \n",
    "        main = \"Variances Explained by PCs (%)\",\n",
    "        xlab = \"Principal Components\",\n",
    "        ylab = \"Percentage of variances\",\n",
    "        col =\"steelblue\")"
   ]
  },
  {
   "cell_type": "code",
   "execution_count": 515,
   "metadata": {},
   "outputs": [
    {
     "data": {
      "text/html": [
       "<dl class=dl-horizontal>\n",
       "\t<dt>comp 1</dt>\n",
       "\t\t<dd>24</dd>\n",
       "\t<dt>comp 2</dt>\n",
       "\t\t<dd>34</dd>\n",
       "\t<dt>comp 3</dt>\n",
       "\t\t<dd>40</dd>\n",
       "\t<dt>comp 4</dt>\n",
       "\t\t<dd>46</dd>\n",
       "\t<dt>comp 5</dt>\n",
       "\t\t<dd>51</dd>\n",
       "\t<dt>comp 6</dt>\n",
       "\t\t<dd>55</dd>\n",
       "\t<dt>comp 7</dt>\n",
       "\t\t<dd>58</dd>\n",
       "\t<dt>comp 8</dt>\n",
       "\t\t<dd>61</dd>\n",
       "\t<dt>comp 9</dt>\n",
       "\t\t<dd>64</dd>\n",
       "\t<dt>comp 10</dt>\n",
       "\t\t<dd>67</dd>\n",
       "\t<dt>comp 11</dt>\n",
       "\t\t<dd>70</dd>\n",
       "\t<dt>comp 12</dt>\n",
       "\t\t<dd>72</dd>\n",
       "\t<dt>comp 13</dt>\n",
       "\t\t<dd>74</dd>\n",
       "\t<dt>comp 14</dt>\n",
       "\t\t<dd>76</dd>\n",
       "\t<dt>comp 15</dt>\n",
       "\t\t<dd>78</dd>\n",
       "\t<dt>comp 16</dt>\n",
       "\t\t<dd>80</dd>\n",
       "\t<dt>comp 17</dt>\n",
       "\t\t<dd>82</dd>\n",
       "\t<dt>comp 18</dt>\n",
       "\t\t<dd>84</dd>\n",
       "\t<dt>comp 19</dt>\n",
       "\t\t<dd>86</dd>\n",
       "\t<dt>comp 20</dt>\n",
       "\t\t<dd>88</dd>\n",
       "\t<dt>comp 21</dt>\n",
       "\t\t<dd>90</dd>\n",
       "\t<dt>comp 22</dt>\n",
       "\t\t<dd>92</dd>\n",
       "\t<dt>comp 23</dt>\n",
       "\t\t<dd>93</dd>\n",
       "\t<dt>comp 24</dt>\n",
       "\t\t<dd>94</dd>\n",
       "\t<dt>comp 25</dt>\n",
       "\t\t<dd>95</dd>\n",
       "\t<dt>comp 26</dt>\n",
       "\t\t<dd>96</dd>\n",
       "\t<dt>comp 27</dt>\n",
       "\t\t<dd>97</dd>\n",
       "\t<dt>comp 28</dt>\n",
       "\t\t<dd>98</dd>\n",
       "\t<dt>comp 29</dt>\n",
       "\t\t<dd>99</dd>\n",
       "\t<dt>comp 30</dt>\n",
       "\t\t<dd>100</dd>\n",
       "\t<dt>comp 31</dt>\n",
       "\t\t<dd>101</dd>\n",
       "\t<dt>comp 32</dt>\n",
       "\t\t<dd>102</dd>\n",
       "\t<dt>comp 33</dt>\n",
       "\t\t<dd>102</dd>\n",
       "</dl>\n"
      ],
      "text/latex": [
       "\\begin{description*}\n",
       "\\item[comp 1] 24\n",
       "\\item[comp 2] 34\n",
       "\\item[comp 3] 40\n",
       "\\item[comp 4] 46\n",
       "\\item[comp 5] 51\n",
       "\\item[comp 6] 55\n",
       "\\item[comp 7] 58\n",
       "\\item[comp 8] 61\n",
       "\\item[comp 9] 64\n",
       "\\item[comp 10] 67\n",
       "\\item[comp 11] 70\n",
       "\\item[comp 12] 72\n",
       "\\item[comp 13] 74\n",
       "\\item[comp 14] 76\n",
       "\\item[comp 15] 78\n",
       "\\item[comp 16] 80\n",
       "\\item[comp 17] 82\n",
       "\\item[comp 18] 84\n",
       "\\item[comp 19] 86\n",
       "\\item[comp 20] 88\n",
       "\\item[comp 21] 90\n",
       "\\item[comp 22] 92\n",
       "\\item[comp 23] 93\n",
       "\\item[comp 24] 94\n",
       "\\item[comp 25] 95\n",
       "\\item[comp 26] 96\n",
       "\\item[comp 27] 97\n",
       "\\item[comp 28] 98\n",
       "\\item[comp 29] 99\n",
       "\\item[comp 30] 100\n",
       "\\item[comp 31] 101\n",
       "\\item[comp 32] 102\n",
       "\\item[comp 33] 102\n",
       "\\end{description*}\n"
      ],
      "text/markdown": [
       "comp 1\n",
       ":   24comp 2\n",
       ":   34comp 3\n",
       ":   40comp 4\n",
       ":   46comp 5\n",
       ":   51comp 6\n",
       ":   55comp 7\n",
       ":   58comp 8\n",
       ":   61comp 9\n",
       ":   64comp 10\n",
       ":   67comp 11\n",
       ":   70comp 12\n",
       ":   72comp 13\n",
       ":   74comp 14\n",
       ":   76comp 15\n",
       ":   78comp 16\n",
       ":   80comp 17\n",
       ":   82comp 18\n",
       ":   84comp 19\n",
       ":   86comp 20\n",
       ":   88comp 21\n",
       ":   90comp 22\n",
       ":   92comp 23\n",
       ":   93comp 24\n",
       ":   94comp 25\n",
       ":   95comp 26\n",
       ":   96comp 27\n",
       ":   97comp 28\n",
       ":   98comp 29\n",
       ":   99comp 30\n",
       ":   100comp 31\n",
       ":   101comp 32\n",
       ":   102comp 33\n",
       ":   102\n",
       "\n"
      ],
      "text/plain": [
       " comp 1  comp 2  comp 3  comp 4  comp 5  comp 6  comp 7  comp 8  comp 9 comp 10 \n",
       "     24      34      40      46      51      55      58      61      64      67 \n",
       "comp 11 comp 12 comp 13 comp 14 comp 15 comp 16 comp 17 comp 18 comp 19 comp 20 \n",
       "     70      72      74      76      78      80      82      84      86      88 \n",
       "comp 21 comp 22 comp 23 comp 24 comp 25 comp 26 comp 27 comp 28 comp 29 comp 30 \n",
       "     90      92      93      94      95      96      97      98      99     100 \n",
       "comp 31 comp 32 comp 33 \n",
       "    101     102     102 "
      ]
     },
     "metadata": {},
     "output_type": "display_data"
    },
    {
     "data": {
      "image/png": "[encoded data removed]",
      "text/plain": [
       "Plot with title \"Variances Explained by PCs (%)\""
      ]
     },
     "metadata": {},
     "output_type": "display_data"
    }
   ],
   "source": [
    "barplot(cumsum(res.pca$eig[, 2]), \n",
    "        names.arg = 1:nrow(res.pca$eig), \n",
    "        main = \"Variances Explained by PCs (%)\",\n",
    "        xlab = \"Principal Components\",\n",
    "        ylab = \"Percentage of variances\",\n",
    "        col =\"steelblue\")\n",
    "cumsum(round(res.pca$eig[1:33, 2]))"
   ]
  },
  {
   "cell_type": "code",
   "execution_count": 516,
   "metadata": {},
   "outputs": [
    {
     "data": {
      "image/png": "[encoded data removed]",
      "text/plain": [
       "plot without title"
      ]
     },
     "metadata": {},
     "output_type": "display_data"
    }
   ],
   "source": [
    "fviz_pca_biplot(res.pca, repel = T,\n",
    "                select.var = list(contrib = 10),\n",
    "                select.ind = list(contrib.ind = 10)) # , col.ind=factor(trainfull$cluster)"
   ]
  },
  {
   "cell_type": "markdown",
   "metadata": {},
   "source": [
    "# Exportation du trainfull modifié"
   ]
  },
  {
   "cell_type": "code",
   "execution_count": 517,
   "metadata": {},
   "outputs": [],
   "source": [
    "write.csv(trainfull, 'trainfull_modifié.csv')"
   ]
  },
  {
   "cell_type": "code",
   "execution_count": null,
   "metadata": {},
   "outputs": [],
   "source": []
  }
 ],
 "metadata": {
  "kernelspec": {
   "display_name": "R",
   "language": "R",
   "name": "ir"
  },
  "language_info": {
   "codemirror_mode": "r",
   "file_extension": ".r",
   "mimetype": "text/x-r-source",
   "name": "R",
   "pygments_lexer": "r",
   "version": "3.6.1"
  },
  "toc": {
   "base_numbering": 1,
   "nav_menu": {},
   "number_sections": true,
   "sideBar": true,
   "skip_h1_title": false,
   "title_cell": "Table of Contents",
   "title_sidebar": "Contents",
   "toc_cell": false,
   "toc_position": {
    "height": "calc(100% - 180px)",
    "left": "10px",
    "top": "150px",
    "width": "223.067px"
   },
   "toc_section_display": true,
   "toc_window_display": true
  }
 },
 "nbformat": 4,
 "nbformat_minor": 2
}
