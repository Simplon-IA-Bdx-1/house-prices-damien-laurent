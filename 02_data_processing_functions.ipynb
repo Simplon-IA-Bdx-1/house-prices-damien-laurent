{
 "cells": [
  {
   "cell_type": "code",
   "execution_count": 14,
   "metadata": {
    "scrolled": true
   },
   "outputs": [],
   "source": [
    "library(corrplot)\n",
    "library(PerformanceAnalytics)\n",
    "library(ggplot2)\n",
    "library(FactoMineR)\n",
    "library(factoextra)\n",
    "library(dplyr)\n",
    "library(lattice)\n",
    "library(cluster)\n",
    "library(visreg)\n",
    "library(car)\n",
    "library(tidyr)\n",
    "library(caret)\n",
    "library(forcats) # fct_recode function\n",
    "library(repr)    # for figure size\n",
    "library(randomForest)"
   ]
  },
  {
   "cell_type": "code",
   "execution_count": 15,
   "metadata": {},
   "outputs": [],
   "source": [
    "is.Date <- function(x) inherits(x, 'Date')"
   ]
  },
  {
   "cell_type": "code",
   "execution_count": 16,
   "metadata": {
    "scrolled": true
   },
   "outputs": [],
   "source": [
    "# library(summarytools)"
   ]
  },
  {
   "cell_type": "markdown",
   "metadata": {},
   "source": [
    "# Traitement des features"
   ]
  },
  {
   "cell_type": "markdown",
   "metadata": {},
   "source": [
    "## Variables pas vraiment numériques -> conversion en date\n",
    "\n",
    "- YearBuilt\n",
    "- YearRemodAdd\n",
    "- GarageYrBlt\n",
    "- MoSold\n",
    "- YrSold"
   ]
  },
  {
   "cell_type": "code",
   "execution_count": 17,
   "metadata": {},
   "outputs": [],
   "source": [
    "date_conversion <- function(dataframe){\n",
    "    dataframe$YearBuilt <- as.Date(\n",
    "        ISOdate(dataframe[, 'YearBuilt'], 01, 01), format = \"%Y\")\n",
    "    dataframe$YearRemodAdd <- as.Date(\n",
    "        ISOdate(dataframe[, 'YearRemodAdd'], 01, 01), format = \"%Y\")\n",
    "    dataframe$GarageYrBlt <- as.Date(\n",
    "        ISOdate(dataframe[, 'GarageYrBlt'], 01, 01), format = \"%Y\")\n",
    "    dataframe$YrSold <- as.Date(\n",
    "        ISOdate(dataframe[, 'YrSold'], dataframe[, 'MoSold'], 01), format = \"%Y\")\n",
    "\n",
    "    dataframe = select(dataframe, -MoSold)\n",
    "    return(dataframe)\n",
    "}"
   ]
  },
  {
   "cell_type": "markdown",
   "metadata": {},
   "source": [
    "## Variable non quantitative -> conversion en qualitative"
   ]
  },
  {
   "cell_type": "code",
   "execution_count": 18,
   "metadata": {},
   "outputs": [],
   "source": [
    "noqual_conversion <- function(dataframe){\n",
    "    dataframe$MSSubClass <- factor(dataframe$MSSubClass)\n",
    "    return(dataframe)\n",
    "}"
   ]
  },
  {
   "cell_type": "markdown",
   "metadata": {},
   "source": [
    "## Variables ordinales transformables :\n",
    "\n",
    "|    Feature       |       Levels      | Score Possibilty  |\n",
    "|:-----------------|:-----------------:|:-----------------:|\n",
    "|LotShape                    |irregular -> regular        |1 to 4|\n",
    "|LandContour                 |depression -> flat           |1 to 4|\n",
    "|Utilities                   |electricity only -> all      |1 to 4|\n",
    "|LandSlope                   |sever -> gentle              |1 to 3|\n",
    "|ExterQual                   |poor -> excellent            |1 to 5|\n",
    "|ExterCond                   |poor -> excellent            |1 to 5|\n",
    "|BsmtQual                    |poor -> excellent            |1 to 5|\n",
    "|BsmtCond                    |poor -> excellent            |1 to 5|\n",
    "|BsmtExposure                |no -> good                   |1 to 4|\n",
    "|BsmtFinType1                |unfinished -> good           |1 to 6|\n",
    "|BsmtFinType2                |unfinished -> good           |1 to 6|    \n",
    "|HeatingQC                   |poor -> excellent            |1 to 5|\n",
    "|CentralAir                  |no / yes                     |0 / 1 |\n",
    "|Electrical                  |poor -> standard             |1 to 5|\n",
    "|KitchenQual                 |poor -> excellent            |1 to 5|\n",
    "|Functional                  |salvage -> typical           |1 to 8|\n",
    "|FireplaceQu                 |poor -> excellent            |1 to 5|\n",
    "|GarageFinish                |unfinished -> finshed        |1 to 3|\n",
    "|GarageQual                  |poor -> excellent            |1 to 5|\n",
    "|GarageCond                  |poor -> excellent            |1 to 5|\n",
    "|PavedDrive                  |dirt -> paved                |1 to 3|\n",
    "|PoolQC                      |fair -> excellent            |1 to 4|\n",
    "|Fence                       |none -> good                 |1 to 5|"
   ]
  },
  {
   "cell_type": "code",
   "execution_count": 19,
   "metadata": {},
   "outputs": [],
   "source": [
    "quantitative_conversion <- function(dataframe){\n",
    "    dataframe$LotShape <- fct_recode(dataframe$LotShape,\n",
    "        '1' = 'IR3', '2' = 'IR2', '3' = 'IR1', '4' = 'Reg')\n",
    "    dataframe$LotShape <- as.numeric(as.character(dataframe$LotShape))\n",
    "    \n",
    "    dataframe$LandContour <- dataframe$LandContour %>%\n",
    "        fct_recode('1' = 'Low', '2' = 'HLS', '3' = 'Bnk', '4' = 'Lvl')\n",
    "    dataframe$LandContour <- as.numeric(as.character(dataframe$LandContour))\n",
    "    \n",
    "    dataframe$Utilities <- dataframe$Utilities %>%\n",
    "        fct_recode('1' = 'ELO', '2' = 'NoSeWa', '3' = 'NoSewr', '4' = 'AllPub')\n",
    "    dataframe$Utilities <- as.numeric(as.character(dataframe$Utilities))\n",
    "    \n",
    "    dataframe$LandSlope <- dataframe$LandSlope %>%\n",
    "        fct_recode('1' = 'Sev', '2' = 'Mod', '3' = 'Gtl')\n",
    "    dataframe$LandSlope <- as.numeric(as.character(dataframe$LandSlope))\n",
    "    \n",
    "    dataframe$ExterQual <- dataframe$ExterQual %>%\n",
    "        fct_recode('1' = 'Po', '2' = 'Fa', '3' = 'TA', '4' = 'Gd', '5' = 'Ex')\n",
    "    dataframe$ExterQual <- as.numeric(as.character(dataframe$ExterQual))\n",
    "    \n",
    "    dataframe$ExterCond <- dataframe$ExterCond %>%\n",
    "        fct_recode('1' = 'Po', '2' = 'Fa', '3' = 'TA', '4' = 'Gd', '5' = 'Ex')\n",
    "    dataframe$ExterCond <- as.numeric(as.character(dataframe$ExterCond))\n",
    "\n",
    "    dataframe$BsmtQual <- dataframe$BsmtQual %>%\n",
    "        fct_recode('1' = 'Po', '2' = 'Fa', '3' = 'TA', '4' = 'Gd', '5' = 'Ex')\n",
    "    dataframe$BsmtQual <- as.numeric(as.character(dataframe$BsmtQual))\n",
    "\n",
    "    dataframe$BsmtCond  <- dataframe$BsmtCond  %>%\n",
    "        fct_recode('1' = 'Po', '2' = 'Fa', '3' = 'TA', '4' = 'Gd', '5' = 'Ex')\n",
    "    dataframe$BsmtCond  <- as.numeric(as.character(dataframe$BsmtCond))\n",
    "\n",
    "    dataframe$BsmtExposure  <- dataframe$BsmtExposure  %>%\n",
    "        fct_recode('1' = 'No', '2' = 'Mn', '3' = 'Av', '4' = 'Gd')\n",
    "    dataframe$BsmtExposure  <- as.numeric(as.character(dataframe$BsmtExposure))\n",
    "\n",
    "    dataframe$BsmtFinType1  <- dataframe$BsmtFinType1  %>%\n",
    "        fct_recode('1' = 'Unf', '2' = 'LwQ', '3' = 'Rec',\n",
    "                   '4' = 'BLQ', '5' = 'ALQ', '6' = 'GLQ')\n",
    "    dataframe$BsmtFinType1  <- as.numeric(as.character(dataframe$BsmtFinType1))\n",
    "\n",
    "    dataframe$BsmtFinType2  <- dataframe$BsmtFinType2  %>%\n",
    "        fct_recode('1' = 'Unf', '2' = 'LwQ', '3' = 'Rec',\n",
    "                   '4' = 'BLQ', '5' = 'ALQ', '6' = 'GLQ')\n",
    "    dataframe$BsmtFinType2  <- as.numeric(as.character(dataframe$BsmtFinType2))\n",
    "\n",
    "    dataframe$HeatingQC  <- dataframe$HeatingQC  %>%\n",
    "        fct_recode('1' = 'Po', '2' = 'Fa', '3' = 'TA', '4' = 'Gd', '5' = 'Ex')\n",
    "    dataframe$HeatingQC  <- as.numeric(as.character(dataframe$HeatingQC))\n",
    "\n",
    "    dataframe$CentralAir  <- dataframe$CentralAir  %>%\n",
    "        fct_recode('0' = 'N', '1' = 'Y')\n",
    "    dataframe$CentralAir  <- as.numeric(as.character(dataframe$CentralAir))\n",
    "\n",
    "    dataframe$Electrical  <- dataframe$Electrical  %>%\n",
    "        fct_recode('1' = 'Mix', '2' = 'FuseP', '3' = 'FuseF', '4' = 'FuseA', '5' = 'SBrkr')\n",
    "    dataframe$Electrical  <- as.numeric(as.character(dataframe$Electrical))\n",
    "\n",
    "    dataframe$KitchenQual  <- dataframe$KitchenQual  %>%\n",
    "        fct_recode('1' = 'Po', '2' = 'Fa', '3' = 'TA', '4' = 'Gd', '5' = 'Ex')\n",
    "    dataframe$KitchenQual  <- as.numeric(as.character(dataframe$KitchenQual))\n",
    "\n",
    "    dataframe$Functional <- dataframe$Functional  %>%\n",
    "        fct_recode('1' = 'Sal', '2' = 'Sev', '3' = 'Maj2', '4' = 'Maj1',\n",
    "                   '5' = 'Mod', '6' = 'Min2', '7' = 'Min1', '8' = 'Typ')\n",
    "    dataframe$Functional <- as.numeric(as.character(dataframe$Functional))\n",
    "\n",
    "    #dataframe$FireplaceQu  <- dataframe$FireplaceQu  %>%\n",
    "    #    fct_recode('1' = 'Po', '2' = 'Fa', '3' = 'TA', '4' = 'Gd', '5' = 'Ex')\n",
    "    #dataframe$FireplaceQu  <- as.numeric(as.character(dataframe$FireplaceQu))\n",
    "\n",
    "    #dataframe$GarageFinish  <- dataframe$GarageFinish  %>%\n",
    "    #    fct_recode('1' = 'Unf', '2' = 'RFn', '3' = 'Fin')\n",
    "    #dataframe$GarageFinish  <- as.numeric(as.character(dataframe$GarageFinish))\n",
    "\n",
    "    dataframe$GarageQual  <- dataframe$GarageQual  %>%\n",
    "        fct_recode('1' = 'Po', '2' = 'Fa', '3' = 'TA', '4' = 'Gd', '5' = 'Ex')\n",
    "    dataframe$GarageQual  <- as.numeric(as.character(dataframe$GarageQual))\n",
    "\n",
    "    dataframe$GarageCond  <- dataframe$GarageCond  %>%\n",
    "        fct_recode('1' = 'Po', '2' = 'Fa', '3' = 'TA', '4' = 'Gd', '5' = 'Ex')\n",
    "    dataframe$GarageCond  <- as.numeric(as.character(dataframe$GarageCond))\n",
    "\n",
    "    dataframe$PavedDrive  <- dataframe$PavedDrive  %>%\n",
    "        fct_recode('1' = 'N', '2' = 'P', '3' = 'Y')\n",
    "    dataframe$PavedDrive  <- as.numeric(as.character(dataframe$PavedDrive))\n",
    "\n",
    "    #dataframe$PoolQC  <- dataframe$PoolQC  %>%\n",
    "    #    fct_recode('1' = 'Po', '2' = 'Fa', '3' = 'TA', '4' = 'Gd', '5' = 'Ex')\n",
    "    #dataframe$PoolQC  <- as.numeric(as.character(dataframe$PoolQC))\n",
    "\n",
    "    #dataframe$Fence  <- dataframe$Fence  %>%\n",
    "    #    fct_recode('1' = 'MnWw', '2' = 'GdWo', '3' = 'MnPrv', '4' = 'GdPrv')\n",
    "    #dataframe$Fence  <- as.numeric(as.character(dataframe$Fence))\n",
    "    \n",
    "    return(dataframe)\n",
    "}"
   ]
  },
  {
   "cell_type": "markdown",
   "metadata": {},
   "source": [
    "## Modalités avec peu de données"
   ]
  },
  {
   "cell_type": "code",
   "execution_count": 20,
   "metadata": {},
   "outputs": [],
   "source": [
    "near_zero <- function(dataframe){\n",
    "    nzv <- nearZeroVar(dataframe, saveMetrics = TRUE)\n",
    "    nzv[which(nzv$nzv == TRUE | nzv$zeroVar == TRUE),]\n",
    "    return(dataframe)\n",
    "}"
   ]
  },
  {
   "cell_type": "markdown",
   "metadata": {},
   "source": [
    "## Features avec beaucoup de 0 (3rd quartile = 0)\n",
    "\n",
    "- BsmtFinSF2\n",
    "- LowQualFinSF\n",
    "- EnclosedPorch\n",
    "- X3SsnPorch\n",
    "- ScreenPorch\n",
    "- PoolArea\n",
    "- MiscVal\n",
    "\n",
    "other nearzero alerts\n",
    "\n",
    "- LandContour\n",
    "- LandSlope\n",
    "- BsmtCond\n",
    "- BsmtFinType2\n",
    "- KitchenAbvGr\n",
    "- Functional\n",
    "- GarageQual\n",
    "- GarageCond"
   ]
  },
  {
   "cell_type": "code",
   "execution_count": 21,
   "metadata": {},
   "outputs": [],
   "source": [
    "many_zeros_delete <- function(dataframe){\n",
    "    dataframe <- select(dataframe,\n",
    "                    - BsmtFinSF2,\n",
    "                    - LowQualFinSF,\n",
    "                    - EnclosedPorch,\n",
    "                    - X3SsnPorch,\n",
    "                    - ScreenPorch,\n",
    "                    - PoolArea,\n",
    "                    - MiscVal,\n",
    "                    - LandContour,\n",
    "                    - LandSlope,\n",
    "                    - BsmtCond,\n",
    "                    - BsmtFinType2,\n",
    "                    - KitchenAbvGr,\n",
    "                    - Functional,\n",
    "                    - GarageQual,\n",
    "                    - GarageCond\n",
    "                   )\n",
    "    return(dataframe)\n",
    "}"
   ]
  },
  {
   "cell_type": "markdown",
   "metadata": {},
   "source": [
    "## Problèmes restants \n",
    "\n",
    "\n",
    "|    Feature       |       Modalité    |     Possibilty         |\n",
    "|:-----------------|:-----------------:|:-----------------------|\n",
    "|Street            |gravel = 6         |-> supprimer feature    |\n",
    "|Utilities         |Mode = 1459        |-> supprimer feature    |\n",
    "|LotConfig         |3frontages = 4     |-> supprimer lignes     |\n",
    "|Condition2        |mode = 1445/1460   |-> supprimer feature    |\n",
    "|RoofMatl          |Mode = 1434/1460   |-> RoofMatl 0/1         |\n",
    "|Foundation        |Wood= 3, stone= 6  |-> supprimer lignes     |\n",
    "|Heating           |Mode = 1428/1460   |-> convertir en 0/1     |\n",
    "|Electrical        |Mix=1, fuseP=1     |-> supprimer lignes (finalement conservé car converti en numérique)    |\n",
    "|GarageType        |2Types=6, carport=9|-> supprimer lignes     |\n",
    "|MiscFeature       |Mode = 1406/1460   |-> convertir en 0/1     |\n",
    "|SaleCondition     |AdjLand=4          |-> supprimer lignes     |\n",
    "\n",
    "\n"
   ]
  },
  {
   "cell_type": "code",
   "execution_count": 22,
   "metadata": {},
   "outputs": [],
   "source": [
    "remain_process <- function(dataframe){\n",
    "    dataframe <- select(dataframe, -Street, -Utilities, -Condition2)\n",
    "    \n",
    "    dataframe$Heating  <- dataframe$Heating  %>%\n",
    "    fct_recode('0' = 'GasA',\n",
    "               '1' = 'Floor', '1' = 'GasW', '1' = 'Grav',\n",
    "               '1' = 'OthW', '1' = 'Wall')\n",
    "    dataframe$Heating  <- as.numeric(as.character(dataframe$Heating))\n",
    "    \n",
    "    dataframe$RoofMatl  <- dataframe$RoofMatl  %>%\n",
    "    fct_recode('0' = 'CompShg',\n",
    "               '1' = 'ClyTile', '1' = 'Membran', '1' = 'Metal',\n",
    "               '1' = 'Roll', '1' = 'Tar&Grv', '1' = 'WdShake', '1' = 'WdShngl')\n",
    "    dataframe$RoofMatl  <- as.numeric(as.character(dataframe$RoofMatl))\n",
    "    \n",
    "    levels(dataframe$MiscFeature) <- c(levels(dataframe$MiscFeature), 'None')\n",
    "    dataframe$MiscFeature[which(is.na(dataframe$MiscFeature))] <- 'None'\n",
    "    dataframe$MiscFeature <- dataframe$MiscFeature  %>%\n",
    "    fct_recode('0' = 'None',\n",
    "               '1' = 'Elev', '1' = 'Gar2', '1' = 'Othr',\n",
    "               '1' = 'Shed', '1' = 'TenC')\n",
    "    dataframe$MiscFeature <- as.numeric(as.character(dataframe$MiscFeature))\n",
    "    \n",
    "    return(dataframe)\n",
    "}"
   ]
  },
  {
   "cell_type": "markdown",
   "metadata": {},
   "source": [
    "## Données manquantes\n",
    "\n",
    "|NA's  |Feature      | Possibility |\n",
    "|-----:|:------------|:------------|\n",
    "|  257 |LotFrontage  |-> supprimer lignes\n",
    "| 1350 |Alley        |-> Créer modalité None\n",
    "|    8 |MasVnrType   |-> supprimer\n",
    "|    8 |MasVnrArea   |-> supprimer\n",
    "|   37 |BsmtQual     |-> supprimer\n",
    "|   36 |BsmtCond     |-> supprimer\n",
    "|   37 |BsmtExposure |-> supprimer\n",
    "|   36 |BsmtFinType1 |-> supprimer\n",
    "|   37 |BsmtFinType2 |-> supprimer\n",
    "|    1 |Electrical   |-> supprimer\n",
    "|  673 |FireplaceQu  |-> Créer modalité None\n",
    "|   78 |GarageType   |-> supprimer feature si corrélée à une autre\n",
    "|   78 |GarageYrBlt  |-> mettre la valeur de YearBuilt\n",
    "|   78 |GarageFinish |-> Créer modalité None\n",
    "| 1430 |PoolQC       |-> Créer modalité None\n",
    "| 1161 |Fence        |-> Créer modalité None"
   ]
  },
  {
   "cell_type": "code",
   "execution_count": 23,
   "metadata": {},
   "outputs": [],
   "source": [
    "missing_data_to_none <- function(dataframe){\n",
    "    levels(dataframe$Alley) <- c(levels(dataframe$Alley), 'None')\n",
    "    dataframe$Alley[which(is.na(dataframe$Alley))] <- 'None'\n",
    "\n",
    "    levels(dataframe$FireplaceQu) <- c(levels(dataframe$FireplaceQu), 'None')\n",
    "    dataframe$FireplaceQu[which(is.na(dataframe$FireplaceQu))] <- 'None'\n",
    "\n",
    "    levels(dataframe$GarageType) <- c(levels(dataframe$GarageType), 'None')\n",
    "    dataframe$GarageType[which(is.na(dataframe$GarageType))] <- 'None'\n",
    "\n",
    "    levels(dataframe$GarageFinish) <- c(levels(dataframe$GarageFinish), 'None')\n",
    "    dataframe$GarageFinish[which(is.na(dataframe$GarageFinish))] <- 'None'\n",
    "\n",
    "    levels(dataframe$PoolQC) <- c(levels(dataframe$PoolQC), 'None')\n",
    "    dataframe$PoolQC[which(is.na(dataframe$PoolQC))] <- 'None'\n",
    "\n",
    "    levels(dataframe$Fence) <- c(levels(dataframe$Fence), 'None')\n",
    "    dataframe$Fence[which(is.na(dataframe$Fence))] <- 'None'\n",
    "\n",
    "    #dataframe <- dataframe[which(!is.na(dataframe$LotFrontage)),]\n",
    "    #dataframe <- dataframe[which(!is.na(dataframe$MasVnrType)),]\n",
    "    #dataframe <- dataframe[which(!is.na(dataframe$MasVnrArea)),]\n",
    "    #dataframe <- dataframe[which(!is.na(dataframe$BsmtQual)),]\n",
    "    #dataframe <- dataframe[which(!is.na(dataframe$BsmtExposure)),]\n",
    "    #dataframe <- dataframe[which(!is.na(dataframe$BsmtFinType1)),]\n",
    "    #dataframe <- dataframe[which(!is.na(dataframe$Electrical)),]\n",
    "\n",
    "    NA_lines = which(is.na(dataframe$GarageYrBlt))\n",
    "    dataframe$GarageYrBlt[NA_lines] <- dataframe$YearBuilt[NA_lines]\n",
    "    \n",
    "    dataframe$MasVnrType[which(is.na(dataframe$MasVnrType))] <- 'None'\n",
    "    \n",
    "    return(dataframe)\n",
    "}"
   ]
  },
  {
   "cell_type": "markdown",
   "metadata": {},
   "source": [
    "### Traitement des données NA restantes\n",
    "* var quantitative -> mise à 0\n",
    "* var qualitative -> mise au ModelMetrics"
   ]
  },
  {
   "cell_type": "code",
   "execution_count": 28,
   "metadata": {},
   "outputs": [],
   "source": [
    "missing_data_remain <- function(dataframe){\n",
    "    for (i in 1:ncol(dataframe)){\n",
    "        na_number <- length(which(is.na(dataframe[, i])))\n",
    "        if (na_number > 0){\n",
    "            if (is.null(levels(dataframe[,i]))){\n",
    "                dataframe[which(is.na(dataframe[, i])), i] <- 0\n",
    "            }\n",
    "        }\n",
    "    }\n",
    "    return(dataframe)\n",
    "}"
   ]
  },
  {
   "cell_type": "markdown",
   "metadata": {},
   "source": [
    "## Remarques :\n",
    "\n",
    "Features avec queue de distribution -> possibilité passer en log (si pas de 0)\n",
    "\n",
    "- BsmtFinSF1\n",
    "- BsmtUNFSF\n",
    "- GrLivArea\n",
    "- GarageArea\n",
    "- LotArea\n",
    "- LotFrontage\n",
    "- MasVnrArea\n",
    "- OpenPorchSF\n",
    "- SalePrice\n",
    "- TotalBsmtSF\n",
    "- WoodDeckSF\n",
    "- X1stFlrSF\n",
    "- X2ndFlrSF"
   ]
  },
  {
   "cell_type": "markdown",
   "metadata": {},
   "source": [
    "\"\"\"\n",
    "dataframe <- dataframe %>%\n",
    "    #mutate(BsmtFinSF1=log(BsmtFinSF1)) %>%\n",
    "    #mutate(BsmtUNFSF=log(BsmtUNFSF)) %>%\n",
    "    mutate_if(GrLivArea=log(GrLivArea)) %>%\n",
    "    mutate(GarageArea=log(GarageArea)) %>%\n",
    "    mutate(LotArea=log(LotArea)) %>%\n",
    "    mutate(LotFrontage=log(LotFrontage)) %>%\n",
    "    mutate(MasVnrArea=log(MasVnrArea)) %>%\n",
    "    mutate(OpenPorchSF=log(OpenPorchSF)) %>%\n",
    "    mutate(SalePrice=log(SalePrice)) %>%\n",
    "    mutate(TotalBsmtSF=log(TotalBsmtSF)) %>%\n",
    "    mutate(WoodDeckSF=log(WoodDeckSF)) %>%\n",
    "    mutate(X1stFlrSF=log(X1stFlrSF)) %>%\n",
    "    mutate(X2ndFlrSF=log(X2ndFlrSF))\n",
    "\"\"\""
   ]
  },
  {
   "cell_type": "markdown",
   "metadata": {},
   "source": [
    "Beaucoup de valeur à 0 qui semblent anormale -> mettre en NA / supprimer lignes / créer nouvelle feature ?\n",
    "- BsmtFinSF1\n",
    "- BsmtFinSF2\n",
    "- MasVnrArea\n",
    "- OpenPorchSF\n",
    "- WoodDeckSF\n",
    "- X2ndFlrSF"
   ]
  },
  {
   "cell_type": "markdown",
   "metadata": {},
   "source": [
    "## Complément des modalités manquantes dans le set qui entraîne le modèle\n",
    " => car pourraient être présentes dans le test ou en production"
   ]
  },
  {
   "cell_type": "code",
   "execution_count": 25,
   "metadata": {},
   "outputs": [],
   "source": [
    "modality_completion <- function(dataframe){\n",
    "    levels(dataframe$Exterior1st) <- c(levels(dataframe$Exterior1st), 'AsbShng', 'AsphShn', 'BrkComm', 'BrkFace', 'CBlock', 'CemntBd', 'HdBoard', 'ImStucc', 'MetalSd', 'Other', 'Plywood', 'PreCast', 'Stone', 'Stucco', 'VinylSd', 'Wd Sdng', 'WdShing')\n",
    "    levels(dataframe$Exterior2nd) <- c(levels(dataframe$Exterior2nd), 'AsbShng', 'AsphShn', 'BrkComm', 'BrkFace', 'CBlock', 'CemntBd', 'HdBoard', 'ImStucc', 'MetalSd', 'Other', 'Plywood', 'PreCast', 'Stone', 'Stucco', 'VinylSd', 'Wd Sdng', 'WdShing')\n",
    "    levels(dataframe$Foundation) <- c(levels(dataframe$Foundation), 'BrkTil', 'CBlock', 'PConc', 'Slab', 'Stone', 'Wood')\n",
    "    levels(dataframe$GarageType) <- c(levels(dataframe$GarageType), '2Types', 'Attchd', 'Basment', 'BuiltIn', 'CarPort', 'Detchd')\n",
    "    levels(dataframe$LotConfig) <- c(levels(dataframe$LotConfig), 'Inside', 'Corner', 'CulDSac', 'FR2', 'FR3')\n",
    "    levels(dataframe$MasVnrType) <- c(levels(dataframe$MasVnrType), 'BrkCmn', 'BrkFace', 'CBlock', 'None', 'Stone')\n",
    "    levels(dataframe$MSZoning) <- c(levels(dataframe$MSZoning), 'A', 'C', 'FV', 'I', 'RH', 'RL', 'RP', 'RM')\n",
    "    levels(dataframe$PoolQC) <- c(levels(dataframe$PoolQC), 'Po', 'Fa', 'TA', 'Gd', 'Ex')\n",
    "    levels(dataframe$RoofStyle) <- c(levels(dataframe$RoofStyle), 'Flat', 'Gable', 'Gambrel', 'Hip', 'Mansard', 'Shed')\n",
    "    levels(dataframe$SaleCondition) <- c(levels(dataframe$SaleCondition), 'Normal', 'Abnorml', 'AdjLand', 'Alloca', 'Family', 'Partial')\n",
    "    levels(dataframe$SaleType) <- c(levels(dataframe$SaleType), 'WD ', 'CWD', 'VWD', 'New', 'COD', 'Con', 'ConLw', 'ConLI', 'ConLD', 'Oth')\n",
    "\n",
    "    return(dataframe)\n",
    "}"
   ]
  },
  {
   "cell_type": "markdown",
   "metadata": {},
   "source": [
    "## Transformation des catégorielles restantes en colonne de modalité (one-hot encoding)"
   ]
  },
  {
   "cell_type": "code",
   "execution_count": null,
   "metadata": {},
   "outputs": [],
   "source": []
  },
  {
   "cell_type": "code",
   "execution_count": null,
   "metadata": {},
   "outputs": [],
   "source": []
  },
  {
   "cell_type": "code",
   "execution_count": null,
   "metadata": {},
   "outputs": [],
   "source": []
  }
 ],
 "metadata": {
  "kernelspec": {
   "display_name": "R",
   "language": "R",
   "name": "ir"
  },
  "language_info": {
   "codemirror_mode": "r",
   "file_extension": ".r",
   "mimetype": "text/x-r-source",
   "name": "R",
   "pygments_lexer": "r",
   "version": "3.6.1"
  },
  "toc": {
   "base_numbering": 1,
   "nav_menu": {},
   "number_sections": true,
   "sideBar": true,
   "skip_h1_title": false,
   "title_cell": "Table of Contents",
   "title_sidebar": "Contents",
   "toc_cell": false,
   "toc_position": {
    "height": "calc(100% - 180px)",
    "left": "10px",
    "top": "150px",
    "width": "223.067px"
   },
   "toc_section_display": true,
   "toc_window_display": true
  }
 },
 "nbformat": 4,
 "nbformat_minor": 2
}
